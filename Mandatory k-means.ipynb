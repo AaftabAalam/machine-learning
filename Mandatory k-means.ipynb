{
 "cells": [
  {
   "cell_type": "code",
   "execution_count": 1,
   "id": "75e4463c",
   "metadata": {},
   "outputs": [],
   "source": [
    "import numpy as np \n",
    "import pandas as pd\n",
    "import matplotlib.pyplot as mplt\n",
    "import seaborn as sb"
   ]
  },
  {
   "cell_type": "code",
   "execution_count": 2,
   "id": "5e7f4531",
   "metadata": {},
   "outputs": [
    {
     "data": {
      "text/html": [
       "<div>\n",
       "<style scoped>\n",
       "    .dataframe tbody tr th:only-of-type {\n",
       "        vertical-align: middle;\n",
       "    }\n",
       "\n",
       "    .dataframe tbody tr th {\n",
       "        vertical-align: top;\n",
       "    }\n",
       "\n",
       "    .dataframe thead th {\n",
       "        text-align: right;\n",
       "    }\n",
       "</style>\n",
       "<table border=\"1\" class=\"dataframe\">\n",
       "  <thead>\n",
       "    <tr style=\"text-align: right;\">\n",
       "      <th></th>\n",
       "      <th>status_id</th>\n",
       "      <th>status_type</th>\n",
       "      <th>status_published</th>\n",
       "      <th>num_reactions</th>\n",
       "      <th>num_comments</th>\n",
       "      <th>num_shares</th>\n",
       "      <th>num_likes</th>\n",
       "      <th>num_loves</th>\n",
       "      <th>num_wows</th>\n",
       "      <th>num_hahas</th>\n",
       "      <th>num_sads</th>\n",
       "      <th>num_angrys</th>\n",
       "      <th>Column1</th>\n",
       "      <th>Column2</th>\n",
       "      <th>Column3</th>\n",
       "      <th>Column4</th>\n",
       "    </tr>\n",
       "  </thead>\n",
       "  <tbody>\n",
       "    <tr>\n",
       "      <th>0</th>\n",
       "      <td>246675545449582_1649696485147474</td>\n",
       "      <td>video</td>\n",
       "      <td>4/22/2018 6:00</td>\n",
       "      <td>529</td>\n",
       "      <td>512</td>\n",
       "      <td>262</td>\n",
       "      <td>432</td>\n",
       "      <td>92</td>\n",
       "      <td>3</td>\n",
       "      <td>1</td>\n",
       "      <td>1</td>\n",
       "      <td>0</td>\n",
       "      <td>NaN</td>\n",
       "      <td>NaN</td>\n",
       "      <td>NaN</td>\n",
       "      <td>NaN</td>\n",
       "    </tr>\n",
       "    <tr>\n",
       "      <th>1</th>\n",
       "      <td>246675545449582_1649426988507757</td>\n",
       "      <td>photo</td>\n",
       "      <td>4/21/2018 22:45</td>\n",
       "      <td>150</td>\n",
       "      <td>0</td>\n",
       "      <td>0</td>\n",
       "      <td>150</td>\n",
       "      <td>0</td>\n",
       "      <td>0</td>\n",
       "      <td>0</td>\n",
       "      <td>0</td>\n",
       "      <td>0</td>\n",
       "      <td>NaN</td>\n",
       "      <td>NaN</td>\n",
       "      <td>NaN</td>\n",
       "      <td>NaN</td>\n",
       "    </tr>\n",
       "    <tr>\n",
       "      <th>2</th>\n",
       "      <td>246675545449582_1648730588577397</td>\n",
       "      <td>video</td>\n",
       "      <td>4/21/2018 6:17</td>\n",
       "      <td>227</td>\n",
       "      <td>236</td>\n",
       "      <td>57</td>\n",
       "      <td>204</td>\n",
       "      <td>21</td>\n",
       "      <td>1</td>\n",
       "      <td>1</td>\n",
       "      <td>0</td>\n",
       "      <td>0</td>\n",
       "      <td>NaN</td>\n",
       "      <td>NaN</td>\n",
       "      <td>NaN</td>\n",
       "      <td>NaN</td>\n",
       "    </tr>\n",
       "    <tr>\n",
       "      <th>3</th>\n",
       "      <td>246675545449582_1648576705259452</td>\n",
       "      <td>photo</td>\n",
       "      <td>4/21/2018 2:29</td>\n",
       "      <td>111</td>\n",
       "      <td>0</td>\n",
       "      <td>0</td>\n",
       "      <td>111</td>\n",
       "      <td>0</td>\n",
       "      <td>0</td>\n",
       "      <td>0</td>\n",
       "      <td>0</td>\n",
       "      <td>0</td>\n",
       "      <td>NaN</td>\n",
       "      <td>NaN</td>\n",
       "      <td>NaN</td>\n",
       "      <td>NaN</td>\n",
       "    </tr>\n",
       "    <tr>\n",
       "      <th>4</th>\n",
       "      <td>246675545449582_1645700502213739</td>\n",
       "      <td>photo</td>\n",
       "      <td>4/18/2018 3:22</td>\n",
       "      <td>213</td>\n",
       "      <td>0</td>\n",
       "      <td>0</td>\n",
       "      <td>204</td>\n",
       "      <td>9</td>\n",
       "      <td>0</td>\n",
       "      <td>0</td>\n",
       "      <td>0</td>\n",
       "      <td>0</td>\n",
       "      <td>NaN</td>\n",
       "      <td>NaN</td>\n",
       "      <td>NaN</td>\n",
       "      <td>NaN</td>\n",
       "    </tr>\n",
       "    <tr>\n",
       "      <th>...</th>\n",
       "      <td>...</td>\n",
       "      <td>...</td>\n",
       "      <td>...</td>\n",
       "      <td>...</td>\n",
       "      <td>...</td>\n",
       "      <td>...</td>\n",
       "      <td>...</td>\n",
       "      <td>...</td>\n",
       "      <td>...</td>\n",
       "      <td>...</td>\n",
       "      <td>...</td>\n",
       "      <td>...</td>\n",
       "      <td>...</td>\n",
       "      <td>...</td>\n",
       "      <td>...</td>\n",
       "      <td>...</td>\n",
       "    </tr>\n",
       "    <tr>\n",
       "      <th>7045</th>\n",
       "      <td>1050855161656896_1061863470556065</td>\n",
       "      <td>photo</td>\n",
       "      <td>9/24/2016 2:58</td>\n",
       "      <td>89</td>\n",
       "      <td>0</td>\n",
       "      <td>0</td>\n",
       "      <td>89</td>\n",
       "      <td>0</td>\n",
       "      <td>0</td>\n",
       "      <td>0</td>\n",
       "      <td>0</td>\n",
       "      <td>0</td>\n",
       "      <td>NaN</td>\n",
       "      <td>NaN</td>\n",
       "      <td>NaN</td>\n",
       "      <td>NaN</td>\n",
       "    </tr>\n",
       "    <tr>\n",
       "      <th>7046</th>\n",
       "      <td>1050855161656896_1061334757275603</td>\n",
       "      <td>photo</td>\n",
       "      <td>9/23/2016 11:19</td>\n",
       "      <td>16</td>\n",
       "      <td>0</td>\n",
       "      <td>0</td>\n",
       "      <td>14</td>\n",
       "      <td>1</td>\n",
       "      <td>0</td>\n",
       "      <td>1</td>\n",
       "      <td>0</td>\n",
       "      <td>0</td>\n",
       "      <td>NaN</td>\n",
       "      <td>NaN</td>\n",
       "      <td>NaN</td>\n",
       "      <td>NaN</td>\n",
       "    </tr>\n",
       "    <tr>\n",
       "      <th>7047</th>\n",
       "      <td>1050855161656896_1060126464063099</td>\n",
       "      <td>photo</td>\n",
       "      <td>9/21/2016 23:03</td>\n",
       "      <td>2</td>\n",
       "      <td>0</td>\n",
       "      <td>0</td>\n",
       "      <td>1</td>\n",
       "      <td>1</td>\n",
       "      <td>0</td>\n",
       "      <td>0</td>\n",
       "      <td>0</td>\n",
       "      <td>0</td>\n",
       "      <td>NaN</td>\n",
       "      <td>NaN</td>\n",
       "      <td>NaN</td>\n",
       "      <td>NaN</td>\n",
       "    </tr>\n",
       "    <tr>\n",
       "      <th>7048</th>\n",
       "      <td>1050855161656896_1058663487542730</td>\n",
       "      <td>photo</td>\n",
       "      <td>9/20/2016 0:43</td>\n",
       "      <td>351</td>\n",
       "      <td>12</td>\n",
       "      <td>22</td>\n",
       "      <td>349</td>\n",
       "      <td>2</td>\n",
       "      <td>0</td>\n",
       "      <td>0</td>\n",
       "      <td>0</td>\n",
       "      <td>0</td>\n",
       "      <td>NaN</td>\n",
       "      <td>NaN</td>\n",
       "      <td>NaN</td>\n",
       "      <td>NaN</td>\n",
       "    </tr>\n",
       "    <tr>\n",
       "      <th>7049</th>\n",
       "      <td>1050855161656896_1050858841656528</td>\n",
       "      <td>photo</td>\n",
       "      <td>9/10/2016 10:30</td>\n",
       "      <td>17</td>\n",
       "      <td>0</td>\n",
       "      <td>0</td>\n",
       "      <td>17</td>\n",
       "      <td>0</td>\n",
       "      <td>0</td>\n",
       "      <td>0</td>\n",
       "      <td>0</td>\n",
       "      <td>0</td>\n",
       "      <td>NaN</td>\n",
       "      <td>NaN</td>\n",
       "      <td>NaN</td>\n",
       "      <td>NaN</td>\n",
       "    </tr>\n",
       "  </tbody>\n",
       "</table>\n",
       "<p>7050 rows × 16 columns</p>\n",
       "</div>"
      ],
      "text/plain": [
       "                              status_id status_type status_published   \n",
       "0      246675545449582_1649696485147474       video   4/22/2018 6:00  \\\n",
       "1      246675545449582_1649426988507757       photo  4/21/2018 22:45   \n",
       "2      246675545449582_1648730588577397       video   4/21/2018 6:17   \n",
       "3      246675545449582_1648576705259452       photo   4/21/2018 2:29   \n",
       "4      246675545449582_1645700502213739       photo   4/18/2018 3:22   \n",
       "...                                 ...         ...              ...   \n",
       "7045  1050855161656896_1061863470556065       photo   9/24/2016 2:58   \n",
       "7046  1050855161656896_1061334757275603       photo  9/23/2016 11:19   \n",
       "7047  1050855161656896_1060126464063099       photo  9/21/2016 23:03   \n",
       "7048  1050855161656896_1058663487542730       photo   9/20/2016 0:43   \n",
       "7049  1050855161656896_1050858841656528       photo  9/10/2016 10:30   \n",
       "\n",
       "      num_reactions  num_comments  num_shares  num_likes  num_loves  num_wows   \n",
       "0               529           512         262        432         92         3  \\\n",
       "1               150             0           0        150          0         0   \n",
       "2               227           236          57        204         21         1   \n",
       "3               111             0           0        111          0         0   \n",
       "4               213             0           0        204          9         0   \n",
       "...             ...           ...         ...        ...        ...       ...   \n",
       "7045             89             0           0         89          0         0   \n",
       "7046             16             0           0         14          1         0   \n",
       "7047              2             0           0          1          1         0   \n",
       "7048            351            12          22        349          2         0   \n",
       "7049             17             0           0         17          0         0   \n",
       "\n",
       "      num_hahas  num_sads  num_angrys  Column1  Column2  Column3  Column4  \n",
       "0             1         1           0      NaN      NaN      NaN      NaN  \n",
       "1             0         0           0      NaN      NaN      NaN      NaN  \n",
       "2             1         0           0      NaN      NaN      NaN      NaN  \n",
       "3             0         0           0      NaN      NaN      NaN      NaN  \n",
       "4             0         0           0      NaN      NaN      NaN      NaN  \n",
       "...         ...       ...         ...      ...      ...      ...      ...  \n",
       "7045          0         0           0      NaN      NaN      NaN      NaN  \n",
       "7046          1         0           0      NaN      NaN      NaN      NaN  \n",
       "7047          0         0           0      NaN      NaN      NaN      NaN  \n",
       "7048          0         0           0      NaN      NaN      NaN      NaN  \n",
       "7049          0         0           0      NaN      NaN      NaN      NaN  \n",
       "\n",
       "[7050 rows x 16 columns]"
      ]
     },
     "execution_count": 2,
     "metadata": {},
     "output_type": "execute_result"
    }
   ],
   "source": [
    "live_sell = pd.read_csv('Live.csv')\n",
    "live_sell"
   ]
  },
  {
   "cell_type": "code",
   "execution_count": 3,
   "id": "e5ba2971",
   "metadata": {},
   "outputs": [
    {
     "data": {
      "text/plain": [
       "status_id              0\n",
       "status_type            0\n",
       "status_published       0\n",
       "num_reactions          0\n",
       "num_comments           0\n",
       "num_shares             0\n",
       "num_likes              0\n",
       "num_loves              0\n",
       "num_wows               0\n",
       "num_hahas              0\n",
       "num_sads               0\n",
       "num_angrys             0\n",
       "Column1             7050\n",
       "Column2             7050\n",
       "Column3             7050\n",
       "Column4             7050\n",
       "dtype: int64"
      ]
     },
     "execution_count": 3,
     "metadata": {},
     "output_type": "execute_result"
    }
   ],
   "source": [
    "live_sell.isna().sum()"
   ]
  },
  {
   "cell_type": "markdown",
   "id": "b97fa2d2",
   "metadata": {},
   "source": [
    "Answer 1 : a. 4"
   ]
  },
  {
   "cell_type": "code",
   "execution_count": 4,
   "id": "1f0e579f",
   "metadata": {},
   "outputs": [
    {
     "data": {
      "text/plain": [
       "6997"
      ]
     },
     "execution_count": 4,
     "metadata": {},
     "output_type": "execute_result"
    }
   ],
   "source": [
    "live_sell['status_id'].nunique()"
   ]
  },
  {
   "cell_type": "markdown",
   "id": "feaec1e2",
   "metadata": {},
   "source": [
    "Answer 2 : d. 6997"
   ]
  },
  {
   "cell_type": "code",
   "execution_count": 5,
   "id": "dc8c32f3",
   "metadata": {},
   "outputs": [
    {
     "data": {
      "text/plain": [
       "4"
      ]
     },
     "execution_count": 5,
     "metadata": {},
     "output_type": "execute_result"
    }
   ],
   "source": [
    "live_sell['status_type'].nunique()"
   ]
  },
  {
   "cell_type": "code",
   "execution_count": 6,
   "id": "8a75ced6",
   "metadata": {},
   "outputs": [
    {
     "data": {
      "text/plain": [
       "160     photo\n",
       "161     photo\n",
       "162     photo\n",
       "163    status\n",
       "164     video\n",
       "165     photo\n",
       "166     photo\n",
       "167     video\n",
       "168     photo\n",
       "169     photo\n",
       "170     photo\n",
       "171     photo\n",
       "172     video\n",
       "173     photo\n",
       "174     photo\n",
       "175     photo\n",
       "176     photo\n",
       "177     video\n",
       "178     photo\n",
       "179     photo\n",
       "180     photo\n",
       "181     video\n",
       "182     photo\n",
       "183     photo\n",
       "184     photo\n",
       "185     photo\n",
       "186     photo\n",
       "187     video\n",
       "188     photo\n",
       "189     photo\n",
       "190     video\n",
       "191     photo\n",
       "192     photo\n",
       "193     photo\n",
       "194     video\n",
       "195     photo\n",
       "196     photo\n",
       "197     video\n",
       "198     video\n",
       "199     photo\n",
       "Name: status_type, dtype: object"
      ]
     },
     "execution_count": 6,
     "metadata": {},
     "output_type": "execute_result"
    }
   ],
   "source": [
    "live_sell['status_type'][160:200]"
   ]
  },
  {
   "cell_type": "code",
   "execution_count": 7,
   "id": "932dd878",
   "metadata": {},
   "outputs": [
    {
     "data": {
      "text/plain": [
       "status_type\n",
       "photo     4288\n",
       "video     2334\n",
       "status     365\n",
       "link        63\n",
       "Name: count, dtype: int64"
      ]
     },
     "execution_count": 7,
     "metadata": {},
     "output_type": "execute_result"
    }
   ],
   "source": [
    "live_sell['status_type'].value_counts()"
   ]
  },
  {
   "cell_type": "markdown",
   "id": "8a5b7016",
   "metadata": {},
   "source": [
    "Answer 3 : a. 2334"
   ]
  },
  {
   "cell_type": "code",
   "execution_count": 8,
   "id": "3631e020",
   "metadata": {},
   "outputs": [
    {
     "data": {
      "text/html": [
       "<div>\n",
       "<style scoped>\n",
       "    .dataframe tbody tr th:only-of-type {\n",
       "        vertical-align: middle;\n",
       "    }\n",
       "\n",
       "    .dataframe tbody tr th {\n",
       "        vertical-align: top;\n",
       "    }\n",
       "\n",
       "    .dataframe thead th {\n",
       "        text-align: right;\n",
       "    }\n",
       "</style>\n",
       "<table border=\"1\" class=\"dataframe\">\n",
       "  <thead>\n",
       "    <tr style=\"text-align: right;\">\n",
       "      <th></th>\n",
       "      <th>status_id</th>\n",
       "      <th>status_type</th>\n",
       "      <th>status_published</th>\n",
       "      <th>num_reactions</th>\n",
       "      <th>num_comments</th>\n",
       "      <th>num_shares</th>\n",
       "      <th>num_likes</th>\n",
       "      <th>num_loves</th>\n",
       "      <th>num_wows</th>\n",
       "      <th>num_hahas</th>\n",
       "      <th>num_sads</th>\n",
       "      <th>num_angrys</th>\n",
       "      <th>Column1</th>\n",
       "      <th>Column2</th>\n",
       "      <th>Column3</th>\n",
       "      <th>Column4</th>\n",
       "    </tr>\n",
       "  </thead>\n",
       "  <tbody>\n",
       "    <tr>\n",
       "      <th>4592</th>\n",
       "      <td>725980084255106_850951205091326</td>\n",
       "      <td>photo</td>\n",
       "      <td>4/19/2018 22:26</td>\n",
       "      <td>383</td>\n",
       "      <td>5</td>\n",
       "      <td>6</td>\n",
       "      <td>379</td>\n",
       "      <td>2</td>\n",
       "      <td>2</td>\n",
       "      <td>0</td>\n",
       "      <td>0</td>\n",
       "      <td>0</td>\n",
       "      <td>NaN</td>\n",
       "      <td>NaN</td>\n",
       "      <td>NaN</td>\n",
       "      <td>NaN</td>\n",
       "    </tr>\n",
       "  </tbody>\n",
       "</table>\n",
       "</div>"
      ],
      "text/plain": [
       "                            status_id status_type status_published   \n",
       "4592  725980084255106_850951205091326       photo  4/19/2018 22:26  \\\n",
       "\n",
       "      num_reactions  num_comments  num_shares  num_likes  num_loves  num_wows   \n",
       "4592            383             5           6        379          2         2  \\\n",
       "\n",
       "      num_hahas  num_sads  num_angrys  Column1  Column2  Column3  Column4  \n",
       "4592          0         0           0      NaN      NaN      NaN      NaN  "
      ]
     },
     "execution_count": 8,
     "metadata": {},
     "output_type": "execute_result"
    }
   ],
   "source": [
    "live_sell[live_sell['status_published'] ==  '4/19/2018 22:26']"
   ]
  },
  {
   "cell_type": "markdown",
   "id": "197369d6",
   "metadata": {},
   "source": [
    "Answer 4 : b. 379"
   ]
  },
  {
   "cell_type": "code",
   "execution_count": 9,
   "id": "c803e87b",
   "metadata": {},
   "outputs": [
    {
     "data": {
      "text/html": [
       "<div>\n",
       "<style scoped>\n",
       "    .dataframe tbody tr th:only-of-type {\n",
       "        vertical-align: middle;\n",
       "    }\n",
       "\n",
       "    .dataframe tbody tr th {\n",
       "        vertical-align: top;\n",
       "    }\n",
       "\n",
       "    .dataframe thead th {\n",
       "        text-align: right;\n",
       "    }\n",
       "</style>\n",
       "<table border=\"1\" class=\"dataframe\">\n",
       "  <thead>\n",
       "    <tr style=\"text-align: right;\">\n",
       "      <th></th>\n",
       "      <th>status_id</th>\n",
       "      <th>status_type</th>\n",
       "      <th>status_published</th>\n",
       "      <th>num_reactions</th>\n",
       "      <th>num_comments</th>\n",
       "      <th>num_shares</th>\n",
       "      <th>num_likes</th>\n",
       "      <th>num_loves</th>\n",
       "      <th>num_wows</th>\n",
       "      <th>num_hahas</th>\n",
       "      <th>num_sads</th>\n",
       "      <th>num_angrys</th>\n",
       "      <th>Column1</th>\n",
       "      <th>Column2</th>\n",
       "      <th>Column3</th>\n",
       "      <th>Column4</th>\n",
       "    </tr>\n",
       "  </thead>\n",
       "  <tbody>\n",
       "    <tr>\n",
       "      <th>6977</th>\n",
       "      <td>1050855161656896_1339706342771775</td>\n",
       "      <td>video</td>\n",
       "      <td>7/15/2017 10:52</td>\n",
       "      <td>253</td>\n",
       "      <td>4432</td>\n",
       "      <td>167</td>\n",
       "      <td>209</td>\n",
       "      <td>29</td>\n",
       "      <td>5</td>\n",
       "      <td>5</td>\n",
       "      <td>5</td>\n",
       "      <td>0</td>\n",
       "      <td>NaN</td>\n",
       "      <td>NaN</td>\n",
       "      <td>NaN</td>\n",
       "      <td>NaN</td>\n",
       "    </tr>\n",
       "  </tbody>\n",
       "</table>\n",
       "</div>"
      ],
      "text/plain": [
       "                              status_id status_type status_published   \n",
       "6977  1050855161656896_1339706342771775       video  7/15/2017 10:52  \\\n",
       "\n",
       "      num_reactions  num_comments  num_shares  num_likes  num_loves  num_wows   \n",
       "6977            253          4432         167        209         29         5  \\\n",
       "\n",
       "      num_hahas  num_sads  num_angrys  Column1  Column2  Column3  Column4  \n",
       "6977          5         5           0      NaN      NaN      NaN      NaN  "
      ]
     },
     "execution_count": 9,
     "metadata": {},
     "output_type": "execute_result"
    }
   ],
   "source": [
    "live_sell[live_sell['status_published'] == '7/15/2017 10:52']"
   ]
  },
  {
   "cell_type": "markdown",
   "id": "c6d61754",
   "metadata": {},
   "source": [
    "Answer 5 : b. 167"
   ]
  },
  {
   "cell_type": "markdown",
   "id": "942b973e",
   "metadata": {},
   "source": [
    "Answer 6 : a. Group similar elements"
   ]
  },
  {
   "cell_type": "code",
   "execution_count": 10,
   "id": "c04cea72",
   "metadata": {},
   "outputs": [
    {
     "ename": "TypeError",
     "evalue": "list indices must be integers or slices, not str",
     "output_type": "error",
     "traceback": [
      "\u001b[0;31m---------------------------------------------------------------------------\u001b[0m",
      "\u001b[0;31mTypeError\u001b[0m                                 Traceback (most recent call last)",
      "Cell \u001b[0;32mIn[10], line 4\u001b[0m\n\u001b[1;32m      2\u001b[0m n\u001b[38;5;241m=\u001b[39m\u001b[38;5;241m0\u001b[39m\n\u001b[1;32m      3\u001b[0m \u001b[38;5;28;01mfor\u001b[39;00m i \u001b[38;5;129;01min\u001b[39;00m \u001b[38;5;28mrange\u001b[39m(\u001b[38;5;241m0\u001b[39m,\u001b[38;5;28mlen\u001b[39m(colour)):\n\u001b[0;32m----> 4\u001b[0m     mplt\u001b[38;5;241m.\u001b[39mscatter(\u001b[43mcolour\u001b[49m\u001b[43m[\u001b[49m\u001b[38;5;124;43m'\u001b[39;49m\u001b[38;5;124;43mcluster(5)\u001b[39;49m\u001b[38;5;124;43m'\u001b[39;49m\u001b[43m]\u001b[49m\u001b[38;5;241m==\u001b[39mi,cluster[\u001b[38;5;124m'\u001b[39m\u001b[38;5;124mcluster(5)\u001b[39m\u001b[38;5;124m'\u001b[39m]\u001b[38;5;241m==\u001b[39mi,s\u001b[38;5;241m=\u001b[39m\u001b[38;5;241m10\u001b[39m,c\u001b[38;5;241m=\u001b[39mcolour[i])\n\u001b[1;32m      5\u001b[0m     mplt\u001b[38;5;241m.\u001b[39mscatter(k\u001b[38;5;241m.\u001b[39mcluster_centers_[:,\u001b[38;5;241m0\u001b[39m],k\u001b[38;5;241m.\u001b[39mcluster_centers_[:,\u001b[38;5;241m1\u001b[39m],color\u001b[38;5;241m=\u001b[39m\u001b[38;5;124m'\u001b[39m\u001b[38;5;124mblack\u001b[39m\u001b[38;5;124m'\u001b[39m)\n",
      "\u001b[0;31mTypeError\u001b[0m: list indices must be integers or slices, not str"
     ]
    }
   ],
   "source": [
    "colour=['red','blue','green','yellow','cyan'] \n",
    "n=0\n",
    "for i in range(0,len(colour)):\n",
    "    mplt.scatter(colour['cluster(5)']==i,cluster['cluster(5)']==i,s=10,c=colour[i])\n",
    "    mplt.scatter(k.cluster_centers_[:,0],k.cluster_centers_[:,1],color='black')"
   ]
  },
  {
   "cell_type": "markdown",
   "id": "4d162b71",
   "metadata": {},
   "source": [
    "Answer 7 : a. Gives an error"
   ]
  },
  {
   "cell_type": "markdown",
   "id": "dcc56307",
   "metadata": {},
   "source": [
    "Answer 8 : a. Elbow method"
   ]
  },
  {
   "cell_type": "markdown",
   "id": "17025945",
   "metadata": {},
   "source": [
    "Answer 9 : c. Clustering"
   ]
  },
  {
   "cell_type": "markdown",
   "id": "44bdcbd9",
   "metadata": {},
   "source": [
    "Answer 10 : a. True"
   ]
  },
  {
   "cell_type": "markdown",
   "id": "3e9ae36a",
   "metadata": {},
   "source": [
    "Answer 11 : a. KMeans"
   ]
  },
  {
   "cell_type": "markdown",
   "id": "2024a58d",
   "metadata": {},
   "source": [
    "Answer 12 : b. fit()"
   ]
  },
  {
   "cell_type": "markdown",
   "id": "236ebd85",
   "metadata": {},
   "source": [
    "Answer 13 : d. All of the above."
   ]
  },
  {
   "cell_type": "markdown",
   "id": "20cc2dd3",
   "metadata": {},
   "source": [
    "Answer 14 : c. Labels_"
   ]
  },
  {
   "cell_type": "markdown",
   "id": "00f89515",
   "metadata": {},
   "source": [
    "Answer 15 : c. Adding standard values"
   ]
  },
  {
   "cell_type": "code",
   "execution_count": 11,
   "id": "1639c249",
   "metadata": {},
   "outputs": [
    {
     "data": {
      "text/html": [
       "<div>\n",
       "<style scoped>\n",
       "    .dataframe tbody tr th:only-of-type {\n",
       "        vertical-align: middle;\n",
       "    }\n",
       "\n",
       "    .dataframe tbody tr th {\n",
       "        vertical-align: top;\n",
       "    }\n",
       "\n",
       "    .dataframe thead th {\n",
       "        text-align: right;\n",
       "    }\n",
       "</style>\n",
       "<table border=\"1\" class=\"dataframe\">\n",
       "  <thead>\n",
       "    <tr style=\"text-align: right;\">\n",
       "      <th></th>\n",
       "      <th>status_id</th>\n",
       "      <th>status_type</th>\n",
       "      <th>status_published</th>\n",
       "      <th>num_reactions</th>\n",
       "      <th>num_comments</th>\n",
       "      <th>num_shares</th>\n",
       "      <th>num_likes</th>\n",
       "      <th>num_loves</th>\n",
       "      <th>num_wows</th>\n",
       "      <th>num_hahas</th>\n",
       "      <th>num_sads</th>\n",
       "      <th>num_angrys</th>\n",
       "      <th>Column1</th>\n",
       "      <th>Column2</th>\n",
       "      <th>Column3</th>\n",
       "      <th>Column4</th>\n",
       "    </tr>\n",
       "  </thead>\n",
       "  <tbody>\n",
       "    <tr>\n",
       "      <th>0</th>\n",
       "      <td>246675545449582_1649696485147474</td>\n",
       "      <td>video</td>\n",
       "      <td>4/22/2018 6:00</td>\n",
       "      <td>529</td>\n",
       "      <td>512</td>\n",
       "      <td>262</td>\n",
       "      <td>432</td>\n",
       "      <td>92</td>\n",
       "      <td>3</td>\n",
       "      <td>1</td>\n",
       "      <td>1</td>\n",
       "      <td>0</td>\n",
       "      <td>NaN</td>\n",
       "      <td>NaN</td>\n",
       "      <td>NaN</td>\n",
       "      <td>NaN</td>\n",
       "    </tr>\n",
       "    <tr>\n",
       "      <th>1</th>\n",
       "      <td>246675545449582_1649426988507757</td>\n",
       "      <td>photo</td>\n",
       "      <td>4/21/2018 22:45</td>\n",
       "      <td>150</td>\n",
       "      <td>0</td>\n",
       "      <td>0</td>\n",
       "      <td>150</td>\n",
       "      <td>0</td>\n",
       "      <td>0</td>\n",
       "      <td>0</td>\n",
       "      <td>0</td>\n",
       "      <td>0</td>\n",
       "      <td>NaN</td>\n",
       "      <td>NaN</td>\n",
       "      <td>NaN</td>\n",
       "      <td>NaN</td>\n",
       "    </tr>\n",
       "    <tr>\n",
       "      <th>2</th>\n",
       "      <td>246675545449582_1648730588577397</td>\n",
       "      <td>video</td>\n",
       "      <td>4/21/2018 6:17</td>\n",
       "      <td>227</td>\n",
       "      <td>236</td>\n",
       "      <td>57</td>\n",
       "      <td>204</td>\n",
       "      <td>21</td>\n",
       "      <td>1</td>\n",
       "      <td>1</td>\n",
       "      <td>0</td>\n",
       "      <td>0</td>\n",
       "      <td>NaN</td>\n",
       "      <td>NaN</td>\n",
       "      <td>NaN</td>\n",
       "      <td>NaN</td>\n",
       "    </tr>\n",
       "    <tr>\n",
       "      <th>3</th>\n",
       "      <td>246675545449582_1648576705259452</td>\n",
       "      <td>photo</td>\n",
       "      <td>4/21/2018 2:29</td>\n",
       "      <td>111</td>\n",
       "      <td>0</td>\n",
       "      <td>0</td>\n",
       "      <td>111</td>\n",
       "      <td>0</td>\n",
       "      <td>0</td>\n",
       "      <td>0</td>\n",
       "      <td>0</td>\n",
       "      <td>0</td>\n",
       "      <td>NaN</td>\n",
       "      <td>NaN</td>\n",
       "      <td>NaN</td>\n",
       "      <td>NaN</td>\n",
       "    </tr>\n",
       "    <tr>\n",
       "      <th>4</th>\n",
       "      <td>246675545449582_1645700502213739</td>\n",
       "      <td>photo</td>\n",
       "      <td>4/18/2018 3:22</td>\n",
       "      <td>213</td>\n",
       "      <td>0</td>\n",
       "      <td>0</td>\n",
       "      <td>204</td>\n",
       "      <td>9</td>\n",
       "      <td>0</td>\n",
       "      <td>0</td>\n",
       "      <td>0</td>\n",
       "      <td>0</td>\n",
       "      <td>NaN</td>\n",
       "      <td>NaN</td>\n",
       "      <td>NaN</td>\n",
       "      <td>NaN</td>\n",
       "    </tr>\n",
       "    <tr>\n",
       "      <th>...</th>\n",
       "      <td>...</td>\n",
       "      <td>...</td>\n",
       "      <td>...</td>\n",
       "      <td>...</td>\n",
       "      <td>...</td>\n",
       "      <td>...</td>\n",
       "      <td>...</td>\n",
       "      <td>...</td>\n",
       "      <td>...</td>\n",
       "      <td>...</td>\n",
       "      <td>...</td>\n",
       "      <td>...</td>\n",
       "      <td>...</td>\n",
       "      <td>...</td>\n",
       "      <td>...</td>\n",
       "      <td>...</td>\n",
       "    </tr>\n",
       "    <tr>\n",
       "      <th>7045</th>\n",
       "      <td>1050855161656896_1061863470556065</td>\n",
       "      <td>photo</td>\n",
       "      <td>9/24/2016 2:58</td>\n",
       "      <td>89</td>\n",
       "      <td>0</td>\n",
       "      <td>0</td>\n",
       "      <td>89</td>\n",
       "      <td>0</td>\n",
       "      <td>0</td>\n",
       "      <td>0</td>\n",
       "      <td>0</td>\n",
       "      <td>0</td>\n",
       "      <td>NaN</td>\n",
       "      <td>NaN</td>\n",
       "      <td>NaN</td>\n",
       "      <td>NaN</td>\n",
       "    </tr>\n",
       "    <tr>\n",
       "      <th>7046</th>\n",
       "      <td>1050855161656896_1061334757275603</td>\n",
       "      <td>photo</td>\n",
       "      <td>9/23/2016 11:19</td>\n",
       "      <td>16</td>\n",
       "      <td>0</td>\n",
       "      <td>0</td>\n",
       "      <td>14</td>\n",
       "      <td>1</td>\n",
       "      <td>0</td>\n",
       "      <td>1</td>\n",
       "      <td>0</td>\n",
       "      <td>0</td>\n",
       "      <td>NaN</td>\n",
       "      <td>NaN</td>\n",
       "      <td>NaN</td>\n",
       "      <td>NaN</td>\n",
       "    </tr>\n",
       "    <tr>\n",
       "      <th>7047</th>\n",
       "      <td>1050855161656896_1060126464063099</td>\n",
       "      <td>photo</td>\n",
       "      <td>9/21/2016 23:03</td>\n",
       "      <td>2</td>\n",
       "      <td>0</td>\n",
       "      <td>0</td>\n",
       "      <td>1</td>\n",
       "      <td>1</td>\n",
       "      <td>0</td>\n",
       "      <td>0</td>\n",
       "      <td>0</td>\n",
       "      <td>0</td>\n",
       "      <td>NaN</td>\n",
       "      <td>NaN</td>\n",
       "      <td>NaN</td>\n",
       "      <td>NaN</td>\n",
       "    </tr>\n",
       "    <tr>\n",
       "      <th>7048</th>\n",
       "      <td>1050855161656896_1058663487542730</td>\n",
       "      <td>photo</td>\n",
       "      <td>9/20/2016 0:43</td>\n",
       "      <td>351</td>\n",
       "      <td>12</td>\n",
       "      <td>22</td>\n",
       "      <td>349</td>\n",
       "      <td>2</td>\n",
       "      <td>0</td>\n",
       "      <td>0</td>\n",
       "      <td>0</td>\n",
       "      <td>0</td>\n",
       "      <td>NaN</td>\n",
       "      <td>NaN</td>\n",
       "      <td>NaN</td>\n",
       "      <td>NaN</td>\n",
       "    </tr>\n",
       "    <tr>\n",
       "      <th>7049</th>\n",
       "      <td>1050855161656896_1050858841656528</td>\n",
       "      <td>photo</td>\n",
       "      <td>9/10/2016 10:30</td>\n",
       "      <td>17</td>\n",
       "      <td>0</td>\n",
       "      <td>0</td>\n",
       "      <td>17</td>\n",
       "      <td>0</td>\n",
       "      <td>0</td>\n",
       "      <td>0</td>\n",
       "      <td>0</td>\n",
       "      <td>0</td>\n",
       "      <td>NaN</td>\n",
       "      <td>NaN</td>\n",
       "      <td>NaN</td>\n",
       "      <td>NaN</td>\n",
       "    </tr>\n",
       "  </tbody>\n",
       "</table>\n",
       "<p>7050 rows × 16 columns</p>\n",
       "</div>"
      ],
      "text/plain": [
       "                              status_id status_type status_published   \n",
       "0      246675545449582_1649696485147474       video   4/22/2018 6:00  \\\n",
       "1      246675545449582_1649426988507757       photo  4/21/2018 22:45   \n",
       "2      246675545449582_1648730588577397       video   4/21/2018 6:17   \n",
       "3      246675545449582_1648576705259452       photo   4/21/2018 2:29   \n",
       "4      246675545449582_1645700502213739       photo   4/18/2018 3:22   \n",
       "...                                 ...         ...              ...   \n",
       "7045  1050855161656896_1061863470556065       photo   9/24/2016 2:58   \n",
       "7046  1050855161656896_1061334757275603       photo  9/23/2016 11:19   \n",
       "7047  1050855161656896_1060126464063099       photo  9/21/2016 23:03   \n",
       "7048  1050855161656896_1058663487542730       photo   9/20/2016 0:43   \n",
       "7049  1050855161656896_1050858841656528       photo  9/10/2016 10:30   \n",
       "\n",
       "      num_reactions  num_comments  num_shares  num_likes  num_loves  num_wows   \n",
       "0               529           512         262        432         92         3  \\\n",
       "1               150             0           0        150          0         0   \n",
       "2               227           236          57        204         21         1   \n",
       "3               111             0           0        111          0         0   \n",
       "4               213             0           0        204          9         0   \n",
       "...             ...           ...         ...        ...        ...       ...   \n",
       "7045             89             0           0         89          0         0   \n",
       "7046             16             0           0         14          1         0   \n",
       "7047              2             0           0          1          1         0   \n",
       "7048            351            12          22        349          2         0   \n",
       "7049             17             0           0         17          0         0   \n",
       "\n",
       "      num_hahas  num_sads  num_angrys  Column1  Column2  Column3  Column4  \n",
       "0             1         1           0      NaN      NaN      NaN      NaN  \n",
       "1             0         0           0      NaN      NaN      NaN      NaN  \n",
       "2             1         0           0      NaN      NaN      NaN      NaN  \n",
       "3             0         0           0      NaN      NaN      NaN      NaN  \n",
       "4             0         0           0      NaN      NaN      NaN      NaN  \n",
       "...         ...       ...         ...      ...      ...      ...      ...  \n",
       "7045          0         0           0      NaN      NaN      NaN      NaN  \n",
       "7046          1         0           0      NaN      NaN      NaN      NaN  \n",
       "7047          0         0           0      NaN      NaN      NaN      NaN  \n",
       "7048          0         0           0      NaN      NaN      NaN      NaN  \n",
       "7049          0         0           0      NaN      NaN      NaN      NaN  \n",
       "\n",
       "[7050 rows x 16 columns]"
      ]
     },
     "execution_count": 11,
     "metadata": {},
     "output_type": "execute_result"
    }
   ],
   "source": [
    "live_sell"
   ]
  },
  {
   "cell_type": "code",
   "execution_count": 7,
   "id": "b2c70e52",
   "metadata": {},
   "outputs": [
    {
     "name": "stdout",
     "output_type": "stream",
     "text": [
      "<class 'pandas.core.frame.DataFrame'>\n",
      "RangeIndex: 7050 entries, 0 to 7049\n",
      "Data columns (total 16 columns):\n",
      " #   Column            Non-Null Count  Dtype  \n",
      "---  ------            --------------  -----  \n",
      " 0   status_id         7050 non-null   object \n",
      " 1   status_type       7050 non-null   object \n",
      " 2   status_published  7050 non-null   object \n",
      " 3   num_reactions     7050 non-null   int64  \n",
      " 4   num_comments      7050 non-null   int64  \n",
      " 5   num_shares        7050 non-null   int64  \n",
      " 6   num_likes         7050 non-null   int64  \n",
      " 7   num_loves         7050 non-null   int64  \n",
      " 8   num_wows          7050 non-null   int64  \n",
      " 9   num_hahas         7050 non-null   int64  \n",
      " 10  num_sads          7050 non-null   int64  \n",
      " 11  num_angrys        7050 non-null   int64  \n",
      " 12  Column1           0 non-null      float64\n",
      " 13  Column2           0 non-null      float64\n",
      " 14  Column3           0 non-null      float64\n",
      " 15  Column4           0 non-null      float64\n",
      "dtypes: float64(4), int64(9), object(3)\n",
      "memory usage: 881.4+ KB\n"
     ]
    }
   ],
   "source": [
    "live_sell.info()"
   ]
  },
  {
   "cell_type": "code",
   "execution_count": 8,
   "id": "3659f8ba",
   "metadata": {
    "scrolled": false
   },
   "outputs": [
    {
     "data": {
      "text/html": [
       "<div>\n",
       "<style scoped>\n",
       "    .dataframe tbody tr th:only-of-type {\n",
       "        vertical-align: middle;\n",
       "    }\n",
       "\n",
       "    .dataframe tbody tr th {\n",
       "        vertical-align: top;\n",
       "    }\n",
       "\n",
       "    .dataframe thead th {\n",
       "        text-align: right;\n",
       "    }\n",
       "</style>\n",
       "<table border=\"1\" class=\"dataframe\">\n",
       "  <thead>\n",
       "    <tr style=\"text-align: right;\">\n",
       "      <th></th>\n",
       "      <th>status_type</th>\n",
       "      <th>num_reactions</th>\n",
       "      <th>num_comments</th>\n",
       "      <th>num_shares</th>\n",
       "      <th>num_likes</th>\n",
       "      <th>num_loves</th>\n",
       "      <th>num_wows</th>\n",
       "      <th>num_hahas</th>\n",
       "      <th>num_sads</th>\n",
       "      <th>num_angrys</th>\n",
       "      <th>Column1</th>\n",
       "      <th>Column2</th>\n",
       "      <th>Column3</th>\n",
       "      <th>Column4</th>\n",
       "    </tr>\n",
       "  </thead>\n",
       "  <tbody>\n",
       "    <tr>\n",
       "      <th>0</th>\n",
       "      <td>video</td>\n",
       "      <td>529</td>\n",
       "      <td>512</td>\n",
       "      <td>262</td>\n",
       "      <td>432</td>\n",
       "      <td>92</td>\n",
       "      <td>3</td>\n",
       "      <td>1</td>\n",
       "      <td>1</td>\n",
       "      <td>0</td>\n",
       "      <td>NaN</td>\n",
       "      <td>NaN</td>\n",
       "      <td>NaN</td>\n",
       "      <td>NaN</td>\n",
       "    </tr>\n",
       "    <tr>\n",
       "      <th>1</th>\n",
       "      <td>photo</td>\n",
       "      <td>150</td>\n",
       "      <td>0</td>\n",
       "      <td>0</td>\n",
       "      <td>150</td>\n",
       "      <td>0</td>\n",
       "      <td>0</td>\n",
       "      <td>0</td>\n",
       "      <td>0</td>\n",
       "      <td>0</td>\n",
       "      <td>NaN</td>\n",
       "      <td>NaN</td>\n",
       "      <td>NaN</td>\n",
       "      <td>NaN</td>\n",
       "    </tr>\n",
       "    <tr>\n",
       "      <th>2</th>\n",
       "      <td>video</td>\n",
       "      <td>227</td>\n",
       "      <td>236</td>\n",
       "      <td>57</td>\n",
       "      <td>204</td>\n",
       "      <td>21</td>\n",
       "      <td>1</td>\n",
       "      <td>1</td>\n",
       "      <td>0</td>\n",
       "      <td>0</td>\n",
       "      <td>NaN</td>\n",
       "      <td>NaN</td>\n",
       "      <td>NaN</td>\n",
       "      <td>NaN</td>\n",
       "    </tr>\n",
       "    <tr>\n",
       "      <th>3</th>\n",
       "      <td>photo</td>\n",
       "      <td>111</td>\n",
       "      <td>0</td>\n",
       "      <td>0</td>\n",
       "      <td>111</td>\n",
       "      <td>0</td>\n",
       "      <td>0</td>\n",
       "      <td>0</td>\n",
       "      <td>0</td>\n",
       "      <td>0</td>\n",
       "      <td>NaN</td>\n",
       "      <td>NaN</td>\n",
       "      <td>NaN</td>\n",
       "      <td>NaN</td>\n",
       "    </tr>\n",
       "    <tr>\n",
       "      <th>4</th>\n",
       "      <td>photo</td>\n",
       "      <td>213</td>\n",
       "      <td>0</td>\n",
       "      <td>0</td>\n",
       "      <td>204</td>\n",
       "      <td>9</td>\n",
       "      <td>0</td>\n",
       "      <td>0</td>\n",
       "      <td>0</td>\n",
       "      <td>0</td>\n",
       "      <td>NaN</td>\n",
       "      <td>NaN</td>\n",
       "      <td>NaN</td>\n",
       "      <td>NaN</td>\n",
       "    </tr>\n",
       "    <tr>\n",
       "      <th>...</th>\n",
       "      <td>...</td>\n",
       "      <td>...</td>\n",
       "      <td>...</td>\n",
       "      <td>...</td>\n",
       "      <td>...</td>\n",
       "      <td>...</td>\n",
       "      <td>...</td>\n",
       "      <td>...</td>\n",
       "      <td>...</td>\n",
       "      <td>...</td>\n",
       "      <td>...</td>\n",
       "      <td>...</td>\n",
       "      <td>...</td>\n",
       "      <td>...</td>\n",
       "    </tr>\n",
       "    <tr>\n",
       "      <th>7045</th>\n",
       "      <td>photo</td>\n",
       "      <td>89</td>\n",
       "      <td>0</td>\n",
       "      <td>0</td>\n",
       "      <td>89</td>\n",
       "      <td>0</td>\n",
       "      <td>0</td>\n",
       "      <td>0</td>\n",
       "      <td>0</td>\n",
       "      <td>0</td>\n",
       "      <td>NaN</td>\n",
       "      <td>NaN</td>\n",
       "      <td>NaN</td>\n",
       "      <td>NaN</td>\n",
       "    </tr>\n",
       "    <tr>\n",
       "      <th>7046</th>\n",
       "      <td>photo</td>\n",
       "      <td>16</td>\n",
       "      <td>0</td>\n",
       "      <td>0</td>\n",
       "      <td>14</td>\n",
       "      <td>1</td>\n",
       "      <td>0</td>\n",
       "      <td>1</td>\n",
       "      <td>0</td>\n",
       "      <td>0</td>\n",
       "      <td>NaN</td>\n",
       "      <td>NaN</td>\n",
       "      <td>NaN</td>\n",
       "      <td>NaN</td>\n",
       "    </tr>\n",
       "    <tr>\n",
       "      <th>7047</th>\n",
       "      <td>photo</td>\n",
       "      <td>2</td>\n",
       "      <td>0</td>\n",
       "      <td>0</td>\n",
       "      <td>1</td>\n",
       "      <td>1</td>\n",
       "      <td>0</td>\n",
       "      <td>0</td>\n",
       "      <td>0</td>\n",
       "      <td>0</td>\n",
       "      <td>NaN</td>\n",
       "      <td>NaN</td>\n",
       "      <td>NaN</td>\n",
       "      <td>NaN</td>\n",
       "    </tr>\n",
       "    <tr>\n",
       "      <th>7048</th>\n",
       "      <td>photo</td>\n",
       "      <td>351</td>\n",
       "      <td>12</td>\n",
       "      <td>22</td>\n",
       "      <td>349</td>\n",
       "      <td>2</td>\n",
       "      <td>0</td>\n",
       "      <td>0</td>\n",
       "      <td>0</td>\n",
       "      <td>0</td>\n",
       "      <td>NaN</td>\n",
       "      <td>NaN</td>\n",
       "      <td>NaN</td>\n",
       "      <td>NaN</td>\n",
       "    </tr>\n",
       "    <tr>\n",
       "      <th>7049</th>\n",
       "      <td>photo</td>\n",
       "      <td>17</td>\n",
       "      <td>0</td>\n",
       "      <td>0</td>\n",
       "      <td>17</td>\n",
       "      <td>0</td>\n",
       "      <td>0</td>\n",
       "      <td>0</td>\n",
       "      <td>0</td>\n",
       "      <td>0</td>\n",
       "      <td>NaN</td>\n",
       "      <td>NaN</td>\n",
       "      <td>NaN</td>\n",
       "      <td>NaN</td>\n",
       "    </tr>\n",
       "  </tbody>\n",
       "</table>\n",
       "<p>7050 rows × 14 columns</p>\n",
       "</div>"
      ],
      "text/plain": [
       "     status_type  num_reactions  num_comments  num_shares  num_likes   \n",
       "0          video            529           512         262        432  \\\n",
       "1          photo            150             0           0        150   \n",
       "2          video            227           236          57        204   \n",
       "3          photo            111             0           0        111   \n",
       "4          photo            213             0           0        204   \n",
       "...          ...            ...           ...         ...        ...   \n",
       "7045       photo             89             0           0         89   \n",
       "7046       photo             16             0           0         14   \n",
       "7047       photo              2             0           0          1   \n",
       "7048       photo            351            12          22        349   \n",
       "7049       photo             17             0           0         17   \n",
       "\n",
       "      num_loves  num_wows  num_hahas  num_sads  num_angrys  Column1  Column2   \n",
       "0            92         3          1         1           0      NaN      NaN  \\\n",
       "1             0         0          0         0           0      NaN      NaN   \n",
       "2            21         1          1         0           0      NaN      NaN   \n",
       "3             0         0          0         0           0      NaN      NaN   \n",
       "4             9         0          0         0           0      NaN      NaN   \n",
       "...         ...       ...        ...       ...         ...      ...      ...   \n",
       "7045          0         0          0         0           0      NaN      NaN   \n",
       "7046          1         0          1         0           0      NaN      NaN   \n",
       "7047          1         0          0         0           0      NaN      NaN   \n",
       "7048          2         0          0         0           0      NaN      NaN   \n",
       "7049          0         0          0         0           0      NaN      NaN   \n",
       "\n",
       "      Column3  Column4  \n",
       "0         NaN      NaN  \n",
       "1         NaN      NaN  \n",
       "2         NaN      NaN  \n",
       "3         NaN      NaN  \n",
       "4         NaN      NaN  \n",
       "...       ...      ...  \n",
       "7045      NaN      NaN  \n",
       "7046      NaN      NaN  \n",
       "7047      NaN      NaN  \n",
       "7048      NaN      NaN  \n",
       "7049      NaN      NaN  \n",
       "\n",
       "[7050 rows x 14 columns]"
      ]
     },
     "execution_count": 8,
     "metadata": {},
     "output_type": "execute_result"
    }
   ],
   "source": [
    "live_sell = live_sell.drop(['status_id','status_published'],axis=1)\n",
    "live_sell"
   ]
  },
  {
   "cell_type": "code",
   "execution_count": 9,
   "id": "be4af741",
   "metadata": {},
   "outputs": [
    {
     "data": {
      "text/html": [
       "<div>\n",
       "<style scoped>\n",
       "    .dataframe tbody tr th:only-of-type {\n",
       "        vertical-align: middle;\n",
       "    }\n",
       "\n",
       "    .dataframe tbody tr th {\n",
       "        vertical-align: top;\n",
       "    }\n",
       "\n",
       "    .dataframe thead th {\n",
       "        text-align: right;\n",
       "    }\n",
       "</style>\n",
       "<table border=\"1\" class=\"dataframe\">\n",
       "  <thead>\n",
       "    <tr style=\"text-align: right;\">\n",
       "      <th></th>\n",
       "      <th>status_type</th>\n",
       "      <th>num_reactions</th>\n",
       "      <th>num_comments</th>\n",
       "      <th>num_shares</th>\n",
       "      <th>num_likes</th>\n",
       "      <th>num_loves</th>\n",
       "      <th>num_wows</th>\n",
       "      <th>num_hahas</th>\n",
       "      <th>num_sads</th>\n",
       "      <th>num_angrys</th>\n",
       "    </tr>\n",
       "  </thead>\n",
       "  <tbody>\n",
       "    <tr>\n",
       "      <th>0</th>\n",
       "      <td>video</td>\n",
       "      <td>529</td>\n",
       "      <td>512</td>\n",
       "      <td>262</td>\n",
       "      <td>432</td>\n",
       "      <td>92</td>\n",
       "      <td>3</td>\n",
       "      <td>1</td>\n",
       "      <td>1</td>\n",
       "      <td>0</td>\n",
       "    </tr>\n",
       "    <tr>\n",
       "      <th>1</th>\n",
       "      <td>photo</td>\n",
       "      <td>150</td>\n",
       "      <td>0</td>\n",
       "      <td>0</td>\n",
       "      <td>150</td>\n",
       "      <td>0</td>\n",
       "      <td>0</td>\n",
       "      <td>0</td>\n",
       "      <td>0</td>\n",
       "      <td>0</td>\n",
       "    </tr>\n",
       "    <tr>\n",
       "      <th>2</th>\n",
       "      <td>video</td>\n",
       "      <td>227</td>\n",
       "      <td>236</td>\n",
       "      <td>57</td>\n",
       "      <td>204</td>\n",
       "      <td>21</td>\n",
       "      <td>1</td>\n",
       "      <td>1</td>\n",
       "      <td>0</td>\n",
       "      <td>0</td>\n",
       "    </tr>\n",
       "    <tr>\n",
       "      <th>3</th>\n",
       "      <td>photo</td>\n",
       "      <td>111</td>\n",
       "      <td>0</td>\n",
       "      <td>0</td>\n",
       "      <td>111</td>\n",
       "      <td>0</td>\n",
       "      <td>0</td>\n",
       "      <td>0</td>\n",
       "      <td>0</td>\n",
       "      <td>0</td>\n",
       "    </tr>\n",
       "    <tr>\n",
       "      <th>4</th>\n",
       "      <td>photo</td>\n",
       "      <td>213</td>\n",
       "      <td>0</td>\n",
       "      <td>0</td>\n",
       "      <td>204</td>\n",
       "      <td>9</td>\n",
       "      <td>0</td>\n",
       "      <td>0</td>\n",
       "      <td>0</td>\n",
       "      <td>0</td>\n",
       "    </tr>\n",
       "    <tr>\n",
       "      <th>...</th>\n",
       "      <td>...</td>\n",
       "      <td>...</td>\n",
       "      <td>...</td>\n",
       "      <td>...</td>\n",
       "      <td>...</td>\n",
       "      <td>...</td>\n",
       "      <td>...</td>\n",
       "      <td>...</td>\n",
       "      <td>...</td>\n",
       "      <td>...</td>\n",
       "    </tr>\n",
       "    <tr>\n",
       "      <th>7045</th>\n",
       "      <td>photo</td>\n",
       "      <td>89</td>\n",
       "      <td>0</td>\n",
       "      <td>0</td>\n",
       "      <td>89</td>\n",
       "      <td>0</td>\n",
       "      <td>0</td>\n",
       "      <td>0</td>\n",
       "      <td>0</td>\n",
       "      <td>0</td>\n",
       "    </tr>\n",
       "    <tr>\n",
       "      <th>7046</th>\n",
       "      <td>photo</td>\n",
       "      <td>16</td>\n",
       "      <td>0</td>\n",
       "      <td>0</td>\n",
       "      <td>14</td>\n",
       "      <td>1</td>\n",
       "      <td>0</td>\n",
       "      <td>1</td>\n",
       "      <td>0</td>\n",
       "      <td>0</td>\n",
       "    </tr>\n",
       "    <tr>\n",
       "      <th>7047</th>\n",
       "      <td>photo</td>\n",
       "      <td>2</td>\n",
       "      <td>0</td>\n",
       "      <td>0</td>\n",
       "      <td>1</td>\n",
       "      <td>1</td>\n",
       "      <td>0</td>\n",
       "      <td>0</td>\n",
       "      <td>0</td>\n",
       "      <td>0</td>\n",
       "    </tr>\n",
       "    <tr>\n",
       "      <th>7048</th>\n",
       "      <td>photo</td>\n",
       "      <td>351</td>\n",
       "      <td>12</td>\n",
       "      <td>22</td>\n",
       "      <td>349</td>\n",
       "      <td>2</td>\n",
       "      <td>0</td>\n",
       "      <td>0</td>\n",
       "      <td>0</td>\n",
       "      <td>0</td>\n",
       "    </tr>\n",
       "    <tr>\n",
       "      <th>7049</th>\n",
       "      <td>photo</td>\n",
       "      <td>17</td>\n",
       "      <td>0</td>\n",
       "      <td>0</td>\n",
       "      <td>17</td>\n",
       "      <td>0</td>\n",
       "      <td>0</td>\n",
       "      <td>0</td>\n",
       "      <td>0</td>\n",
       "      <td>0</td>\n",
       "    </tr>\n",
       "  </tbody>\n",
       "</table>\n",
       "<p>7050 rows × 10 columns</p>\n",
       "</div>"
      ],
      "text/plain": [
       "     status_type  num_reactions  num_comments  num_shares  num_likes   \n",
       "0          video            529           512         262        432  \\\n",
       "1          photo            150             0           0        150   \n",
       "2          video            227           236          57        204   \n",
       "3          photo            111             0           0        111   \n",
       "4          photo            213             0           0        204   \n",
       "...          ...            ...           ...         ...        ...   \n",
       "7045       photo             89             0           0         89   \n",
       "7046       photo             16             0           0         14   \n",
       "7047       photo              2             0           0          1   \n",
       "7048       photo            351            12          22        349   \n",
       "7049       photo             17             0           0         17   \n",
       "\n",
       "      num_loves  num_wows  num_hahas  num_sads  num_angrys  \n",
       "0            92         3          1         1           0  \n",
       "1             0         0          0         0           0  \n",
       "2            21         1          1         0           0  \n",
       "3             0         0          0         0           0  \n",
       "4             9         0          0         0           0  \n",
       "...         ...       ...        ...       ...         ...  \n",
       "7045          0         0          0         0           0  \n",
       "7046          1         0          1         0           0  \n",
       "7047          1         0          0         0           0  \n",
       "7048          2         0          0         0           0  \n",
       "7049          0         0          0         0           0  \n",
       "\n",
       "[7050 rows x 10 columns]"
      ]
     },
     "execution_count": 9,
     "metadata": {},
     "output_type": "execute_result"
    }
   ],
   "source": [
    "live_sell = live_sell[['status_type','num_reactions','num_comments','num_shares','num_likes','num_loves','num_wows','num_hahas','num_sads','num_angrys']]\n",
    "live_sell"
   ]
  },
  {
   "cell_type": "code",
   "execution_count": 10,
   "id": "86f646a1",
   "metadata": {},
   "outputs": [],
   "source": [
    "from sklearn.preprocessing import LabelEncoder"
   ]
  },
  {
   "cell_type": "code",
   "execution_count": 11,
   "id": "8f70037e",
   "metadata": {
    "scrolled": true
   },
   "outputs": [
    {
     "data": {
      "text/html": [
       "<style>#sk-container-id-1 {color: black;background-color: white;}#sk-container-id-1 pre{padding: 0;}#sk-container-id-1 div.sk-toggleable {background-color: white;}#sk-container-id-1 label.sk-toggleable__label {cursor: pointer;display: block;width: 100%;margin-bottom: 0;padding: 0.3em;box-sizing: border-box;text-align: center;}#sk-container-id-1 label.sk-toggleable__label-arrow:before {content: \"▸\";float: left;margin-right: 0.25em;color: #696969;}#sk-container-id-1 label.sk-toggleable__label-arrow:hover:before {color: black;}#sk-container-id-1 div.sk-estimator:hover label.sk-toggleable__label-arrow:before {color: black;}#sk-container-id-1 div.sk-toggleable__content {max-height: 0;max-width: 0;overflow: hidden;text-align: left;background-color: #f0f8ff;}#sk-container-id-1 div.sk-toggleable__content pre {margin: 0.2em;color: black;border-radius: 0.25em;background-color: #f0f8ff;}#sk-container-id-1 input.sk-toggleable__control:checked~div.sk-toggleable__content {max-height: 200px;max-width: 100%;overflow: auto;}#sk-container-id-1 input.sk-toggleable__control:checked~label.sk-toggleable__label-arrow:before {content: \"▾\";}#sk-container-id-1 div.sk-estimator input.sk-toggleable__control:checked~label.sk-toggleable__label {background-color: #d4ebff;}#sk-container-id-1 div.sk-label input.sk-toggleable__control:checked~label.sk-toggleable__label {background-color: #d4ebff;}#sk-container-id-1 input.sk-hidden--visually {border: 0;clip: rect(1px 1px 1px 1px);clip: rect(1px, 1px, 1px, 1px);height: 1px;margin: -1px;overflow: hidden;padding: 0;position: absolute;width: 1px;}#sk-container-id-1 div.sk-estimator {font-family: monospace;background-color: #f0f8ff;border: 1px dotted black;border-radius: 0.25em;box-sizing: border-box;margin-bottom: 0.5em;}#sk-container-id-1 div.sk-estimator:hover {background-color: #d4ebff;}#sk-container-id-1 div.sk-parallel-item::after {content: \"\";width: 100%;border-bottom: 1px solid gray;flex-grow: 1;}#sk-container-id-1 div.sk-label:hover label.sk-toggleable__label {background-color: #d4ebff;}#sk-container-id-1 div.sk-serial::before {content: \"\";position: absolute;border-left: 1px solid gray;box-sizing: border-box;top: 0;bottom: 0;left: 50%;z-index: 0;}#sk-container-id-1 div.sk-serial {display: flex;flex-direction: column;align-items: center;background-color: white;padding-right: 0.2em;padding-left: 0.2em;position: relative;}#sk-container-id-1 div.sk-item {position: relative;z-index: 1;}#sk-container-id-1 div.sk-parallel {display: flex;align-items: stretch;justify-content: center;background-color: white;position: relative;}#sk-container-id-1 div.sk-item::before, #sk-container-id-1 div.sk-parallel-item::before {content: \"\";position: absolute;border-left: 1px solid gray;box-sizing: border-box;top: 0;bottom: 0;left: 50%;z-index: -1;}#sk-container-id-1 div.sk-parallel-item {display: flex;flex-direction: column;z-index: 1;position: relative;background-color: white;}#sk-container-id-1 div.sk-parallel-item:first-child::after {align-self: flex-end;width: 50%;}#sk-container-id-1 div.sk-parallel-item:last-child::after {align-self: flex-start;width: 50%;}#sk-container-id-1 div.sk-parallel-item:only-child::after {width: 0;}#sk-container-id-1 div.sk-dashed-wrapped {border: 1px dashed gray;margin: 0 0.4em 0.5em 0.4em;box-sizing: border-box;padding-bottom: 0.4em;background-color: white;}#sk-container-id-1 div.sk-label label {font-family: monospace;font-weight: bold;display: inline-block;line-height: 1.2em;}#sk-container-id-1 div.sk-label-container {text-align: center;}#sk-container-id-1 div.sk-container {/* jupyter's `normalize.less` sets `[hidden] { display: none; }` but bootstrap.min.css set `[hidden] { display: none !important; }` so we also need the `!important` here to be able to override the default hidden behavior on the sphinx rendered scikit-learn.org. See: https://github.com/scikit-learn/scikit-learn/issues/21755 */display: inline-block !important;position: relative;}#sk-container-id-1 div.sk-text-repr-fallback {display: none;}</style><div id=\"sk-container-id-1\" class=\"sk-top-container\"><div class=\"sk-text-repr-fallback\"><pre>LabelEncoder()</pre><b>In a Jupyter environment, please rerun this cell to show the HTML representation or trust the notebook. <br />On GitHub, the HTML representation is unable to render, please try loading this page with nbviewer.org.</b></div><div class=\"sk-container\" hidden><div class=\"sk-item\"><div class=\"sk-estimator sk-toggleable\"><input class=\"sk-toggleable__control sk-hidden--visually\" id=\"sk-estimator-id-1\" type=\"checkbox\" checked><label for=\"sk-estimator-id-1\" class=\"sk-toggleable__label sk-toggleable__label-arrow\">LabelEncoder</label><div class=\"sk-toggleable__content\"><pre>LabelEncoder()</pre></div></div></div></div></div>"
      ],
      "text/plain": [
       "LabelEncoder()"
      ]
     },
     "execution_count": 11,
     "metadata": {},
     "output_type": "execute_result"
    }
   ],
   "source": [
    "LE = LabelEncoder()\n",
    "LE"
   ]
  },
  {
   "cell_type": "code",
   "execution_count": 14,
   "id": "eb71e111",
   "metadata": {
    "scrolled": true
   },
   "outputs": [
    {
     "name": "stderr",
     "output_type": "stream",
     "text": [
      "/var/folders/gz/21q9n7_n30s76c_y9b8rl7zm0000gn/T/ipykernel_1241/3653228349.py:1: SettingWithCopyWarning: \n",
      "A value is trying to be set on a copy of a slice from a DataFrame.\n",
      "Try using .loc[row_indexer,col_indexer] = value instead\n",
      "\n",
      "See the caveats in the documentation: https://pandas.pydata.org/pandas-docs/stable/user_guide/indexing.html#returning-a-view-versus-a-copy\n",
      "  live_sell['status_type'] = LE.fit_transform(live_sell['status_type'])\n"
     ]
    },
    {
     "data": {
      "text/html": [
       "<div>\n",
       "<style scoped>\n",
       "    .dataframe tbody tr th:only-of-type {\n",
       "        vertical-align: middle;\n",
       "    }\n",
       "\n",
       "    .dataframe tbody tr th {\n",
       "        vertical-align: top;\n",
       "    }\n",
       "\n",
       "    .dataframe thead th {\n",
       "        text-align: right;\n",
       "    }\n",
       "</style>\n",
       "<table border=\"1\" class=\"dataframe\">\n",
       "  <thead>\n",
       "    <tr style=\"text-align: right;\">\n",
       "      <th></th>\n",
       "      <th>status_type</th>\n",
       "      <th>num_reactions</th>\n",
       "      <th>num_comments</th>\n",
       "      <th>num_shares</th>\n",
       "      <th>num_likes</th>\n",
       "      <th>num_loves</th>\n",
       "      <th>num_wows</th>\n",
       "      <th>num_hahas</th>\n",
       "      <th>num_sads</th>\n",
       "      <th>num_angrys</th>\n",
       "    </tr>\n",
       "  </thead>\n",
       "  <tbody>\n",
       "    <tr>\n",
       "      <th>0</th>\n",
       "      <td>3</td>\n",
       "      <td>529</td>\n",
       "      <td>512</td>\n",
       "      <td>262</td>\n",
       "      <td>432</td>\n",
       "      <td>92</td>\n",
       "      <td>3</td>\n",
       "      <td>1</td>\n",
       "      <td>1</td>\n",
       "      <td>0</td>\n",
       "    </tr>\n",
       "    <tr>\n",
       "      <th>1</th>\n",
       "      <td>1</td>\n",
       "      <td>150</td>\n",
       "      <td>0</td>\n",
       "      <td>0</td>\n",
       "      <td>150</td>\n",
       "      <td>0</td>\n",
       "      <td>0</td>\n",
       "      <td>0</td>\n",
       "      <td>0</td>\n",
       "      <td>0</td>\n",
       "    </tr>\n",
       "    <tr>\n",
       "      <th>2</th>\n",
       "      <td>3</td>\n",
       "      <td>227</td>\n",
       "      <td>236</td>\n",
       "      <td>57</td>\n",
       "      <td>204</td>\n",
       "      <td>21</td>\n",
       "      <td>1</td>\n",
       "      <td>1</td>\n",
       "      <td>0</td>\n",
       "      <td>0</td>\n",
       "    </tr>\n",
       "    <tr>\n",
       "      <th>3</th>\n",
       "      <td>1</td>\n",
       "      <td>111</td>\n",
       "      <td>0</td>\n",
       "      <td>0</td>\n",
       "      <td>111</td>\n",
       "      <td>0</td>\n",
       "      <td>0</td>\n",
       "      <td>0</td>\n",
       "      <td>0</td>\n",
       "      <td>0</td>\n",
       "    </tr>\n",
       "    <tr>\n",
       "      <th>4</th>\n",
       "      <td>1</td>\n",
       "      <td>213</td>\n",
       "      <td>0</td>\n",
       "      <td>0</td>\n",
       "      <td>204</td>\n",
       "      <td>9</td>\n",
       "      <td>0</td>\n",
       "      <td>0</td>\n",
       "      <td>0</td>\n",
       "      <td>0</td>\n",
       "    </tr>\n",
       "    <tr>\n",
       "      <th>...</th>\n",
       "      <td>...</td>\n",
       "      <td>...</td>\n",
       "      <td>...</td>\n",
       "      <td>...</td>\n",
       "      <td>...</td>\n",
       "      <td>...</td>\n",
       "      <td>...</td>\n",
       "      <td>...</td>\n",
       "      <td>...</td>\n",
       "      <td>...</td>\n",
       "    </tr>\n",
       "    <tr>\n",
       "      <th>7045</th>\n",
       "      <td>1</td>\n",
       "      <td>89</td>\n",
       "      <td>0</td>\n",
       "      <td>0</td>\n",
       "      <td>89</td>\n",
       "      <td>0</td>\n",
       "      <td>0</td>\n",
       "      <td>0</td>\n",
       "      <td>0</td>\n",
       "      <td>0</td>\n",
       "    </tr>\n",
       "    <tr>\n",
       "      <th>7046</th>\n",
       "      <td>1</td>\n",
       "      <td>16</td>\n",
       "      <td>0</td>\n",
       "      <td>0</td>\n",
       "      <td>14</td>\n",
       "      <td>1</td>\n",
       "      <td>0</td>\n",
       "      <td>1</td>\n",
       "      <td>0</td>\n",
       "      <td>0</td>\n",
       "    </tr>\n",
       "    <tr>\n",
       "      <th>7047</th>\n",
       "      <td>1</td>\n",
       "      <td>2</td>\n",
       "      <td>0</td>\n",
       "      <td>0</td>\n",
       "      <td>1</td>\n",
       "      <td>1</td>\n",
       "      <td>0</td>\n",
       "      <td>0</td>\n",
       "      <td>0</td>\n",
       "      <td>0</td>\n",
       "    </tr>\n",
       "    <tr>\n",
       "      <th>7048</th>\n",
       "      <td>1</td>\n",
       "      <td>351</td>\n",
       "      <td>12</td>\n",
       "      <td>22</td>\n",
       "      <td>349</td>\n",
       "      <td>2</td>\n",
       "      <td>0</td>\n",
       "      <td>0</td>\n",
       "      <td>0</td>\n",
       "      <td>0</td>\n",
       "    </tr>\n",
       "    <tr>\n",
       "      <th>7049</th>\n",
       "      <td>1</td>\n",
       "      <td>17</td>\n",
       "      <td>0</td>\n",
       "      <td>0</td>\n",
       "      <td>17</td>\n",
       "      <td>0</td>\n",
       "      <td>0</td>\n",
       "      <td>0</td>\n",
       "      <td>0</td>\n",
       "      <td>0</td>\n",
       "    </tr>\n",
       "  </tbody>\n",
       "</table>\n",
       "<p>7050 rows × 10 columns</p>\n",
       "</div>"
      ],
      "text/plain": [
       "      status_type  num_reactions  num_comments  num_shares  num_likes   \n",
       "0               3            529           512         262        432  \\\n",
       "1               1            150             0           0        150   \n",
       "2               3            227           236          57        204   \n",
       "3               1            111             0           0        111   \n",
       "4               1            213             0           0        204   \n",
       "...           ...            ...           ...         ...        ...   \n",
       "7045            1             89             0           0         89   \n",
       "7046            1             16             0           0         14   \n",
       "7047            1              2             0           0          1   \n",
       "7048            1            351            12          22        349   \n",
       "7049            1             17             0           0         17   \n",
       "\n",
       "      num_loves  num_wows  num_hahas  num_sads  num_angrys  \n",
       "0            92         3          1         1           0  \n",
       "1             0         0          0         0           0  \n",
       "2            21         1          1         0           0  \n",
       "3             0         0          0         0           0  \n",
       "4             9         0          0         0           0  \n",
       "...         ...       ...        ...       ...         ...  \n",
       "7045          0         0          0         0           0  \n",
       "7046          1         0          1         0           0  \n",
       "7047          1         0          0         0           0  \n",
       "7048          2         0          0         0           0  \n",
       "7049          0         0          0         0           0  \n",
       "\n",
       "[7050 rows x 10 columns]"
      ]
     },
     "execution_count": 14,
     "metadata": {},
     "output_type": "execute_result"
    }
   ],
   "source": [
    "live_sell['status_type'] = LE.fit_transform(live_sell['status_type'])\n",
    "live_sell"
   ]
  },
  {
   "cell_type": "code",
   "execution_count": 15,
   "id": "7d9d710d",
   "metadata": {
    "scrolled": true
   },
   "outputs": [
    {
     "data": {
      "text/html": [
       "<div>\n",
       "<style scoped>\n",
       "    .dataframe tbody tr th:only-of-type {\n",
       "        vertical-align: middle;\n",
       "    }\n",
       "\n",
       "    .dataframe tbody tr th {\n",
       "        vertical-align: top;\n",
       "    }\n",
       "\n",
       "    .dataframe thead th {\n",
       "        text-align: right;\n",
       "    }\n",
       "</style>\n",
       "<table border=\"1\" class=\"dataframe\">\n",
       "  <thead>\n",
       "    <tr style=\"text-align: right;\">\n",
       "      <th></th>\n",
       "      <th>status_type</th>\n",
       "      <th>num_reactions</th>\n",
       "      <th>num_comments</th>\n",
       "      <th>num_shares</th>\n",
       "      <th>num_likes</th>\n",
       "      <th>num_loves</th>\n",
       "      <th>num_wows</th>\n",
       "      <th>num_hahas</th>\n",
       "      <th>num_sads</th>\n",
       "      <th>num_angrys</th>\n",
       "    </tr>\n",
       "  </thead>\n",
       "  <tbody>\n",
       "    <tr>\n",
       "      <th>0</th>\n",
       "      <td>3</td>\n",
       "      <td>529</td>\n",
       "      <td>512</td>\n",
       "      <td>262</td>\n",
       "      <td>432</td>\n",
       "      <td>92</td>\n",
       "      <td>3</td>\n",
       "      <td>1</td>\n",
       "      <td>1</td>\n",
       "      <td>0</td>\n",
       "    </tr>\n",
       "    <tr>\n",
       "      <th>1</th>\n",
       "      <td>1</td>\n",
       "      <td>150</td>\n",
       "      <td>0</td>\n",
       "      <td>0</td>\n",
       "      <td>150</td>\n",
       "      <td>0</td>\n",
       "      <td>0</td>\n",
       "      <td>0</td>\n",
       "      <td>0</td>\n",
       "      <td>0</td>\n",
       "    </tr>\n",
       "    <tr>\n",
       "      <th>2</th>\n",
       "      <td>3</td>\n",
       "      <td>227</td>\n",
       "      <td>236</td>\n",
       "      <td>57</td>\n",
       "      <td>204</td>\n",
       "      <td>21</td>\n",
       "      <td>1</td>\n",
       "      <td>1</td>\n",
       "      <td>0</td>\n",
       "      <td>0</td>\n",
       "    </tr>\n",
       "    <tr>\n",
       "      <th>3</th>\n",
       "      <td>1</td>\n",
       "      <td>111</td>\n",
       "      <td>0</td>\n",
       "      <td>0</td>\n",
       "      <td>111</td>\n",
       "      <td>0</td>\n",
       "      <td>0</td>\n",
       "      <td>0</td>\n",
       "      <td>0</td>\n",
       "      <td>0</td>\n",
       "    </tr>\n",
       "    <tr>\n",
       "      <th>4</th>\n",
       "      <td>1</td>\n",
       "      <td>213</td>\n",
       "      <td>0</td>\n",
       "      <td>0</td>\n",
       "      <td>204</td>\n",
       "      <td>9</td>\n",
       "      <td>0</td>\n",
       "      <td>0</td>\n",
       "      <td>0</td>\n",
       "      <td>0</td>\n",
       "    </tr>\n",
       "    <tr>\n",
       "      <th>...</th>\n",
       "      <td>...</td>\n",
       "      <td>...</td>\n",
       "      <td>...</td>\n",
       "      <td>...</td>\n",
       "      <td>...</td>\n",
       "      <td>...</td>\n",
       "      <td>...</td>\n",
       "      <td>...</td>\n",
       "      <td>...</td>\n",
       "      <td>...</td>\n",
       "    </tr>\n",
       "    <tr>\n",
       "      <th>7045</th>\n",
       "      <td>1</td>\n",
       "      <td>89</td>\n",
       "      <td>0</td>\n",
       "      <td>0</td>\n",
       "      <td>89</td>\n",
       "      <td>0</td>\n",
       "      <td>0</td>\n",
       "      <td>0</td>\n",
       "      <td>0</td>\n",
       "      <td>0</td>\n",
       "    </tr>\n",
       "    <tr>\n",
       "      <th>7046</th>\n",
       "      <td>1</td>\n",
       "      <td>16</td>\n",
       "      <td>0</td>\n",
       "      <td>0</td>\n",
       "      <td>14</td>\n",
       "      <td>1</td>\n",
       "      <td>0</td>\n",
       "      <td>1</td>\n",
       "      <td>0</td>\n",
       "      <td>0</td>\n",
       "    </tr>\n",
       "    <tr>\n",
       "      <th>7047</th>\n",
       "      <td>1</td>\n",
       "      <td>2</td>\n",
       "      <td>0</td>\n",
       "      <td>0</td>\n",
       "      <td>1</td>\n",
       "      <td>1</td>\n",
       "      <td>0</td>\n",
       "      <td>0</td>\n",
       "      <td>0</td>\n",
       "      <td>0</td>\n",
       "    </tr>\n",
       "    <tr>\n",
       "      <th>7048</th>\n",
       "      <td>1</td>\n",
       "      <td>351</td>\n",
       "      <td>12</td>\n",
       "      <td>22</td>\n",
       "      <td>349</td>\n",
       "      <td>2</td>\n",
       "      <td>0</td>\n",
       "      <td>0</td>\n",
       "      <td>0</td>\n",
       "      <td>0</td>\n",
       "    </tr>\n",
       "    <tr>\n",
       "      <th>7049</th>\n",
       "      <td>1</td>\n",
       "      <td>17</td>\n",
       "      <td>0</td>\n",
       "      <td>0</td>\n",
       "      <td>17</td>\n",
       "      <td>0</td>\n",
       "      <td>0</td>\n",
       "      <td>0</td>\n",
       "      <td>0</td>\n",
       "      <td>0</td>\n",
       "    </tr>\n",
       "  </tbody>\n",
       "</table>\n",
       "<p>7050 rows × 10 columns</p>\n",
       "</div>"
      ],
      "text/plain": [
       "      status_type  num_reactions  num_comments  num_shares  num_likes   \n",
       "0               3            529           512         262        432  \\\n",
       "1               1            150             0           0        150   \n",
       "2               3            227           236          57        204   \n",
       "3               1            111             0           0        111   \n",
       "4               1            213             0           0        204   \n",
       "...           ...            ...           ...         ...        ...   \n",
       "7045            1             89             0           0         89   \n",
       "7046            1             16             0           0         14   \n",
       "7047            1              2             0           0          1   \n",
       "7048            1            351            12          22        349   \n",
       "7049            1             17             0           0         17   \n",
       "\n",
       "      num_loves  num_wows  num_hahas  num_sads  num_angrys  \n",
       "0            92         3          1         1           0  \n",
       "1             0         0          0         0           0  \n",
       "2            21         1          1         0           0  \n",
       "3             0         0          0         0           0  \n",
       "4             9         0          0         0           0  \n",
       "...         ...       ...        ...       ...         ...  \n",
       "7045          0         0          0         0           0  \n",
       "7046          1         0          1         0           0  \n",
       "7047          1         0          0         0           0  \n",
       "7048          2         0          0         0           0  \n",
       "7049          0         0          0         0           0  \n",
       "\n",
       "[7050 rows x 10 columns]"
      ]
     },
     "execution_count": 15,
     "metadata": {},
     "output_type": "execute_result"
    }
   ],
   "source": [
    "live_sell"
   ]
  },
  {
   "cell_type": "code",
   "execution_count": 16,
   "id": "f2f71bf6",
   "metadata": {
    "scrolled": true
   },
   "outputs": [
    {
     "data": {
      "text/plain": [
       "array([0, 1, 2, 3])"
      ]
     },
     "execution_count": 16,
     "metadata": {},
     "output_type": "execute_result"
    }
   ],
   "source": [
    "LE.classes_"
   ]
  },
  {
   "cell_type": "code",
   "execution_count": 17,
   "id": "0d65c53c",
   "metadata": {},
   "outputs": [],
   "source": [
    "from sklearn.preprocessing import MinMaxScaler"
   ]
  },
  {
   "cell_type": "code",
   "execution_count": 18,
   "id": "ef4b28ab",
   "metadata": {},
   "outputs": [
    {
     "data": {
      "text/html": [
       "<style>#sk-container-id-2 {color: black;background-color: white;}#sk-container-id-2 pre{padding: 0;}#sk-container-id-2 div.sk-toggleable {background-color: white;}#sk-container-id-2 label.sk-toggleable__label {cursor: pointer;display: block;width: 100%;margin-bottom: 0;padding: 0.3em;box-sizing: border-box;text-align: center;}#sk-container-id-2 label.sk-toggleable__label-arrow:before {content: \"▸\";float: left;margin-right: 0.25em;color: #696969;}#sk-container-id-2 label.sk-toggleable__label-arrow:hover:before {color: black;}#sk-container-id-2 div.sk-estimator:hover label.sk-toggleable__label-arrow:before {color: black;}#sk-container-id-2 div.sk-toggleable__content {max-height: 0;max-width: 0;overflow: hidden;text-align: left;background-color: #f0f8ff;}#sk-container-id-2 div.sk-toggleable__content pre {margin: 0.2em;color: black;border-radius: 0.25em;background-color: #f0f8ff;}#sk-container-id-2 input.sk-toggleable__control:checked~div.sk-toggleable__content {max-height: 200px;max-width: 100%;overflow: auto;}#sk-container-id-2 input.sk-toggleable__control:checked~label.sk-toggleable__label-arrow:before {content: \"▾\";}#sk-container-id-2 div.sk-estimator input.sk-toggleable__control:checked~label.sk-toggleable__label {background-color: #d4ebff;}#sk-container-id-2 div.sk-label input.sk-toggleable__control:checked~label.sk-toggleable__label {background-color: #d4ebff;}#sk-container-id-2 input.sk-hidden--visually {border: 0;clip: rect(1px 1px 1px 1px);clip: rect(1px, 1px, 1px, 1px);height: 1px;margin: -1px;overflow: hidden;padding: 0;position: absolute;width: 1px;}#sk-container-id-2 div.sk-estimator {font-family: monospace;background-color: #f0f8ff;border: 1px dotted black;border-radius: 0.25em;box-sizing: border-box;margin-bottom: 0.5em;}#sk-container-id-2 div.sk-estimator:hover {background-color: #d4ebff;}#sk-container-id-2 div.sk-parallel-item::after {content: \"\";width: 100%;border-bottom: 1px solid gray;flex-grow: 1;}#sk-container-id-2 div.sk-label:hover label.sk-toggleable__label {background-color: #d4ebff;}#sk-container-id-2 div.sk-serial::before {content: \"\";position: absolute;border-left: 1px solid gray;box-sizing: border-box;top: 0;bottom: 0;left: 50%;z-index: 0;}#sk-container-id-2 div.sk-serial {display: flex;flex-direction: column;align-items: center;background-color: white;padding-right: 0.2em;padding-left: 0.2em;position: relative;}#sk-container-id-2 div.sk-item {position: relative;z-index: 1;}#sk-container-id-2 div.sk-parallel {display: flex;align-items: stretch;justify-content: center;background-color: white;position: relative;}#sk-container-id-2 div.sk-item::before, #sk-container-id-2 div.sk-parallel-item::before {content: \"\";position: absolute;border-left: 1px solid gray;box-sizing: border-box;top: 0;bottom: 0;left: 50%;z-index: -1;}#sk-container-id-2 div.sk-parallel-item {display: flex;flex-direction: column;z-index: 1;position: relative;background-color: white;}#sk-container-id-2 div.sk-parallel-item:first-child::after {align-self: flex-end;width: 50%;}#sk-container-id-2 div.sk-parallel-item:last-child::after {align-self: flex-start;width: 50%;}#sk-container-id-2 div.sk-parallel-item:only-child::after {width: 0;}#sk-container-id-2 div.sk-dashed-wrapped {border: 1px dashed gray;margin: 0 0.4em 0.5em 0.4em;box-sizing: border-box;padding-bottom: 0.4em;background-color: white;}#sk-container-id-2 div.sk-label label {font-family: monospace;font-weight: bold;display: inline-block;line-height: 1.2em;}#sk-container-id-2 div.sk-label-container {text-align: center;}#sk-container-id-2 div.sk-container {/* jupyter's `normalize.less` sets `[hidden] { display: none; }` but bootstrap.min.css set `[hidden] { display: none !important; }` so we also need the `!important` here to be able to override the default hidden behavior on the sphinx rendered scikit-learn.org. See: https://github.com/scikit-learn/scikit-learn/issues/21755 */display: inline-block !important;position: relative;}#sk-container-id-2 div.sk-text-repr-fallback {display: none;}</style><div id=\"sk-container-id-2\" class=\"sk-top-container\"><div class=\"sk-text-repr-fallback\"><pre>MinMaxScaler()</pre><b>In a Jupyter environment, please rerun this cell to show the HTML representation or trust the notebook. <br />On GitHub, the HTML representation is unable to render, please try loading this page with nbviewer.org.</b></div><div class=\"sk-container\" hidden><div class=\"sk-item\"><div class=\"sk-estimator sk-toggleable\"><input class=\"sk-toggleable__control sk-hidden--visually\" id=\"sk-estimator-id-2\" type=\"checkbox\" checked><label for=\"sk-estimator-id-2\" class=\"sk-toggleable__label sk-toggleable__label-arrow\">MinMaxScaler</label><div class=\"sk-toggleable__content\"><pre>MinMaxScaler()</pre></div></div></div></div></div>"
      ],
      "text/plain": [
       "MinMaxScaler()"
      ]
     },
     "execution_count": 18,
     "metadata": {},
     "output_type": "execute_result"
    }
   ],
   "source": [
    "mm_scaler = MinMaxScaler()\n",
    "mm_scaler"
   ]
  },
  {
   "cell_type": "code",
   "execution_count": 19,
   "id": "dc4a6c93",
   "metadata": {
    "scrolled": true
   },
   "outputs": [
    {
     "data": {
      "text/html": [
       "<div>\n",
       "<style scoped>\n",
       "    .dataframe tbody tr th:only-of-type {\n",
       "        vertical-align: middle;\n",
       "    }\n",
       "\n",
       "    .dataframe tbody tr th {\n",
       "        vertical-align: top;\n",
       "    }\n",
       "\n",
       "    .dataframe thead th {\n",
       "        text-align: right;\n",
       "    }\n",
       "</style>\n",
       "<table border=\"1\" class=\"dataframe\">\n",
       "  <thead>\n",
       "    <tr style=\"text-align: right;\">\n",
       "      <th></th>\n",
       "      <th>0</th>\n",
       "      <th>1</th>\n",
       "      <th>2</th>\n",
       "      <th>3</th>\n",
       "      <th>4</th>\n",
       "      <th>5</th>\n",
       "      <th>6</th>\n",
       "      <th>7</th>\n",
       "      <th>8</th>\n",
       "      <th>9</th>\n",
       "    </tr>\n",
       "  </thead>\n",
       "  <tbody>\n",
       "    <tr>\n",
       "      <th>0</th>\n",
       "      <td>1.000000</td>\n",
       "      <td>0.112314</td>\n",
       "      <td>0.024393</td>\n",
       "      <td>0.076519</td>\n",
       "      <td>0.091720</td>\n",
       "      <td>0.140030</td>\n",
       "      <td>0.010791</td>\n",
       "      <td>0.006369</td>\n",
       "      <td>0.019608</td>\n",
       "      <td>0.0</td>\n",
       "    </tr>\n",
       "    <tr>\n",
       "      <th>1</th>\n",
       "      <td>0.333333</td>\n",
       "      <td>0.031847</td>\n",
       "      <td>0.000000</td>\n",
       "      <td>0.000000</td>\n",
       "      <td>0.031847</td>\n",
       "      <td>0.000000</td>\n",
       "      <td>0.000000</td>\n",
       "      <td>0.000000</td>\n",
       "      <td>0.000000</td>\n",
       "      <td>0.0</td>\n",
       "    </tr>\n",
       "    <tr>\n",
       "      <th>2</th>\n",
       "      <td>1.000000</td>\n",
       "      <td>0.048195</td>\n",
       "      <td>0.011243</td>\n",
       "      <td>0.016647</td>\n",
       "      <td>0.043312</td>\n",
       "      <td>0.031963</td>\n",
       "      <td>0.003597</td>\n",
       "      <td>0.006369</td>\n",
       "      <td>0.000000</td>\n",
       "      <td>0.0</td>\n",
       "    </tr>\n",
       "    <tr>\n",
       "      <th>3</th>\n",
       "      <td>0.333333</td>\n",
       "      <td>0.023567</td>\n",
       "      <td>0.000000</td>\n",
       "      <td>0.000000</td>\n",
       "      <td>0.023567</td>\n",
       "      <td>0.000000</td>\n",
       "      <td>0.000000</td>\n",
       "      <td>0.000000</td>\n",
       "      <td>0.000000</td>\n",
       "      <td>0.0</td>\n",
       "    </tr>\n",
       "    <tr>\n",
       "      <th>4</th>\n",
       "      <td>0.333333</td>\n",
       "      <td>0.045223</td>\n",
       "      <td>0.000000</td>\n",
       "      <td>0.000000</td>\n",
       "      <td>0.043312</td>\n",
       "      <td>0.013699</td>\n",
       "      <td>0.000000</td>\n",
       "      <td>0.000000</td>\n",
       "      <td>0.000000</td>\n",
       "      <td>0.0</td>\n",
       "    </tr>\n",
       "    <tr>\n",
       "      <th>...</th>\n",
       "      <td>...</td>\n",
       "      <td>...</td>\n",
       "      <td>...</td>\n",
       "      <td>...</td>\n",
       "      <td>...</td>\n",
       "      <td>...</td>\n",
       "      <td>...</td>\n",
       "      <td>...</td>\n",
       "      <td>...</td>\n",
       "      <td>...</td>\n",
       "    </tr>\n",
       "    <tr>\n",
       "      <th>7045</th>\n",
       "      <td>0.333333</td>\n",
       "      <td>0.018896</td>\n",
       "      <td>0.000000</td>\n",
       "      <td>0.000000</td>\n",
       "      <td>0.018896</td>\n",
       "      <td>0.000000</td>\n",
       "      <td>0.000000</td>\n",
       "      <td>0.000000</td>\n",
       "      <td>0.000000</td>\n",
       "      <td>0.0</td>\n",
       "    </tr>\n",
       "    <tr>\n",
       "      <th>7046</th>\n",
       "      <td>0.333333</td>\n",
       "      <td>0.003397</td>\n",
       "      <td>0.000000</td>\n",
       "      <td>0.000000</td>\n",
       "      <td>0.002972</td>\n",
       "      <td>0.001522</td>\n",
       "      <td>0.000000</td>\n",
       "      <td>0.006369</td>\n",
       "      <td>0.000000</td>\n",
       "      <td>0.0</td>\n",
       "    </tr>\n",
       "    <tr>\n",
       "      <th>7047</th>\n",
       "      <td>0.333333</td>\n",
       "      <td>0.000425</td>\n",
       "      <td>0.000000</td>\n",
       "      <td>0.000000</td>\n",
       "      <td>0.000212</td>\n",
       "      <td>0.001522</td>\n",
       "      <td>0.000000</td>\n",
       "      <td>0.000000</td>\n",
       "      <td>0.000000</td>\n",
       "      <td>0.0</td>\n",
       "    </tr>\n",
       "    <tr>\n",
       "      <th>7048</th>\n",
       "      <td>0.333333</td>\n",
       "      <td>0.074522</td>\n",
       "      <td>0.000572</td>\n",
       "      <td>0.006425</td>\n",
       "      <td>0.074098</td>\n",
       "      <td>0.003044</td>\n",
       "      <td>0.000000</td>\n",
       "      <td>0.000000</td>\n",
       "      <td>0.000000</td>\n",
       "      <td>0.0</td>\n",
       "    </tr>\n",
       "    <tr>\n",
       "      <th>7049</th>\n",
       "      <td>0.333333</td>\n",
       "      <td>0.003609</td>\n",
       "      <td>0.000000</td>\n",
       "      <td>0.000000</td>\n",
       "      <td>0.003609</td>\n",
       "      <td>0.000000</td>\n",
       "      <td>0.000000</td>\n",
       "      <td>0.000000</td>\n",
       "      <td>0.000000</td>\n",
       "      <td>0.0</td>\n",
       "    </tr>\n",
       "  </tbody>\n",
       "</table>\n",
       "<p>7050 rows × 10 columns</p>\n",
       "</div>"
      ],
      "text/plain": [
       "             0         1         2         3         4         5         6   \n",
       "0     1.000000  0.112314  0.024393  0.076519  0.091720  0.140030  0.010791  \\\n",
       "1     0.333333  0.031847  0.000000  0.000000  0.031847  0.000000  0.000000   \n",
       "2     1.000000  0.048195  0.011243  0.016647  0.043312  0.031963  0.003597   \n",
       "3     0.333333  0.023567  0.000000  0.000000  0.023567  0.000000  0.000000   \n",
       "4     0.333333  0.045223  0.000000  0.000000  0.043312  0.013699  0.000000   \n",
       "...        ...       ...       ...       ...       ...       ...       ...   \n",
       "7045  0.333333  0.018896  0.000000  0.000000  0.018896  0.000000  0.000000   \n",
       "7046  0.333333  0.003397  0.000000  0.000000  0.002972  0.001522  0.000000   \n",
       "7047  0.333333  0.000425  0.000000  0.000000  0.000212  0.001522  0.000000   \n",
       "7048  0.333333  0.074522  0.000572  0.006425  0.074098  0.003044  0.000000   \n",
       "7049  0.333333  0.003609  0.000000  0.000000  0.003609  0.000000  0.000000   \n",
       "\n",
       "             7         8    9  \n",
       "0     0.006369  0.019608  0.0  \n",
       "1     0.000000  0.000000  0.0  \n",
       "2     0.006369  0.000000  0.0  \n",
       "3     0.000000  0.000000  0.0  \n",
       "4     0.000000  0.000000  0.0  \n",
       "...        ...       ...  ...  \n",
       "7045  0.000000  0.000000  0.0  \n",
       "7046  0.006369  0.000000  0.0  \n",
       "7047  0.000000  0.000000  0.0  \n",
       "7048  0.000000  0.000000  0.0  \n",
       "7049  0.000000  0.000000  0.0  \n",
       "\n",
       "[7050 rows x 10 columns]"
      ]
     },
     "execution_count": 19,
     "metadata": {},
     "output_type": "execute_result"
    }
   ],
   "source": [
    "live_sell = pd.DataFrame(mm_scaler.fit_transform(live_sell))\n",
    "live_sell"
   ]
  },
  {
   "cell_type": "code",
   "execution_count": 40,
   "id": "37dacf9c",
   "metadata": {},
   "outputs": [],
   "source": [
    "from sklearn.impute import SimpleImputer"
   ]
  },
  {
   "cell_type": "code",
   "execution_count": 44,
   "id": "8abc2536",
   "metadata": {},
   "outputs": [
    {
     "data": {
      "text/plain": [
       "array([[1.00000000e+00, 1.12314225e-01, 2.43925679e-02, ...,\n",
       "        6.36942675e-03, 1.96078431e-02, 0.00000000e+00],\n",
       "       [3.33333333e-01, 3.18471338e-02, 0.00000000e+00, ...,\n",
       "        0.00000000e+00, 0.00000000e+00, 0.00000000e+00],\n",
       "       [1.00000000e+00, 4.81953291e-02, 1.12434493e-02, ...,\n",
       "        6.36942675e-03, 0.00000000e+00, 0.00000000e+00],\n",
       "       ...,\n",
       "       [3.33333333e-01, 4.24628450e-04, 0.00000000e+00, ...,\n",
       "        0.00000000e+00, 0.00000000e+00, 0.00000000e+00],\n",
       "       [3.33333333e-01, 7.45222930e-02, 5.71700810e-04, ...,\n",
       "        0.00000000e+00, 0.00000000e+00, 0.00000000e+00],\n",
       "       [3.33333333e-01, 3.60934183e-03, 0.00000000e+00, ...,\n",
       "        0.00000000e+00, 0.00000000e+00, 0.00000000e+00]])"
      ]
     },
     "execution_count": 44,
     "metadata": {},
     "output_type": "execute_result"
    }
   ],
   "source": [
    "imputer = SimpleImputer(strategy='mean')\n",
    "live_sell = imputer.fit_transform(live_sell)\n",
    "live_sell"
   ]
  },
  {
   "cell_type": "code",
   "execution_count": 46,
   "id": "e9819252",
   "metadata": {},
   "outputs": [],
   "source": [
    "from sklearn.cluster import KMeans"
   ]
  },
  {
   "cell_type": "code",
   "execution_count": 47,
   "id": "a6db3b50",
   "metadata": {
    "scrolled": false
   },
   "outputs": [
    {
     "data": {
      "text/html": [
       "<style>#sk-container-id-7 {color: black;background-color: white;}#sk-container-id-7 pre{padding: 0;}#sk-container-id-7 div.sk-toggleable {background-color: white;}#sk-container-id-7 label.sk-toggleable__label {cursor: pointer;display: block;width: 100%;margin-bottom: 0;padding: 0.3em;box-sizing: border-box;text-align: center;}#sk-container-id-7 label.sk-toggleable__label-arrow:before {content: \"▸\";float: left;margin-right: 0.25em;color: #696969;}#sk-container-id-7 label.sk-toggleable__label-arrow:hover:before {color: black;}#sk-container-id-7 div.sk-estimator:hover label.sk-toggleable__label-arrow:before {color: black;}#sk-container-id-7 div.sk-toggleable__content {max-height: 0;max-width: 0;overflow: hidden;text-align: left;background-color: #f0f8ff;}#sk-container-id-7 div.sk-toggleable__content pre {margin: 0.2em;color: black;border-radius: 0.25em;background-color: #f0f8ff;}#sk-container-id-7 input.sk-toggleable__control:checked~div.sk-toggleable__content {max-height: 200px;max-width: 100%;overflow: auto;}#sk-container-id-7 input.sk-toggleable__control:checked~label.sk-toggleable__label-arrow:before {content: \"▾\";}#sk-container-id-7 div.sk-estimator input.sk-toggleable__control:checked~label.sk-toggleable__label {background-color: #d4ebff;}#sk-container-id-7 div.sk-label input.sk-toggleable__control:checked~label.sk-toggleable__label {background-color: #d4ebff;}#sk-container-id-7 input.sk-hidden--visually {border: 0;clip: rect(1px 1px 1px 1px);clip: rect(1px, 1px, 1px, 1px);height: 1px;margin: -1px;overflow: hidden;padding: 0;position: absolute;width: 1px;}#sk-container-id-7 div.sk-estimator {font-family: monospace;background-color: #f0f8ff;border: 1px dotted black;border-radius: 0.25em;box-sizing: border-box;margin-bottom: 0.5em;}#sk-container-id-7 div.sk-estimator:hover {background-color: #d4ebff;}#sk-container-id-7 div.sk-parallel-item::after {content: \"\";width: 100%;border-bottom: 1px solid gray;flex-grow: 1;}#sk-container-id-7 div.sk-label:hover label.sk-toggleable__label {background-color: #d4ebff;}#sk-container-id-7 div.sk-serial::before {content: \"\";position: absolute;border-left: 1px solid gray;box-sizing: border-box;top: 0;bottom: 0;left: 50%;z-index: 0;}#sk-container-id-7 div.sk-serial {display: flex;flex-direction: column;align-items: center;background-color: white;padding-right: 0.2em;padding-left: 0.2em;position: relative;}#sk-container-id-7 div.sk-item {position: relative;z-index: 1;}#sk-container-id-7 div.sk-parallel {display: flex;align-items: stretch;justify-content: center;background-color: white;position: relative;}#sk-container-id-7 div.sk-item::before, #sk-container-id-7 div.sk-parallel-item::before {content: \"\";position: absolute;border-left: 1px solid gray;box-sizing: border-box;top: 0;bottom: 0;left: 50%;z-index: -1;}#sk-container-id-7 div.sk-parallel-item {display: flex;flex-direction: column;z-index: 1;position: relative;background-color: white;}#sk-container-id-7 div.sk-parallel-item:first-child::after {align-self: flex-end;width: 50%;}#sk-container-id-7 div.sk-parallel-item:last-child::after {align-self: flex-start;width: 50%;}#sk-container-id-7 div.sk-parallel-item:only-child::after {width: 0;}#sk-container-id-7 div.sk-dashed-wrapped {border: 1px dashed gray;margin: 0 0.4em 0.5em 0.4em;box-sizing: border-box;padding-bottom: 0.4em;background-color: white;}#sk-container-id-7 div.sk-label label {font-family: monospace;font-weight: bold;display: inline-block;line-height: 1.2em;}#sk-container-id-7 div.sk-label-container {text-align: center;}#sk-container-id-7 div.sk-container {/* jupyter's `normalize.less` sets `[hidden] { display: none; }` but bootstrap.min.css set `[hidden] { display: none !important; }` so we also need the `!important` here to be able to override the default hidden behavior on the sphinx rendered scikit-learn.org. See: https://github.com/scikit-learn/scikit-learn/issues/21755 */display: inline-block !important;position: relative;}#sk-container-id-7 div.sk-text-repr-fallback {display: none;}</style><div id=\"sk-container-id-7\" class=\"sk-top-container\"><div class=\"sk-text-repr-fallback\"><pre>KMeans(n_clusters=2, n_init=&#x27;auto&#x27;, random_state=5)</pre><b>In a Jupyter environment, please rerun this cell to show the HTML representation or trust the notebook. <br />On GitHub, the HTML representation is unable to render, please try loading this page with nbviewer.org.</b></div><div class=\"sk-container\" hidden><div class=\"sk-item\"><div class=\"sk-estimator sk-toggleable\"><input class=\"sk-toggleable__control sk-hidden--visually\" id=\"sk-estimator-id-7\" type=\"checkbox\" checked><label for=\"sk-estimator-id-7\" class=\"sk-toggleable__label sk-toggleable__label-arrow\">KMeans</label><div class=\"sk-toggleable__content\"><pre>KMeans(n_clusters=2, n_init=&#x27;auto&#x27;, random_state=5)</pre></div></div></div></div></div>"
      ],
      "text/plain": [
       "KMeans(n_clusters=2, n_init='auto', random_state=5)"
      ]
     },
     "execution_count": 47,
     "metadata": {},
     "output_type": "execute_result"
    }
   ],
   "source": [
    "km = KMeans(n_clusters=2,n_init='auto',random_state=5)\n",
    "km"
   ]
  },
  {
   "cell_type": "code",
   "execution_count": 48,
   "id": "79858d11",
   "metadata": {
    "scrolled": false
   },
   "outputs": [
    {
     "data": {
      "text/plain": [
       "array([1, 0, 1, ..., 0, 0, 0], dtype=int32)"
      ]
     },
     "execution_count": 48,
     "metadata": {},
     "output_type": "execute_result"
    }
   ],
   "source": [
    "km_fit_data = km.fit_predict(live_sell)\n",
    "km_fit_data"
   ]
  },
  {
   "cell_type": "code",
   "execution_count": 49,
   "id": "c2b51c99",
   "metadata": {},
   "outputs": [
    {
     "data": {
      "text/plain": [
       "240.06686397262814"
      ]
     },
     "execution_count": 49,
     "metadata": {},
     "output_type": "execute_result"
    }
   ],
   "source": [
    "km.inertia_"
   ]
  },
  {
   "cell_type": "code",
   "execution_count": 32,
   "id": "3a095346",
   "metadata": {
    "scrolled": false
   },
   "outputs": [
    {
     "data": {
      "text/plain": [
       "[<matplotlib.lines.Line2D at 0x2813d3d90>,\n",
       " <matplotlib.lines.Line2D at 0x2813dc9d0>]"
      ]
     },
     "execution_count": 32,
     "metadata": {},
     "output_type": "execute_result"
    },
    {
     "data": {
      "image/png": "[encoded data removed]",
      "text/plain": [
       "<Figure size 640x480 with 1 Axes>"
      ]
     },
     "metadata": {},
     "output_type": "display_data"
    }
   ],
   "source": [
    "mplt.plot(km_fit_data)"
   ]
  },
  {
   "cell_type": "code",
   "execution_count": 52,
   "id": "a6411ee1",
   "metadata": {
    "scrolled": false
   },
   "outputs": [
    {
     "name": "stdout",
     "output_type": "stream",
     "text": [
      "7050\n"
     ]
    }
   ],
   "source": [
    "z = ()\n",
    "for i in range(0,7051):\n",
    "    a = i\n",
    "print(a)"
   ]
  },
  {
   "cell_type": "code",
   "execution_count": 54,
   "id": "4c4888c8",
   "metadata": {},
   "outputs": [
    {
     "data": {
      "text/plain": [
       "7050"
      ]
     },
     "execution_count": 54,
     "metadata": {},
     "output_type": "execute_result"
    }
   ],
   "source": [
    "len(km_fit_data)"
   ]
  },
  {
   "cell_type": "code",
   "execution_count": 55,
   "id": "28386e4b",
   "metadata": {},
   "outputs": [
    {
     "ename": "ValueError",
     "evalue": "x and y must be the same size",
     "output_type": "error",
     "traceback": [
      "\u001b[0;31m---------------------------------------------------------------------------\u001b[0m",
      "\u001b[0;31mValueError\u001b[0m                                Traceback (most recent call last)",
      "Cell \u001b[0;32mIn[55], line 1\u001b[0m\n\u001b[0;32m----> 1\u001b[0m \u001b[43mmplt\u001b[49m\u001b[38;5;241;43m.\u001b[39;49m\u001b[43mscatter\u001b[49m\u001b[43m(\u001b[49m\u001b[38;5;28;43mrange\u001b[39;49m\u001b[43m(\u001b[49m\u001b[38;5;241;43m0\u001b[39;49m\u001b[43m,\u001b[49m\u001b[38;5;241;43m7051\u001b[39;49m\u001b[43m)\u001b[49m\u001b[43m,\u001b[49m\u001b[43mkm_fit_data\u001b[49m\u001b[43m)\u001b[49m\n",
      "File \u001b[0;32m~/tensorflow-test/env/lib/python3.11/site-packages/matplotlib/pyplot.py:2862\u001b[0m, in \u001b[0;36mscatter\u001b[0;34m(x, y, s, c, marker, cmap, norm, vmin, vmax, alpha, linewidths, edgecolors, plotnonfinite, data, **kwargs)\u001b[0m\n\u001b[1;32m   2857\u001b[0m \u001b[38;5;129m@_copy_docstring_and_deprecators\u001b[39m(Axes\u001b[38;5;241m.\u001b[39mscatter)\n\u001b[1;32m   2858\u001b[0m \u001b[38;5;28;01mdef\u001b[39;00m \u001b[38;5;21mscatter\u001b[39m(\n\u001b[1;32m   2859\u001b[0m         x, y, s\u001b[38;5;241m=\u001b[39m\u001b[38;5;28;01mNone\u001b[39;00m, c\u001b[38;5;241m=\u001b[39m\u001b[38;5;28;01mNone\u001b[39;00m, marker\u001b[38;5;241m=\u001b[39m\u001b[38;5;28;01mNone\u001b[39;00m, cmap\u001b[38;5;241m=\u001b[39m\u001b[38;5;28;01mNone\u001b[39;00m, norm\u001b[38;5;241m=\u001b[39m\u001b[38;5;28;01mNone\u001b[39;00m,\n\u001b[1;32m   2860\u001b[0m         vmin\u001b[38;5;241m=\u001b[39m\u001b[38;5;28;01mNone\u001b[39;00m, vmax\u001b[38;5;241m=\u001b[39m\u001b[38;5;28;01mNone\u001b[39;00m, alpha\u001b[38;5;241m=\u001b[39m\u001b[38;5;28;01mNone\u001b[39;00m, linewidths\u001b[38;5;241m=\u001b[39m\u001b[38;5;28;01mNone\u001b[39;00m, \u001b[38;5;241m*\u001b[39m,\n\u001b[1;32m   2861\u001b[0m         edgecolors\u001b[38;5;241m=\u001b[39m\u001b[38;5;28;01mNone\u001b[39;00m, plotnonfinite\u001b[38;5;241m=\u001b[39m\u001b[38;5;28;01mFalse\u001b[39;00m, data\u001b[38;5;241m=\u001b[39m\u001b[38;5;28;01mNone\u001b[39;00m, \u001b[38;5;241m*\u001b[39m\u001b[38;5;241m*\u001b[39mkwargs):\n\u001b[0;32m-> 2862\u001b[0m     __ret \u001b[38;5;241m=\u001b[39m \u001b[43mgca\u001b[49m\u001b[43m(\u001b[49m\u001b[43m)\u001b[49m\u001b[38;5;241;43m.\u001b[39;49m\u001b[43mscatter\u001b[49m\u001b[43m(\u001b[49m\n\u001b[1;32m   2863\u001b[0m \u001b[43m        \u001b[49m\u001b[43mx\u001b[49m\u001b[43m,\u001b[49m\u001b[43m \u001b[49m\u001b[43my\u001b[49m\u001b[43m,\u001b[49m\u001b[43m \u001b[49m\u001b[43ms\u001b[49m\u001b[38;5;241;43m=\u001b[39;49m\u001b[43ms\u001b[49m\u001b[43m,\u001b[49m\u001b[43m \u001b[49m\u001b[43mc\u001b[49m\u001b[38;5;241;43m=\u001b[39;49m\u001b[43mc\u001b[49m\u001b[43m,\u001b[49m\u001b[43m \u001b[49m\u001b[43mmarker\u001b[49m\u001b[38;5;241;43m=\u001b[39;49m\u001b[43mmarker\u001b[49m\u001b[43m,\u001b[49m\u001b[43m \u001b[49m\u001b[43mcmap\u001b[49m\u001b[38;5;241;43m=\u001b[39;49m\u001b[43mcmap\u001b[49m\u001b[43m,\u001b[49m\u001b[43m \u001b[49m\u001b[43mnorm\u001b[49m\u001b[38;5;241;43m=\u001b[39;49m\u001b[43mnorm\u001b[49m\u001b[43m,\u001b[49m\n\u001b[1;32m   2864\u001b[0m \u001b[43m        \u001b[49m\u001b[43mvmin\u001b[49m\u001b[38;5;241;43m=\u001b[39;49m\u001b[43mvmin\u001b[49m\u001b[43m,\u001b[49m\u001b[43m \u001b[49m\u001b[43mvmax\u001b[49m\u001b[38;5;241;43m=\u001b[39;49m\u001b[43mvmax\u001b[49m\u001b[43m,\u001b[49m\u001b[43m \u001b[49m\u001b[43malpha\u001b[49m\u001b[38;5;241;43m=\u001b[39;49m\u001b[43malpha\u001b[49m\u001b[43m,\u001b[49m\u001b[43m \u001b[49m\u001b[43mlinewidths\u001b[49m\u001b[38;5;241;43m=\u001b[39;49m\u001b[43mlinewidths\u001b[49m\u001b[43m,\u001b[49m\n\u001b[1;32m   2865\u001b[0m \u001b[43m        \u001b[49m\u001b[43medgecolors\u001b[49m\u001b[38;5;241;43m=\u001b[39;49m\u001b[43medgecolors\u001b[49m\u001b[43m,\u001b[49m\u001b[43m \u001b[49m\u001b[43mplotnonfinite\u001b[49m\u001b[38;5;241;43m=\u001b[39;49m\u001b[43mplotnonfinite\u001b[49m\u001b[43m,\u001b[49m\n\u001b[1;32m   2866\u001b[0m \u001b[43m        \u001b[49m\u001b[38;5;241;43m*\u001b[39;49m\u001b[38;5;241;43m*\u001b[39;49m\u001b[43m(\u001b[49m\u001b[43m{\u001b[49m\u001b[38;5;124;43m\"\u001b[39;49m\u001b[38;5;124;43mdata\u001b[39;49m\u001b[38;5;124;43m\"\u001b[39;49m\u001b[43m:\u001b[49m\u001b[43m \u001b[49m\u001b[43mdata\u001b[49m\u001b[43m}\u001b[49m\u001b[43m \u001b[49m\u001b[38;5;28;43;01mif\u001b[39;49;00m\u001b[43m \u001b[49m\u001b[43mdata\u001b[49m\u001b[43m \u001b[49m\u001b[38;5;129;43;01mis\u001b[39;49;00m\u001b[43m \u001b[49m\u001b[38;5;129;43;01mnot\u001b[39;49;00m\u001b[43m \u001b[49m\u001b[38;5;28;43;01mNone\u001b[39;49;00m\u001b[43m \u001b[49m\u001b[38;5;28;43;01melse\u001b[39;49;00m\u001b[43m \u001b[49m\u001b[43m{\u001b[49m\u001b[43m}\u001b[49m\u001b[43m)\u001b[49m\u001b[43m,\u001b[49m\u001b[43m \u001b[49m\u001b[38;5;241;43m*\u001b[39;49m\u001b[38;5;241;43m*\u001b[39;49m\u001b[43mkwargs\u001b[49m\u001b[43m)\u001b[49m\n\u001b[1;32m   2867\u001b[0m     sci(__ret)\n\u001b[1;32m   2868\u001b[0m     \u001b[38;5;28;01mreturn\u001b[39;00m __ret\n",
      "File \u001b[0;32m~/tensorflow-test/env/lib/python3.11/site-packages/matplotlib/__init__.py:1442\u001b[0m, in \u001b[0;36m_preprocess_data.<locals>.inner\u001b[0;34m(ax, data, *args, **kwargs)\u001b[0m\n\u001b[1;32m   1439\u001b[0m \u001b[38;5;129m@functools\u001b[39m\u001b[38;5;241m.\u001b[39mwraps(func)\n\u001b[1;32m   1440\u001b[0m \u001b[38;5;28;01mdef\u001b[39;00m \u001b[38;5;21minner\u001b[39m(ax, \u001b[38;5;241m*\u001b[39margs, data\u001b[38;5;241m=\u001b[39m\u001b[38;5;28;01mNone\u001b[39;00m, \u001b[38;5;241m*\u001b[39m\u001b[38;5;241m*\u001b[39mkwargs):\n\u001b[1;32m   1441\u001b[0m     \u001b[38;5;28;01mif\u001b[39;00m data \u001b[38;5;129;01mis\u001b[39;00m \u001b[38;5;28;01mNone\u001b[39;00m:\n\u001b[0;32m-> 1442\u001b[0m         \u001b[38;5;28;01mreturn\u001b[39;00m \u001b[43mfunc\u001b[49m\u001b[43m(\u001b[49m\u001b[43max\u001b[49m\u001b[43m,\u001b[49m\u001b[43m \u001b[49m\u001b[38;5;241;43m*\u001b[39;49m\u001b[38;5;28;43mmap\u001b[39;49m\u001b[43m(\u001b[49m\u001b[43msanitize_sequence\u001b[49m\u001b[43m,\u001b[49m\u001b[43m \u001b[49m\u001b[43margs\u001b[49m\u001b[43m)\u001b[49m\u001b[43m,\u001b[49m\u001b[43m \u001b[49m\u001b[38;5;241;43m*\u001b[39;49m\u001b[38;5;241;43m*\u001b[39;49m\u001b[43mkwargs\u001b[49m\u001b[43m)\u001b[49m\n\u001b[1;32m   1444\u001b[0m     bound \u001b[38;5;241m=\u001b[39m new_sig\u001b[38;5;241m.\u001b[39mbind(ax, \u001b[38;5;241m*\u001b[39margs, \u001b[38;5;241m*\u001b[39m\u001b[38;5;241m*\u001b[39mkwargs)\n\u001b[1;32m   1445\u001b[0m     auto_label \u001b[38;5;241m=\u001b[39m (bound\u001b[38;5;241m.\u001b[39marguments\u001b[38;5;241m.\u001b[39mget(label_namer)\n\u001b[1;32m   1446\u001b[0m                   \u001b[38;5;129;01mor\u001b[39;00m bound\u001b[38;5;241m.\u001b[39mkwargs\u001b[38;5;241m.\u001b[39mget(label_namer))\n",
      "File \u001b[0;32m~/tensorflow-test/env/lib/python3.11/site-packages/matplotlib/axes/_axes.py:4584\u001b[0m, in \u001b[0;36mAxes.scatter\u001b[0;34m(self, x, y, s, c, marker, cmap, norm, vmin, vmax, alpha, linewidths, edgecolors, plotnonfinite, **kwargs)\u001b[0m\n\u001b[1;32m   4582\u001b[0m y \u001b[38;5;241m=\u001b[39m np\u001b[38;5;241m.\u001b[39mma\u001b[38;5;241m.\u001b[39mravel(y)\n\u001b[1;32m   4583\u001b[0m \u001b[38;5;28;01mif\u001b[39;00m x\u001b[38;5;241m.\u001b[39msize \u001b[38;5;241m!=\u001b[39m y\u001b[38;5;241m.\u001b[39msize:\n\u001b[0;32m-> 4584\u001b[0m     \u001b[38;5;28;01mraise\u001b[39;00m \u001b[38;5;167;01mValueError\u001b[39;00m(\u001b[38;5;124m\"\u001b[39m\u001b[38;5;124mx and y must be the same size\u001b[39m\u001b[38;5;124m\"\u001b[39m)\n\u001b[1;32m   4586\u001b[0m \u001b[38;5;28;01mif\u001b[39;00m s \u001b[38;5;129;01mis\u001b[39;00m \u001b[38;5;28;01mNone\u001b[39;00m:\n\u001b[1;32m   4587\u001b[0m     s \u001b[38;5;241m=\u001b[39m (\u001b[38;5;241m20\u001b[39m \u001b[38;5;28;01mif\u001b[39;00m mpl\u001b[38;5;241m.\u001b[39mrcParams[\u001b[38;5;124m'\u001b[39m\u001b[38;5;124m_internal.classic_mode\u001b[39m\u001b[38;5;124m'\u001b[39m] \u001b[38;5;28;01melse\u001b[39;00m\n\u001b[1;32m   4588\u001b[0m          mpl\u001b[38;5;241m.\u001b[39mrcParams[\u001b[38;5;124m'\u001b[39m\u001b[38;5;124mlines.markersize\u001b[39m\u001b[38;5;124m'\u001b[39m] \u001b[38;5;241m*\u001b[39m\u001b[38;5;241m*\u001b[39m \u001b[38;5;241m2.0\u001b[39m)\n",
      "\u001b[0;31mValueError\u001b[0m: x and y must be the same size"
     ]
    },
    {
     "data": {
      "image/png": "[encoded data removed]",
      "text/plain": [
       "<Figure size 640x480 with 1 Axes>"
      ]
     },
     "metadata": {},
     "output_type": "display_data"
    }
   ],
   "source": [
    "mplt.scatter(range(0,7051),km_fit_data)"
   ]
  },
  {
   "cell_type": "code",
   "execution_count": 26,
   "id": "f44ba134",
   "metadata": {
    "scrolled": false
   },
   "outputs": [
    {
     "name": "stdout",
     "output_type": "stream",
     "text": [
      "[0 1]\n"
     ]
    },
    {
     "data": {
      "text/plain": [
       "array([1, 0, 1, ..., 0, 0, 0], dtype=int32)"
      ]
     },
     "execution_count": 26,
     "metadata": {},
     "output_type": "execute_result"
    }
   ],
   "source": [
    "labels = km.labels_\n",
    "print(np.unique(labels))\n",
    "labels"
   ]
  },
  {
   "cell_type": "code",
   "execution_count": 29,
   "id": "286a5145",
   "metadata": {
    "scrolled": true
   },
   "outputs": [
    {
     "data": {
      "text/plain": [
       "(2, 10)"
      ]
     },
     "execution_count": 29,
     "metadata": {},
     "output_type": "execute_result"
    }
   ],
   "source": [
    "centroids = km.cluster_centers_\n",
    "centroids.shape"
   ]
  },
  {
   "cell_type": "code",
   "execution_count": 199,
   "id": "29e0fbaa",
   "metadata": {},
   "outputs": [
    {
     "data": {
      "text/plain": [
       "array([1, 0, 1, ..., 0, 0, 0], dtype=int32)"
      ]
     },
     "execution_count": 199,
     "metadata": {},
     "output_type": "execute_result"
    }
   ],
   "source": [
    "labels"
   ]
  },
  {
   "cell_type": "code",
   "execution_count": 200,
   "id": "38e2239a",
   "metadata": {
    "scrolled": true
   },
   "outputs": [
    {
     "data": {
      "text/html": [
       "<div>\n",
       "<style scoped>\n",
       "    .dataframe tbody tr th:only-of-type {\n",
       "        vertical-align: middle;\n",
       "    }\n",
       "\n",
       "    .dataframe tbody tr th {\n",
       "        vertical-align: top;\n",
       "    }\n",
       "\n",
       "    .dataframe thead th {\n",
       "        text-align: right;\n",
       "    }\n",
       "</style>\n",
       "<table border=\"1\" class=\"dataframe\">\n",
       "  <thead>\n",
       "    <tr style=\"text-align: right;\">\n",
       "      <th></th>\n",
       "      <th>0</th>\n",
       "      <th>1</th>\n",
       "      <th>2</th>\n",
       "      <th>3</th>\n",
       "      <th>4</th>\n",
       "      <th>5</th>\n",
       "      <th>6</th>\n",
       "      <th>7</th>\n",
       "      <th>8</th>\n",
       "      <th>9</th>\n",
       "      <th>labels</th>\n",
       "    </tr>\n",
       "  </thead>\n",
       "  <tbody>\n",
       "    <tr>\n",
       "      <th>0</th>\n",
       "      <td>1.000000</td>\n",
       "      <td>0.112314</td>\n",
       "      <td>0.024393</td>\n",
       "      <td>0.076519</td>\n",
       "      <td>0.091720</td>\n",
       "      <td>0.140030</td>\n",
       "      <td>0.010791</td>\n",
       "      <td>0.006369</td>\n",
       "      <td>0.019608</td>\n",
       "      <td>0.0</td>\n",
       "      <td>1</td>\n",
       "    </tr>\n",
       "    <tr>\n",
       "      <th>1</th>\n",
       "      <td>0.333333</td>\n",
       "      <td>0.031847</td>\n",
       "      <td>0.000000</td>\n",
       "      <td>0.000000</td>\n",
       "      <td>0.031847</td>\n",
       "      <td>0.000000</td>\n",
       "      <td>0.000000</td>\n",
       "      <td>0.000000</td>\n",
       "      <td>0.000000</td>\n",
       "      <td>0.0</td>\n",
       "      <td>0</td>\n",
       "    </tr>\n",
       "    <tr>\n",
       "      <th>2</th>\n",
       "      <td>1.000000</td>\n",
       "      <td>0.048195</td>\n",
       "      <td>0.011243</td>\n",
       "      <td>0.016647</td>\n",
       "      <td>0.043312</td>\n",
       "      <td>0.031963</td>\n",
       "      <td>0.003597</td>\n",
       "      <td>0.006369</td>\n",
       "      <td>0.000000</td>\n",
       "      <td>0.0</td>\n",
       "      <td>1</td>\n",
       "    </tr>\n",
       "    <tr>\n",
       "      <th>3</th>\n",
       "      <td>0.333333</td>\n",
       "      <td>0.023567</td>\n",
       "      <td>0.000000</td>\n",
       "      <td>0.000000</td>\n",
       "      <td>0.023567</td>\n",
       "      <td>0.000000</td>\n",
       "      <td>0.000000</td>\n",
       "      <td>0.000000</td>\n",
       "      <td>0.000000</td>\n",
       "      <td>0.0</td>\n",
       "      <td>0</td>\n",
       "    </tr>\n",
       "    <tr>\n",
       "      <th>4</th>\n",
       "      <td>0.333333</td>\n",
       "      <td>0.045223</td>\n",
       "      <td>0.000000</td>\n",
       "      <td>0.000000</td>\n",
       "      <td>0.043312</td>\n",
       "      <td>0.013699</td>\n",
       "      <td>0.000000</td>\n",
       "      <td>0.000000</td>\n",
       "      <td>0.000000</td>\n",
       "      <td>0.0</td>\n",
       "      <td>0</td>\n",
       "    </tr>\n",
       "    <tr>\n",
       "      <th>...</th>\n",
       "      <td>...</td>\n",
       "      <td>...</td>\n",
       "      <td>...</td>\n",
       "      <td>...</td>\n",
       "      <td>...</td>\n",
       "      <td>...</td>\n",
       "      <td>...</td>\n",
       "      <td>...</td>\n",
       "      <td>...</td>\n",
       "      <td>...</td>\n",
       "      <td>...</td>\n",
       "    </tr>\n",
       "    <tr>\n",
       "      <th>7045</th>\n",
       "      <td>0.333333</td>\n",
       "      <td>0.018896</td>\n",
       "      <td>0.000000</td>\n",
       "      <td>0.000000</td>\n",
       "      <td>0.018896</td>\n",
       "      <td>0.000000</td>\n",
       "      <td>0.000000</td>\n",
       "      <td>0.000000</td>\n",
       "      <td>0.000000</td>\n",
       "      <td>0.0</td>\n",
       "      <td>0</td>\n",
       "    </tr>\n",
       "    <tr>\n",
       "      <th>7046</th>\n",
       "      <td>0.333333</td>\n",
       "      <td>0.003397</td>\n",
       "      <td>0.000000</td>\n",
       "      <td>0.000000</td>\n",
       "      <td>0.002972</td>\n",
       "      <td>0.001522</td>\n",
       "      <td>0.000000</td>\n",
       "      <td>0.006369</td>\n",
       "      <td>0.000000</td>\n",
       "      <td>0.0</td>\n",
       "      <td>0</td>\n",
       "    </tr>\n",
       "    <tr>\n",
       "      <th>7047</th>\n",
       "      <td>0.333333</td>\n",
       "      <td>0.000425</td>\n",
       "      <td>0.000000</td>\n",
       "      <td>0.000000</td>\n",
       "      <td>0.000212</td>\n",
       "      <td>0.001522</td>\n",
       "      <td>0.000000</td>\n",
       "      <td>0.000000</td>\n",
       "      <td>0.000000</td>\n",
       "      <td>0.0</td>\n",
       "      <td>0</td>\n",
       "    </tr>\n",
       "    <tr>\n",
       "      <th>7048</th>\n",
       "      <td>0.333333</td>\n",
       "      <td>0.074522</td>\n",
       "      <td>0.000572</td>\n",
       "      <td>0.006425</td>\n",
       "      <td>0.074098</td>\n",
       "      <td>0.003044</td>\n",
       "      <td>0.000000</td>\n",
       "      <td>0.000000</td>\n",
       "      <td>0.000000</td>\n",
       "      <td>0.0</td>\n",
       "      <td>0</td>\n",
       "    </tr>\n",
       "    <tr>\n",
       "      <th>7049</th>\n",
       "      <td>0.333333</td>\n",
       "      <td>0.003609</td>\n",
       "      <td>0.000000</td>\n",
       "      <td>0.000000</td>\n",
       "      <td>0.003609</td>\n",
       "      <td>0.000000</td>\n",
       "      <td>0.000000</td>\n",
       "      <td>0.000000</td>\n",
       "      <td>0.000000</td>\n",
       "      <td>0.0</td>\n",
       "      <td>0</td>\n",
       "    </tr>\n",
       "  </tbody>\n",
       "</table>\n",
       "<p>7050 rows × 11 columns</p>\n",
       "</div>"
      ],
      "text/plain": [
       "             0         1         2         3         4         5         6   \n",
       "0     1.000000  0.112314  0.024393  0.076519  0.091720  0.140030  0.010791  \\\n",
       "1     0.333333  0.031847  0.000000  0.000000  0.031847  0.000000  0.000000   \n",
       "2     1.000000  0.048195  0.011243  0.016647  0.043312  0.031963  0.003597   \n",
       "3     0.333333  0.023567  0.000000  0.000000  0.023567  0.000000  0.000000   \n",
       "4     0.333333  0.045223  0.000000  0.000000  0.043312  0.013699  0.000000   \n",
       "...        ...       ...       ...       ...       ...       ...       ...   \n",
       "7045  0.333333  0.018896  0.000000  0.000000  0.018896  0.000000  0.000000   \n",
       "7046  0.333333  0.003397  0.000000  0.000000  0.002972  0.001522  0.000000   \n",
       "7047  0.333333  0.000425  0.000000  0.000000  0.000212  0.001522  0.000000   \n",
       "7048  0.333333  0.074522  0.000572  0.006425  0.074098  0.003044  0.000000   \n",
       "7049  0.333333  0.003609  0.000000  0.000000  0.003609  0.000000  0.000000   \n",
       "\n",
       "             7         8    9  labels  \n",
       "0     0.006369  0.019608  0.0       1  \n",
       "1     0.000000  0.000000  0.0       0  \n",
       "2     0.006369  0.000000  0.0       1  \n",
       "3     0.000000  0.000000  0.0       0  \n",
       "4     0.000000  0.000000  0.0       0  \n",
       "...        ...       ...  ...     ...  \n",
       "7045  0.000000  0.000000  0.0       0  \n",
       "7046  0.006369  0.000000  0.0       0  \n",
       "7047  0.000000  0.000000  0.0       0  \n",
       "7048  0.000000  0.000000  0.0       0  \n",
       "7049  0.000000  0.000000  0.0       0  \n",
       "\n",
       "[7050 rows x 11 columns]"
      ]
     },
     "execution_count": 200,
     "metadata": {},
     "output_type": "execute_result"
    }
   ],
   "source": [
    "live_sell['labels'] = labels\n",
    "live_sell"
   ]
  },
  {
   "cell_type": "code",
   "execution_count": null,
   "id": "82eb0f49",
   "metadata": {},
   "outputs": [],
   "source": []
  },
  {
   "cell_type": "code",
   "execution_count": 208,
   "id": "4cad453b",
   "metadata": {
    "scrolled": true
   },
   "outputs": [
    {
     "data": {
      "text/plain": [
       "(4597, 11)"
      ]
     },
     "execution_count": 208,
     "metadata": {},
     "output_type": "execute_result"
    }
   ],
   "source": [
    "c1 = live_sell[live_sell.labels == 0].values\n",
    "c1.shape\n"
   ]
  },
  {
   "cell_type": "code",
   "execution_count": 211,
   "id": "a9c00921",
   "metadata": {
    "scrolled": true
   },
   "outputs": [
    {
     "data": {
      "text/plain": [
       "(2453, 11)"
      ]
     },
     "execution_count": 211,
     "metadata": {},
     "output_type": "execute_result"
    }
   ],
   "source": [
    "c2 = live_sell[live_sell.labels == 1].values\n",
    "c2.shape"
   ]
  },
  {
   "cell_type": "code",
   "execution_count": null,
   "id": "8ff40fa1",
   "metadata": {},
   "outputs": [],
   "source": [
    "cent1 = np.mean(c1,axis = 0)\n",
    "cent2 = np.mean(c2,axis = 0)"
   ]
  },
  {
   "cell_type": "code",
   "execution_count": 179,
   "id": "07371884",
   "metadata": {
    "scrolled": true
   },
   "outputs": [
    {
     "data": {
      "text/plain": [
       "array([[3.46114742e-01, 3.79499419e-02, 7.50777681e-04, 7.30521960e-04,\n",
       "        3.74326631e-02, 2.13023481e-03, 2.35732982e-03, 1.18368650e-03,\n",
       "        2.91340937e-03, 1.42666386e-03],\n",
       "       [9.82926829e-01, 6.92083959e-02, 2.92314381e-02, 3.21354285e-02,\n",
       "        6.10015880e-02, 5.15480566e-02, 8.89337311e-03, 1.05043757e-02,\n",
       "        8.25761199e-03, 7.80225544e-03]])"
      ]
     },
     "execution_count": 179,
     "metadata": {},
     "output_type": "execute_result"
    }
   ],
   "source": [
    "centroids = km.cluster_centers_\n",
    "centroids"
   ]
  },
  {
   "cell_type": "code",
   "execution_count": 173,
   "id": "96687e01",
   "metadata": {},
   "outputs": [],
   "source": [
    "from itertools import combinations"
   ]
  },
  {
   "cell_type": "code",
   "execution_count": 187,
   "id": "65c3ea41",
   "metadata": {},
   "outputs": [],
   "source": [
    "store = []\n",
    "for center1,center2 in combinations(centroids,2):\n",
    "    distance = np.linalg.norm(center1 - center2)\n",
    "    inter_cluster_variance += distance**2 \n",
    "    store.append(inter_cluster_variance)"
   ]
  },
  {
   "cell_type": "code",
   "execution_count": 188,
   "id": "fda6dcf1",
   "metadata": {},
   "outputs": [
    {
     "data": {
      "text/plain": [
       "[array([], dtype=float64)]"
      ]
     },
     "execution_count": 188,
     "metadata": {},
     "output_type": "execute_result"
    }
   ],
   "source": [
    "store"
   ]
  },
  {
   "cell_type": "code",
   "execution_count": 193,
   "id": "7acdff81",
   "metadata": {},
   "outputs": [
    {
     "data": {
      "text/plain": [
       "0.41150056047633204"
      ]
     },
     "execution_count": 193,
     "metadata": {},
     "output_type": "execute_result"
    }
   ],
   "source": [
    "np.linalg.norm(center1 - center2)**2"
   ]
  },
  {
   "cell_type": "code",
   "execution_count": 195,
   "id": "8fa488d7",
   "metadata": {},
   "outputs": [
    {
     "data": {
      "text/plain": [
       "1.2345016814289962"
      ]
     },
     "execution_count": 195,
     "metadata": {},
     "output_type": "execute_result"
    }
   ],
   "source": [
    "0.41150056047633204+0.41150056047633204+0.41150056047633204"
   ]
  },
  {
   "cell_type": "code",
   "execution_count": null,
   "id": "8cf9f65d",
   "metadata": {},
   "outputs": [],
   "source": []
  },
  {
   "cell_type": "code",
   "execution_count": null,
   "id": "b2bba4b4",
   "metadata": {},
   "outputs": [],
   "source": []
  },
  {
   "cell_type": "code",
   "execution_count": 30,
   "id": "bf6f6a3d",
   "metadata": {},
   "outputs": [
    {
     "data": {
      "text/html": [
       "<div>\n",
       "<style scoped>\n",
       "    .dataframe tbody tr th:only-of-type {\n",
       "        vertical-align: middle;\n",
       "    }\n",
       "\n",
       "    .dataframe tbody tr th {\n",
       "        vertical-align: top;\n",
       "    }\n",
       "\n",
       "    .dataframe thead th {\n",
       "        text-align: right;\n",
       "    }\n",
       "</style>\n",
       "<table border=\"1\" class=\"dataframe\">\n",
       "  <thead>\n",
       "    <tr style=\"text-align: right;\">\n",
       "      <th></th>\n",
       "      <th>0</th>\n",
       "      <th>1</th>\n",
       "      <th>2</th>\n",
       "      <th>3</th>\n",
       "      <th>4</th>\n",
       "      <th>5</th>\n",
       "      <th>6</th>\n",
       "      <th>7</th>\n",
       "      <th>8</th>\n",
       "      <th>9</th>\n",
       "      <th>labels</th>\n",
       "    </tr>\n",
       "  </thead>\n",
       "  <tbody>\n",
       "    <tr>\n",
       "      <th>0</th>\n",
       "      <td>1.000000</td>\n",
       "      <td>0.112314</td>\n",
       "      <td>0.024393</td>\n",
       "      <td>0.076519</td>\n",
       "      <td>0.091720</td>\n",
       "      <td>0.140030</td>\n",
       "      <td>0.010791</td>\n",
       "      <td>0.006369</td>\n",
       "      <td>0.019608</td>\n",
       "      <td>0.0</td>\n",
       "      <td>1</td>\n",
       "    </tr>\n",
       "    <tr>\n",
       "      <th>1</th>\n",
       "      <td>0.333333</td>\n",
       "      <td>0.031847</td>\n",
       "      <td>0.000000</td>\n",
       "      <td>0.000000</td>\n",
       "      <td>0.031847</td>\n",
       "      <td>0.000000</td>\n",
       "      <td>0.000000</td>\n",
       "      <td>0.000000</td>\n",
       "      <td>0.000000</td>\n",
       "      <td>0.0</td>\n",
       "      <td>0</td>\n",
       "    </tr>\n",
       "    <tr>\n",
       "      <th>2</th>\n",
       "      <td>1.000000</td>\n",
       "      <td>0.048195</td>\n",
       "      <td>0.011243</td>\n",
       "      <td>0.016647</td>\n",
       "      <td>0.043312</td>\n",
       "      <td>0.031963</td>\n",
       "      <td>0.003597</td>\n",
       "      <td>0.006369</td>\n",
       "      <td>0.000000</td>\n",
       "      <td>0.0</td>\n",
       "      <td>1</td>\n",
       "    </tr>\n",
       "    <tr>\n",
       "      <th>3</th>\n",
       "      <td>0.333333</td>\n",
       "      <td>0.023567</td>\n",
       "      <td>0.000000</td>\n",
       "      <td>0.000000</td>\n",
       "      <td>0.023567</td>\n",
       "      <td>0.000000</td>\n",
       "      <td>0.000000</td>\n",
       "      <td>0.000000</td>\n",
       "      <td>0.000000</td>\n",
       "      <td>0.0</td>\n",
       "      <td>0</td>\n",
       "    </tr>\n",
       "    <tr>\n",
       "      <th>4</th>\n",
       "      <td>0.333333</td>\n",
       "      <td>0.045223</td>\n",
       "      <td>0.000000</td>\n",
       "      <td>0.000000</td>\n",
       "      <td>0.043312</td>\n",
       "      <td>0.013699</td>\n",
       "      <td>0.000000</td>\n",
       "      <td>0.000000</td>\n",
       "      <td>0.000000</td>\n",
       "      <td>0.0</td>\n",
       "      <td>0</td>\n",
       "    </tr>\n",
       "    <tr>\n",
       "      <th>...</th>\n",
       "      <td>...</td>\n",
       "      <td>...</td>\n",
       "      <td>...</td>\n",
       "      <td>...</td>\n",
       "      <td>...</td>\n",
       "      <td>...</td>\n",
       "      <td>...</td>\n",
       "      <td>...</td>\n",
       "      <td>...</td>\n",
       "      <td>...</td>\n",
       "      <td>...</td>\n",
       "    </tr>\n",
       "    <tr>\n",
       "      <th>7045</th>\n",
       "      <td>0.333333</td>\n",
       "      <td>0.018896</td>\n",
       "      <td>0.000000</td>\n",
       "      <td>0.000000</td>\n",
       "      <td>0.018896</td>\n",
       "      <td>0.000000</td>\n",
       "      <td>0.000000</td>\n",
       "      <td>0.000000</td>\n",
       "      <td>0.000000</td>\n",
       "      <td>0.0</td>\n",
       "      <td>0</td>\n",
       "    </tr>\n",
       "    <tr>\n",
       "      <th>7046</th>\n",
       "      <td>0.333333</td>\n",
       "      <td>0.003397</td>\n",
       "      <td>0.000000</td>\n",
       "      <td>0.000000</td>\n",
       "      <td>0.002972</td>\n",
       "      <td>0.001522</td>\n",
       "      <td>0.000000</td>\n",
       "      <td>0.006369</td>\n",
       "      <td>0.000000</td>\n",
       "      <td>0.0</td>\n",
       "      <td>0</td>\n",
       "    </tr>\n",
       "    <tr>\n",
       "      <th>7047</th>\n",
       "      <td>0.333333</td>\n",
       "      <td>0.000425</td>\n",
       "      <td>0.000000</td>\n",
       "      <td>0.000000</td>\n",
       "      <td>0.000212</td>\n",
       "      <td>0.001522</td>\n",
       "      <td>0.000000</td>\n",
       "      <td>0.000000</td>\n",
       "      <td>0.000000</td>\n",
       "      <td>0.0</td>\n",
       "      <td>0</td>\n",
       "    </tr>\n",
       "    <tr>\n",
       "      <th>7048</th>\n",
       "      <td>0.333333</td>\n",
       "      <td>0.074522</td>\n",
       "      <td>0.000572</td>\n",
       "      <td>0.006425</td>\n",
       "      <td>0.074098</td>\n",
       "      <td>0.003044</td>\n",
       "      <td>0.000000</td>\n",
       "      <td>0.000000</td>\n",
       "      <td>0.000000</td>\n",
       "      <td>0.0</td>\n",
       "      <td>0</td>\n",
       "    </tr>\n",
       "    <tr>\n",
       "      <th>7049</th>\n",
       "      <td>0.333333</td>\n",
       "      <td>0.003609</td>\n",
       "      <td>0.000000</td>\n",
       "      <td>0.000000</td>\n",
       "      <td>0.003609</td>\n",
       "      <td>0.000000</td>\n",
       "      <td>0.000000</td>\n",
       "      <td>0.000000</td>\n",
       "      <td>0.000000</td>\n",
       "      <td>0.0</td>\n",
       "      <td>0</td>\n",
       "    </tr>\n",
       "  </tbody>\n",
       "</table>\n",
       "<p>7050 rows × 11 columns</p>\n",
       "</div>"
      ],
      "text/plain": [
       "             0         1         2         3         4         5         6   \n",
       "0     1.000000  0.112314  0.024393  0.076519  0.091720  0.140030  0.010791  \\\n",
       "1     0.333333  0.031847  0.000000  0.000000  0.031847  0.000000  0.000000   \n",
       "2     1.000000  0.048195  0.011243  0.016647  0.043312  0.031963  0.003597   \n",
       "3     0.333333  0.023567  0.000000  0.000000  0.023567  0.000000  0.000000   \n",
       "4     0.333333  0.045223  0.000000  0.000000  0.043312  0.013699  0.000000   \n",
       "...        ...       ...       ...       ...       ...       ...       ...   \n",
       "7045  0.333333  0.018896  0.000000  0.000000  0.018896  0.000000  0.000000   \n",
       "7046  0.333333  0.003397  0.000000  0.000000  0.002972  0.001522  0.000000   \n",
       "7047  0.333333  0.000425  0.000000  0.000000  0.000212  0.001522  0.000000   \n",
       "7048  0.333333  0.074522  0.000572  0.006425  0.074098  0.003044  0.000000   \n",
       "7049  0.333333  0.003609  0.000000  0.000000  0.003609  0.000000  0.000000   \n",
       "\n",
       "             7         8    9  labels  \n",
       "0     0.006369  0.019608  0.0       1  \n",
       "1     0.000000  0.000000  0.0       0  \n",
       "2     0.006369  0.000000  0.0       1  \n",
       "3     0.000000  0.000000  0.0       0  \n",
       "4     0.000000  0.000000  0.0       0  \n",
       "...        ...       ...  ...     ...  \n",
       "7045  0.000000  0.000000  0.0       0  \n",
       "7046  0.006369  0.000000  0.0       0  \n",
       "7047  0.000000  0.000000  0.0       0  \n",
       "7048  0.000000  0.000000  0.0       0  \n",
       "7049  0.000000  0.000000  0.0       0  \n",
       "\n",
       "[7050 rows x 11 columns]"
      ]
     },
     "execution_count": 30,
     "metadata": {},
     "output_type": "execute_result"
    }
   ],
   "source": [
    "live_sell['labels'] = labels\n",
    "live_sell"
   ]
  },
  {
   "cell_type": "code",
   "execution_count": 27,
   "id": "8490a413",
   "metadata": {
    "scrolled": true
   },
   "outputs": [
    {
     "name": "stdout",
     "output_type": "stream",
     "text": [
      "(2, 10)\n"
     ]
    },
    {
     "data": {
      "text/plain": [
       "array([[3.28506857e-01, 3.90710874e-02, 7.54854864e-04, 7.53667113e-04,\n",
       "        3.85438884e-02, 2.17448568e-03, 2.43721364e-03, 1.20039760e-03,\n",
       "        2.75348016e-03, 1.45313276e-03],\n",
       "       [9.54921576e-01, 6.46330441e-02, 2.67028654e-02, 2.93171709e-02,\n",
       "        5.71231462e-02, 4.71007076e-02, 8.18581889e-03, 9.65207685e-03,\n",
       "        8.04219428e-03, 7.19501847e-03]])"
      ]
     },
     "execution_count": 27,
     "metadata": {},
     "output_type": "execute_result"
    }
   ],
   "source": [
    "centroids = km.cluster_centers_\n",
    "print(centroids.shape)\n",
    "centroids"
   ]
  },
  {
   "cell_type": "code",
   "execution_count": 69,
   "id": "bf77553e",
   "metadata": {
    "scrolled": true
   },
   "outputs": [
    {
     "name": "stdout",
     "output_type": "stream",
     "text": [
      "0\n",
      "1\n"
     ]
    }
   ],
   "source": [
    "for i in range(2):\n",
    "    print(i)"
   ]
  },
  {
   "cell_type": "code",
   "execution_count": 91,
   "id": "7b2470fb",
   "metadata": {
    "scrolled": true
   },
   "outputs": [
    {
     "data": {
      "text/plain": [
       "0       1.000000\n",
       "1       0.333333\n",
       "2       1.000000\n",
       "3       0.333333\n",
       "4       0.333333\n",
       "          ...   \n",
       "7045    0.333333\n",
       "7046    0.333333\n",
       "7047    0.333333\n",
       "7048    0.333333\n",
       "7049    0.333333\n",
       "Name: 0, Length: 7050, dtype: float64"
      ]
     },
     "execution_count": 91,
     "metadata": {},
     "output_type": "execute_result"
    }
   ],
   "source": [
    "live_sell.loc[:,0]"
   ]
  },
  {
   "cell_type": "code",
   "execution_count": 93,
   "id": "dea6136d",
   "metadata": {
    "scrolled": true
   },
   "outputs": [
    {
     "data": {
      "text/html": [
       "<div>\n",
       "<style scoped>\n",
       "    .dataframe tbody tr th:only-of-type {\n",
       "        vertical-align: middle;\n",
       "    }\n",
       "\n",
       "    .dataframe tbody tr th {\n",
       "        vertical-align: top;\n",
       "    }\n",
       "\n",
       "    .dataframe thead th {\n",
       "        text-align: right;\n",
       "    }\n",
       "</style>\n",
       "<table border=\"1\" class=\"dataframe\">\n",
       "  <thead>\n",
       "    <tr style=\"text-align: right;\">\n",
       "      <th></th>\n",
       "      <th>0</th>\n",
       "      <th>1</th>\n",
       "      <th>2</th>\n",
       "      <th>3</th>\n",
       "      <th>4</th>\n",
       "      <th>5</th>\n",
       "      <th>6</th>\n",
       "      <th>7</th>\n",
       "      <th>8</th>\n",
       "      <th>9</th>\n",
       "      <th>labels</th>\n",
       "    </tr>\n",
       "  </thead>\n",
       "  <tbody>\n",
       "    <tr>\n",
       "      <th>0</th>\n",
       "      <td>1.000000</td>\n",
       "      <td>0.112314</td>\n",
       "      <td>0.024393</td>\n",
       "      <td>0.076519</td>\n",
       "      <td>0.091720</td>\n",
       "      <td>0.140030</td>\n",
       "      <td>0.010791</td>\n",
       "      <td>0.006369</td>\n",
       "      <td>0.019608</td>\n",
       "      <td>0.0</td>\n",
       "      <td>1</td>\n",
       "    </tr>\n",
       "    <tr>\n",
       "      <th>1</th>\n",
       "      <td>0.333333</td>\n",
       "      <td>0.031847</td>\n",
       "      <td>0.000000</td>\n",
       "      <td>0.000000</td>\n",
       "      <td>0.031847</td>\n",
       "      <td>0.000000</td>\n",
       "      <td>0.000000</td>\n",
       "      <td>0.000000</td>\n",
       "      <td>0.000000</td>\n",
       "      <td>0.0</td>\n",
       "      <td>0</td>\n",
       "    </tr>\n",
       "    <tr>\n",
       "      <th>2</th>\n",
       "      <td>1.000000</td>\n",
       "      <td>0.048195</td>\n",
       "      <td>0.011243</td>\n",
       "      <td>0.016647</td>\n",
       "      <td>0.043312</td>\n",
       "      <td>0.031963</td>\n",
       "      <td>0.003597</td>\n",
       "      <td>0.006369</td>\n",
       "      <td>0.000000</td>\n",
       "      <td>0.0</td>\n",
       "      <td>1</td>\n",
       "    </tr>\n",
       "    <tr>\n",
       "      <th>3</th>\n",
       "      <td>0.333333</td>\n",
       "      <td>0.023567</td>\n",
       "      <td>0.000000</td>\n",
       "      <td>0.000000</td>\n",
       "      <td>0.023567</td>\n",
       "      <td>0.000000</td>\n",
       "      <td>0.000000</td>\n",
       "      <td>0.000000</td>\n",
       "      <td>0.000000</td>\n",
       "      <td>0.0</td>\n",
       "      <td>0</td>\n",
       "    </tr>\n",
       "    <tr>\n",
       "      <th>4</th>\n",
       "      <td>0.333333</td>\n",
       "      <td>0.045223</td>\n",
       "      <td>0.000000</td>\n",
       "      <td>0.000000</td>\n",
       "      <td>0.043312</td>\n",
       "      <td>0.013699</td>\n",
       "      <td>0.000000</td>\n",
       "      <td>0.000000</td>\n",
       "      <td>0.000000</td>\n",
       "      <td>0.0</td>\n",
       "      <td>0</td>\n",
       "    </tr>\n",
       "    <tr>\n",
       "      <th>...</th>\n",
       "      <td>...</td>\n",
       "      <td>...</td>\n",
       "      <td>...</td>\n",
       "      <td>...</td>\n",
       "      <td>...</td>\n",
       "      <td>...</td>\n",
       "      <td>...</td>\n",
       "      <td>...</td>\n",
       "      <td>...</td>\n",
       "      <td>...</td>\n",
       "      <td>...</td>\n",
       "    </tr>\n",
       "    <tr>\n",
       "      <th>7045</th>\n",
       "      <td>0.333333</td>\n",
       "      <td>0.018896</td>\n",
       "      <td>0.000000</td>\n",
       "      <td>0.000000</td>\n",
       "      <td>0.018896</td>\n",
       "      <td>0.000000</td>\n",
       "      <td>0.000000</td>\n",
       "      <td>0.000000</td>\n",
       "      <td>0.000000</td>\n",
       "      <td>0.0</td>\n",
       "      <td>0</td>\n",
       "    </tr>\n",
       "    <tr>\n",
       "      <th>7046</th>\n",
       "      <td>0.333333</td>\n",
       "      <td>0.003397</td>\n",
       "      <td>0.000000</td>\n",
       "      <td>0.000000</td>\n",
       "      <td>0.002972</td>\n",
       "      <td>0.001522</td>\n",
       "      <td>0.000000</td>\n",
       "      <td>0.006369</td>\n",
       "      <td>0.000000</td>\n",
       "      <td>0.0</td>\n",
       "      <td>0</td>\n",
       "    </tr>\n",
       "    <tr>\n",
       "      <th>7047</th>\n",
       "      <td>0.333333</td>\n",
       "      <td>0.000425</td>\n",
       "      <td>0.000000</td>\n",
       "      <td>0.000000</td>\n",
       "      <td>0.000212</td>\n",
       "      <td>0.001522</td>\n",
       "      <td>0.000000</td>\n",
       "      <td>0.000000</td>\n",
       "      <td>0.000000</td>\n",
       "      <td>0.0</td>\n",
       "      <td>0</td>\n",
       "    </tr>\n",
       "    <tr>\n",
       "      <th>7048</th>\n",
       "      <td>0.333333</td>\n",
       "      <td>0.074522</td>\n",
       "      <td>0.000572</td>\n",
       "      <td>0.006425</td>\n",
       "      <td>0.074098</td>\n",
       "      <td>0.003044</td>\n",
       "      <td>0.000000</td>\n",
       "      <td>0.000000</td>\n",
       "      <td>0.000000</td>\n",
       "      <td>0.0</td>\n",
       "      <td>0</td>\n",
       "    </tr>\n",
       "    <tr>\n",
       "      <th>7049</th>\n",
       "      <td>0.333333</td>\n",
       "      <td>0.003609</td>\n",
       "      <td>0.000000</td>\n",
       "      <td>0.000000</td>\n",
       "      <td>0.003609</td>\n",
       "      <td>0.000000</td>\n",
       "      <td>0.000000</td>\n",
       "      <td>0.000000</td>\n",
       "      <td>0.000000</td>\n",
       "      <td>0.0</td>\n",
       "      <td>0</td>\n",
       "    </tr>\n",
       "  </tbody>\n",
       "</table>\n",
       "<p>7050 rows × 11 columns</p>\n",
       "</div>"
      ],
      "text/plain": [
       "             0         1         2         3         4         5         6   \n",
       "0     1.000000  0.112314  0.024393  0.076519  0.091720  0.140030  0.010791  \\\n",
       "1     0.333333  0.031847  0.000000  0.000000  0.031847  0.000000  0.000000   \n",
       "2     1.000000  0.048195  0.011243  0.016647  0.043312  0.031963  0.003597   \n",
       "3     0.333333  0.023567  0.000000  0.000000  0.023567  0.000000  0.000000   \n",
       "4     0.333333  0.045223  0.000000  0.000000  0.043312  0.013699  0.000000   \n",
       "...        ...       ...       ...       ...       ...       ...       ...   \n",
       "7045  0.333333  0.018896  0.000000  0.000000  0.018896  0.000000  0.000000   \n",
       "7046  0.333333  0.003397  0.000000  0.000000  0.002972  0.001522  0.000000   \n",
       "7047  0.333333  0.000425  0.000000  0.000000  0.000212  0.001522  0.000000   \n",
       "7048  0.333333  0.074522  0.000572  0.006425  0.074098  0.003044  0.000000   \n",
       "7049  0.333333  0.003609  0.000000  0.000000  0.003609  0.000000  0.000000   \n",
       "\n",
       "             7         8    9  labels  \n",
       "0     0.006369  0.019608  0.0       1  \n",
       "1     0.000000  0.000000  0.0       0  \n",
       "2     0.006369  0.000000  0.0       1  \n",
       "3     0.000000  0.000000  0.0       0  \n",
       "4     0.000000  0.000000  0.0       0  \n",
       "...        ...       ...  ...     ...  \n",
       "7045  0.000000  0.000000  0.0       0  \n",
       "7046  0.006369  0.000000  0.0       0  \n",
       "7047  0.000000  0.000000  0.0       0  \n",
       "7048  0.000000  0.000000  0.0       0  \n",
       "7049  0.000000  0.000000  0.0       0  \n",
       "\n",
       "[7050 rows x 11 columns]"
      ]
     },
     "execution_count": 93,
     "metadata": {},
     "output_type": "execute_result"
    }
   ],
   "source": [
    "live_sell"
   ]
  },
  {
   "cell_type": "code",
   "execution_count": 106,
   "id": "90472f14",
   "metadata": {
    "scrolled": true
   },
   "outputs": [
    {
     "data": {
      "text/plain": [
       "<matplotlib.collections.PathCollection at 0x28a950b50>"
      ]
     },
     "execution_count": 106,
     "metadata": {},
     "output_type": "execute_result"
    },
    {
     "data": {
      "image/png": "[encoded data removed]",
      "text/plain": [
       "<Figure size 640x480 with 1 Axes>"
      ]
     },
     "metadata": {},
     "output_type": "display_data"
    }
   ],
   "source": [
    "mplt.scatter(live_sell.loc[:,0],live_sell.loc[:,1])\n",
    "mplt.scatter(live_sell.loc[:,2],live_sell.loc[:,3])\n",
    "mplt.scatter(live_sell.loc[:,4],live_sell.loc[:,5])\n",
    "mplt.scatter(live_sell.loc[:,6],live_sell.loc[:,7])\n",
    "mplt.scatter(live_sell.loc[:,8],live_sell.loc[:,9])"
   ]
  },
  {
   "cell_type": "code",
   "execution_count": 40,
   "id": "e4e79864",
   "metadata": {
    "scrolled": true
   },
   "outputs": [
    {
     "data": {
      "text/plain": [
       "0       1.000000\n",
       "1       0.333333\n",
       "2       1.000000\n",
       "3       0.333333\n",
       "4       0.333333\n",
       "          ...   \n",
       "7045    0.333333\n",
       "7046    0.333333\n",
       "7047    0.333333\n",
       "7048    0.333333\n",
       "7049    0.333333\n",
       "Name: 0, Length: 7050, dtype: float64"
      ]
     },
     "execution_count": 40,
     "metadata": {},
     "output_type": "execute_result"
    }
   ],
   "source": [
    "live_sell['labels' == 6 ]"
   ]
  },
  {
   "cell_type": "code",
   "execution_count": 62,
   "id": "8ccb59e5",
   "metadata": {},
   "outputs": [
    {
     "name": "stdout",
     "output_type": "stream",
     "text": [
      "2699\n",
      "\n",
      "4351\n",
      "\n",
      "7050\n",
      "\n",
      "7050\n",
      "0\n"
     ]
    }
   ],
   "source": [
    "print(sum(live_sell.labels == 1))\n",
    "print()\n",
    "print(sum(live_sell.labels == 0))\n",
    "print()\n",
    "print(2699+4351)\n",
    "print()\n",
    "print(len(live_sell))\n",
    "print(sum(live_sell.labels == 2))"
   ]
  },
  {
   "cell_type": "code",
   "execution_count": 28,
   "id": "bcd89700",
   "metadata": {},
   "outputs": [
    {
     "ename": "NameError",
     "evalue": "name 'n_clusters' is not defined",
     "output_type": "error",
     "traceback": [
      "\u001b[0;31m---------------------------------------------------------------------------\u001b[0m",
      "\u001b[0;31mNameError\u001b[0m                                 Traceback (most recent call last)",
      "Cell \u001b[0;32mIn[28], line 1\u001b[0m\n\u001b[0;32m----> 1\u001b[0m \u001b[43mn_clusters\u001b[49m\n",
      "\u001b[0;31mNameError\u001b[0m: name 'n_clusters' is not defined"
     ]
    }
   ],
   "source": [
    "n_clusters"
   ]
  },
  {
   "cell_type": "code",
   "execution_count": null,
   "id": "d9a8dbe2",
   "metadata": {},
   "outputs": [],
   "source": []
  },
  {
   "cell_type": "code",
   "execution_count": null,
   "id": "590bda1e",
   "metadata": {},
   "outputs": [],
   "source": []
  },
  {
   "cell_type": "code",
   "execution_count": null,
   "id": "42016b4f",
   "metadata": {},
   "outputs": [],
   "source": []
  },
  {
   "cell_type": "code",
   "execution_count": 151,
   "id": "38d1da1c",
   "metadata": {},
   "outputs": [],
   "source": [
    "from sklearn.datasets import make_blobs"
   ]
  },
  {
   "cell_type": "code",
   "execution_count": 166,
   "id": "61afe6fd",
   "metadata": {},
   "outputs": [
    {
     "name": "stdout",
     "output_type": "stream",
     "text": [
      "[[ 3.01017660e+00 -8.16846422e+00]\n",
      " [-6.13871767e+00 -9.18964539e+00]\n",
      " [ 2.42444151e-01 -7.25342562e-01]\n",
      " [-7.45568975e+00 -3.64743812e+00]\n",
      " [-8.28298170e+00 -8.14689894e+00]\n",
      " [ 4.12668860e+00 -5.49335012e+00]\n",
      " [-4.82706518e+00 -3.53613534e+00]\n",
      " [ 1.91374582e+00  7.22416237e+00]\n",
      " [-5.84338331e-01  9.09271540e+00]\n",
      " [-8.42255297e+00 -3.39903968e+00]\n",
      " [-5.15229879e+00 -1.01469552e+01]\n",
      " [ 4.48106936e+00 -8.03068733e+00]\n",
      " [-4.59172753e+00 -8.27467493e+00]\n",
      " [ 3.56217813e+00 -4.87690968e+00]\n",
      " [-5.59543749e+00 -7.10453898e+00]\n",
      " [ 2.27051891e+00 -8.43271468e+00]\n",
      " [-5.40547550e+00 -9.90754734e+00]\n",
      " [-7.63472258e+00 -1.64666170e+00]\n",
      " [ 5.40304415e+00 -5.23181019e+00]\n",
      " [-7.99497880e+00 -1.08362258e+01]\n",
      " [-3.36098804e-01  7.83760773e+00]\n",
      " [ 8.05397096e+00  8.38740957e+00]\n",
      " [ 7.27090525e+00  9.02508785e+00]\n",
      " [-4.31783677e-01  1.78303537e-01]\n",
      " [ 1.75050886e+00 -1.81145016e+00]\n",
      " [-7.91829416e+00 -8.76000393e+00]\n",
      " [ 6.51711587e+00  7.80981649e+00]\n",
      " [ 1.67477345e-01  7.28237511e+00]\n",
      " [ 3.70683985e+00 -8.87125107e+00]\n",
      " [-3.90759330e+00 -8.76091228e+00]\n",
      " [-9.61996707e+00 -8.60279474e+00]\n",
      " [ 3.42851856e+00 -9.52249217e+00]\n",
      " [ 3.60264628e+00 -8.63334097e+00]\n",
      " [ 1.48429880e+00 -5.45650197e+00]\n",
      " [ 3.45671122e+00 -2.87214650e+00]\n",
      " [-6.94620939e+00 -8.18905958e+00]\n",
      " [ 6.79525069e+00  8.73989472e+00]\n",
      " [ 1.40392184e+00  2.17534007e-04]\n",
      " [-6.94610385e+00 -7.77512479e+00]\n",
      " [-7.63391638e+00 -7.77650849e+00]\n",
      " [ 3.91309484e+00 -7.75660855e+00]\n",
      " [ 2.67609959e+00 -4.72129581e+00]\n",
      " [-8.73974675e+00 -2.36484250e+00]\n",
      " [-4.60498530e+00 -7.09345760e+00]\n",
      " [-7.21040855e+00 -4.07600391e+00]\n",
      " [-4.59303370e+00 -6.79652236e+00]\n",
      " [-1.29158336e+00  6.31408290e+00]\n",
      " [ 3.09900370e+00 -7.98535590e+00]\n",
      " [-5.08769731e+00 -5.50376582e+00]\n",
      " [ 2.20518685e+00  8.04509545e+00]\n",
      " [ 3.08630616e-02  5.91027558e+00]\n",
      " [ 9.52669429e-01  4.94826213e-01]\n",
      " [-6.54781546e+00 -4.34348986e+00]\n",
      " [-8.48984509e+00 -9.94174422e+00]\n",
      " [ 1.88521283e+00 -8.64672212e+00]\n",
      " [-5.34492519e+00 -8.94874371e+00]\n",
      " [ 8.05240003e+00  7.49028764e+00]\n",
      " [ 2.97291046e+00 -9.81372221e+00]\n",
      " [-9.12519941e+00 -8.85366533e+00]\n",
      " [-4.86419878e+00 -8.52793530e+00]\n",
      " [-8.84496661e+00 -9.76015240e+00]\n",
      " [-3.54313181e+00 -8.19042927e+00]\n",
      " [-7.73235627e+00 -2.92734804e+00]\n",
      " [ 5.03632636e+00 -9.66488918e+00]\n",
      " [-8.59086548e+00 -8.26603027e+00]\n",
      " [-5.31011154e-03  6.16897527e+00]\n",
      " [ 6.14031600e+00  8.61980456e+00]\n",
      " [-3.13343747e-01 -1.72392470e+00]\n",
      " [-3.75355880e-01 -9.76044709e-01]\n",
      " [ 2.02695356e-01  7.21895403e+00]\n",
      " [-6.08360617e+00 -3.09414804e+00]\n",
      " [-8.45685951e+00 -3.32158385e+00]\n",
      " [ 1.22098838e+00  8.16171900e+00]\n",
      " [-5.29920223e+00 -7.18847154e+00]\n",
      " [-4.95053176e+00 -6.98322119e+00]\n",
      " [-6.50414059e+00 -3.94457319e+00]\n",
      " [-1.11001094e+00  4.50853873e+00]\n",
      " [ 4.79592827e+00 -6.08715518e+00]\n",
      " [-8.36561799e+00 -9.32177251e+00]\n",
      " [-4.88844622e+00 -8.91256601e+00]\n",
      " [ 4.37907290e+00 -4.77546951e+00]\n",
      " [ 4.41406867e+00 -9.90177416e+00]\n",
      " [ 5.43341425e+00 -1.09211275e+01]\n",
      " [ 6.72073418e-01 -2.86218219e-01]\n",
      " [ 1.98386540e+00 -2.21387843e-01]\n",
      " [-1.23016118e+00  7.40393796e+00]\n",
      " [-4.97930908e+00 -1.09082560e+01]\n",
      " [-9.72579032e+00 -8.30558899e+00]\n",
      " [-1.01009538e+01 -1.01519859e+01]\n",
      " [-1.27371023e+00 -3.75249788e-01]\n",
      " [-2.16970201e+00  7.22619118e+00]\n",
      " [ 5.76856298e+00 -6.05001179e+00]\n",
      " [ 3.67543702e+00 -4.97028954e+00]\n",
      " [-3.42558135e+00 -9.59747746e+00]\n",
      " [ 4.01178326e+00 -5.89871007e+00]\n",
      " [-7.66026362e+00 -2.17695738e+00]\n",
      " [ 6.85096643e+00  9.44280772e+00]\n",
      " [ 8.38688407e+00  7.89249561e+00]\n",
      " [-7.88170941e+00 -2.31224252e+00]\n",
      " [ 1.93717030e-01  8.57890230e+00]\n",
      " [ 5.47719231e+00  8.31965381e+00]\n",
      " [ 5.14669169e-02  6.26358541e+00]\n",
      " [ 3.34830777e-02  7.60884113e+00]\n",
      " [ 2.30982974e+00 -5.33127790e+00]\n",
      " [ 1.53580909e+00 -1.13873246e-01]\n",
      " [-6.22464904e+00 -1.00755119e+01]\n",
      " [ 1.61676189e+00  9.88578522e+00]\n",
      " [-3.45637989e+00 -9.07159437e+00]\n",
      " [-6.01455148e+00 -5.40055523e+00]\n",
      " [-5.67399222e-01  7.97002504e+00]\n",
      " [ 4.95433770e-01  6.36320011e+00]\n",
      " [-1.41362080e-01  6.80163352e+00]\n",
      " [ 3.50732293e-01  7.40556443e+00]\n",
      " [-5.93502190e+00 -7.11136426e+00]\n",
      " [ 2.23834849e+00  8.77614732e+00]\n",
      " [-9.07443100e-01  4.81381132e-01]\n",
      " [-6.96868704e+00 -9.84628181e+00]\n",
      " [ 7.25277693e+00  9.53348894e+00]\n",
      " [-1.90904802e+00  7.22733048e+00]\n",
      " [-6.51265674e-01 -1.04249580e+00]\n",
      " [ 2.19894815e+00  7.76195371e+00]\n",
      " [-5.05701638e+00 -8.59857556e+00]\n",
      " [ 2.09098722e+00  9.15349630e+00]\n",
      " [ 2.40708238e+00 -9.35983525e+00]\n",
      " [-4.01811029e+00 -5.81952293e+00]\n",
      " [-7.23724294e+00 -3.56494695e+00]\n",
      " [-8.37036397e+00 -1.45236568e+00]\n",
      " [ 4.79547393e+00 -3.68237371e+00]\n",
      " [ 2.66713698e+00 -1.07456649e+01]\n",
      " [ 5.62867772e-01  9.42329308e+00]\n",
      " [ 5.72977583e+00  8.91975881e+00]\n",
      " [ 3.62451943e+00  7.53443269e+00]\n",
      " [-3.81140481e+00 -7.97061712e+00]\n",
      " [-5.34366892e+00 -9.50283428e+00]\n",
      " [-9.71488460e+00 -8.43601167e+00]\n",
      " [-8.20580812e+00 -9.15412776e+00]\n",
      " [-1.63317526e+00  8.10845099e+00]\n",
      " [ 5.43394517e+00 -4.95610095e+00]\n",
      " [-3.60894523e-01  4.13598421e-01]\n",
      " [ 6.89549362e+00  1.01592523e+01]\n",
      " [-9.73673391e+00 -2.19506403e+00]\n",
      " [ 2.90484491e-01  7.81600951e+00]\n",
      " [ 3.02628105e+00 -9.05866920e+00]\n",
      " [-8.77264898e+00 -9.67600514e+00]\n",
      " [ 8.07198640e+00  1.03784472e+01]\n",
      " [ 1.11587011e+00  9.58034251e+00]\n",
      " [-7.57266738e+00 -1.80282847e+00]\n",
      " [-4.37748470e+00 -6.72381500e+00]\n",
      " [-3.09104358e-01  7.44858364e+00]\n",
      " [-7.06160845e-02  8.23825677e+00]\n",
      " [ 2.51174314e-01  7.45575087e+00]\n",
      " [ 3.00682049e+00 -7.81530516e+00]\n",
      " [-3.26877782e+00 -8.76771821e+00]\n",
      " [ 1.18444689e-01  5.83648202e+00]\n",
      " [ 3.29713570e+00 -8.37161635e+00]\n",
      " [-8.63120149e+00 -3.08801054e+00]\n",
      " [ 8.24968465e-02 -4.83885463e-01]\n",
      " [-3.86106871e+00 -6.23634713e+00]\n",
      " [ 6.69464693e+00  8.04136566e+00]\n",
      " [ 8.44607956e+00  8.79988805e+00]\n",
      " [ 6.76429583e+00  8.96235393e+00]\n",
      " [-4.61388170e+00 -7.39734745e+00]\n",
      " [ 4.40218791e+00 -4.97269379e+00]\n",
      " [ 4.22485727e+00 -5.89459764e+00]\n",
      " [ 3.61492786e+00 -8.39721653e+00]\n",
      " [ 2.05578708e+00  7.11195049e+00]\n",
      " [ 3.55291031e+00 -7.73121644e+00]\n",
      " [-7.12845763e+00 -5.91685471e+00]\n",
      " [-5.47700153e+00 -8.03254233e+00]\n",
      " [-9.34569638e+00 -8.29407426e+00]\n",
      " [ 8.17935187e+00  9.19481673e+00]\n",
      " [-4.63646002e+00 -8.01876639e+00]\n",
      " [ 1.20285607e+00  7.07977261e+00]\n",
      " [ 1.17440226e+00  6.46695139e+00]\n",
      " [-8.72338215e+00 -1.99699030e+00]\n",
      " [ 4.61512894e+00 -5.24818922e+00]\n",
      " [-4.07037799e+00 -6.50264576e+00]\n",
      " [ 2.15593117e+00  6.70120808e+00]\n",
      " [-7.87435244e+00 -2.66921236e+00]\n",
      " [-7.62001142e+00 -1.02766324e+01]\n",
      " [ 4.06449692e+00 -1.01569107e+01]\n",
      " [-4.92981458e+00 -1.02672161e+01]\n",
      " [ 1.46219116e+00  8.99938230e-01]\n",
      " [-7.50836494e+00 -3.68142495e+00]\n",
      " [-1.02665858e+01 -1.02739786e+01]\n",
      " [ 2.10526036e+00  7.44608657e+00]\n",
      " [ 1.84670877e+00 -5.00956218e-02]\n",
      " [-4.64688648e-01  8.10396779e+00]\n",
      " [-1.91531109e+00 -1.06069077e+00]\n",
      " [ 3.01012302e+00 -5.71746656e+00]\n",
      " [-5.12120946e+00 -5.08039044e+00]\n",
      " [ 7.07852719e+00  1.01891823e+01]\n",
      " [-4.59817624e+00 -9.27810506e+00]\n",
      " [-7.31555081e+00 -3.67209168e+00]\n",
      " [ 1.85862501e+00 -8.98407856e-01]\n",
      " [-6.10077572e+00 -8.51632511e+00]\n",
      " [ 2.69992969e+00 -4.72946112e+00]\n",
      " [ 5.78259909e+00  9.31164314e+00]\n",
      " [ 8.55192120e+00  7.98868630e+00]\n",
      " [ 1.08373323e-01  2.17167426e-01]]\n"
     ]
    }
   ],
   "source": [
    "data,centers = make_blobs(n_samples=200,centers=10)\n",
    "print(data)"
   ]
  },
  {
   "cell_type": "code",
   "execution_count": 32,
   "id": "170e30fd",
   "metadata": {},
   "outputs": [
    {
     "data": {
      "text/html": [
       "<div>\n",
       "<style scoped>\n",
       "    .dataframe tbody tr th:only-of-type {\n",
       "        vertical-align: middle;\n",
       "    }\n",
       "\n",
       "    .dataframe tbody tr th {\n",
       "        vertical-align: top;\n",
       "    }\n",
       "\n",
       "    .dataframe thead th {\n",
       "        text-align: right;\n",
       "    }\n",
       "</style>\n",
       "<table border=\"1\" class=\"dataframe\">\n",
       "  <thead>\n",
       "    <tr style=\"text-align: right;\">\n",
       "      <th></th>\n",
       "      <th>status_type</th>\n",
       "      <th>num_reactions</th>\n",
       "      <th>num_comments</th>\n",
       "      <th>num_shares</th>\n",
       "      <th>num_likes</th>\n",
       "      <th>num_loves</th>\n",
       "      <th>num_wows</th>\n",
       "      <th>num_hahas</th>\n",
       "      <th>num_sads</th>\n",
       "      <th>num_angrys</th>\n",
       "    </tr>\n",
       "  </thead>\n",
       "  <tbody>\n",
       "    <tr>\n",
       "      <th>0</th>\n",
       "      <td>3</td>\n",
       "      <td>529</td>\n",
       "      <td>512</td>\n",
       "      <td>262</td>\n",
       "      <td>432</td>\n",
       "      <td>92</td>\n",
       "      <td>3</td>\n",
       "      <td>1</td>\n",
       "      <td>1</td>\n",
       "      <td>0</td>\n",
       "    </tr>\n",
       "    <tr>\n",
       "      <th>1</th>\n",
       "      <td>1</td>\n",
       "      <td>150</td>\n",
       "      <td>0</td>\n",
       "      <td>0</td>\n",
       "      <td>150</td>\n",
       "      <td>0</td>\n",
       "      <td>0</td>\n",
       "      <td>0</td>\n",
       "      <td>0</td>\n",
       "      <td>0</td>\n",
       "    </tr>\n",
       "    <tr>\n",
       "      <th>2</th>\n",
       "      <td>3</td>\n",
       "      <td>227</td>\n",
       "      <td>236</td>\n",
       "      <td>57</td>\n",
       "      <td>204</td>\n",
       "      <td>21</td>\n",
       "      <td>1</td>\n",
       "      <td>1</td>\n",
       "      <td>0</td>\n",
       "      <td>0</td>\n",
       "    </tr>\n",
       "    <tr>\n",
       "      <th>3</th>\n",
       "      <td>1</td>\n",
       "      <td>111</td>\n",
       "      <td>0</td>\n",
       "      <td>0</td>\n",
       "      <td>111</td>\n",
       "      <td>0</td>\n",
       "      <td>0</td>\n",
       "      <td>0</td>\n",
       "      <td>0</td>\n",
       "      <td>0</td>\n",
       "    </tr>\n",
       "    <tr>\n",
       "      <th>4</th>\n",
       "      <td>1</td>\n",
       "      <td>213</td>\n",
       "      <td>0</td>\n",
       "      <td>0</td>\n",
       "      <td>204</td>\n",
       "      <td>9</td>\n",
       "      <td>0</td>\n",
       "      <td>0</td>\n",
       "      <td>0</td>\n",
       "      <td>0</td>\n",
       "    </tr>\n",
       "    <tr>\n",
       "      <th>...</th>\n",
       "      <td>...</td>\n",
       "      <td>...</td>\n",
       "      <td>...</td>\n",
       "      <td>...</td>\n",
       "      <td>...</td>\n",
       "      <td>...</td>\n",
       "      <td>...</td>\n",
       "      <td>...</td>\n",
       "      <td>...</td>\n",
       "      <td>...</td>\n",
       "    </tr>\n",
       "    <tr>\n",
       "      <th>7045</th>\n",
       "      <td>1</td>\n",
       "      <td>89</td>\n",
       "      <td>0</td>\n",
       "      <td>0</td>\n",
       "      <td>89</td>\n",
       "      <td>0</td>\n",
       "      <td>0</td>\n",
       "      <td>0</td>\n",
       "      <td>0</td>\n",
       "      <td>0</td>\n",
       "    </tr>\n",
       "    <tr>\n",
       "      <th>7046</th>\n",
       "      <td>1</td>\n",
       "      <td>16</td>\n",
       "      <td>0</td>\n",
       "      <td>0</td>\n",
       "      <td>14</td>\n",
       "      <td>1</td>\n",
       "      <td>0</td>\n",
       "      <td>1</td>\n",
       "      <td>0</td>\n",
       "      <td>0</td>\n",
       "    </tr>\n",
       "    <tr>\n",
       "      <th>7047</th>\n",
       "      <td>1</td>\n",
       "      <td>2</td>\n",
       "      <td>0</td>\n",
       "      <td>0</td>\n",
       "      <td>1</td>\n",
       "      <td>1</td>\n",
       "      <td>0</td>\n",
       "      <td>0</td>\n",
       "      <td>0</td>\n",
       "      <td>0</td>\n",
       "    </tr>\n",
       "    <tr>\n",
       "      <th>7048</th>\n",
       "      <td>1</td>\n",
       "      <td>351</td>\n",
       "      <td>12</td>\n",
       "      <td>22</td>\n",
       "      <td>349</td>\n",
       "      <td>2</td>\n",
       "      <td>0</td>\n",
       "      <td>0</td>\n",
       "      <td>0</td>\n",
       "      <td>0</td>\n",
       "    </tr>\n",
       "    <tr>\n",
       "      <th>7049</th>\n",
       "      <td>1</td>\n",
       "      <td>17</td>\n",
       "      <td>0</td>\n",
       "      <td>0</td>\n",
       "      <td>17</td>\n",
       "      <td>0</td>\n",
       "      <td>0</td>\n",
       "      <td>0</td>\n",
       "      <td>0</td>\n",
       "      <td>0</td>\n",
       "    </tr>\n",
       "  </tbody>\n",
       "</table>\n",
       "<p>7050 rows × 10 columns</p>\n",
       "</div>"
      ],
      "text/plain": [
       "      status_type  num_reactions  num_comments  num_shares  num_likes   \n",
       "0               3            529           512         262        432  \\\n",
       "1               1            150             0           0        150   \n",
       "2               3            227           236          57        204   \n",
       "3               1            111             0           0        111   \n",
       "4               1            213             0           0        204   \n",
       "...           ...            ...           ...         ...        ...   \n",
       "7045            1             89             0           0         89   \n",
       "7046            1             16             0           0         14   \n",
       "7047            1              2             0           0          1   \n",
       "7048            1            351            12          22        349   \n",
       "7049            1             17             0           0         17   \n",
       "\n",
       "      num_loves  num_wows  num_hahas  num_sads  num_angrys  \n",
       "0            92         3          1         1           0  \n",
       "1             0         0          0         0           0  \n",
       "2            21         1          1         0           0  \n",
       "3             0         0          0         0           0  \n",
       "4             9         0          0         0           0  \n",
       "...         ...       ...        ...       ...         ...  \n",
       "7045          0         0          0         0           0  \n",
       "7046          1         0          1         0           0  \n",
       "7047          1         0          0         0           0  \n",
       "7048          2         0          0         0           0  \n",
       "7049          0         0          0         0           0  \n",
       "\n",
       "[7050 rows x 10 columns]"
      ]
     },
     "execution_count": 32,
     "metadata": {},
     "output_type": "execute_result"
    }
   ],
   "source": [
    "prep_kmeans = prep_kmeans[['status_type','num_reactions','num_comments','num_shares','num_likes','num_loves','num_wows','num_hahas','num_sads','num_angrys']]\n",
    "prep_kmeans"
   ]
  },
  {
   "cell_type": "code",
   "execution_count": 33,
   "id": "0e148661",
   "metadata": {},
   "outputs": [
    {
     "data": {
      "text/html": [
       "<style>#sk-container-id-2 {color: black;background-color: white;}#sk-container-id-2 pre{padding: 0;}#sk-container-id-2 div.sk-toggleable {background-color: white;}#sk-container-id-2 label.sk-toggleable__label {cursor: pointer;display: block;width: 100%;margin-bottom: 0;padding: 0.3em;box-sizing: border-box;text-align: center;}#sk-container-id-2 label.sk-toggleable__label-arrow:before {content: \"▸\";float: left;margin-right: 0.25em;color: #696969;}#sk-container-id-2 label.sk-toggleable__label-arrow:hover:before {color: black;}#sk-container-id-2 div.sk-estimator:hover label.sk-toggleable__label-arrow:before {color: black;}#sk-container-id-2 div.sk-toggleable__content {max-height: 0;max-width: 0;overflow: hidden;text-align: left;background-color: #f0f8ff;}#sk-container-id-2 div.sk-toggleable__content pre {margin: 0.2em;color: black;border-radius: 0.25em;background-color: #f0f8ff;}#sk-container-id-2 input.sk-toggleable__control:checked~div.sk-toggleable__content {max-height: 200px;max-width: 100%;overflow: auto;}#sk-container-id-2 input.sk-toggleable__control:checked~label.sk-toggleable__label-arrow:before {content: \"▾\";}#sk-container-id-2 div.sk-estimator input.sk-toggleable__control:checked~label.sk-toggleable__label {background-color: #d4ebff;}#sk-container-id-2 div.sk-label input.sk-toggleable__control:checked~label.sk-toggleable__label {background-color: #d4ebff;}#sk-container-id-2 input.sk-hidden--visually {border: 0;clip: rect(1px 1px 1px 1px);clip: rect(1px, 1px, 1px, 1px);height: 1px;margin: -1px;overflow: hidden;padding: 0;position: absolute;width: 1px;}#sk-container-id-2 div.sk-estimator {font-family: monospace;background-color: #f0f8ff;border: 1px dotted black;border-radius: 0.25em;box-sizing: border-box;margin-bottom: 0.5em;}#sk-container-id-2 div.sk-estimator:hover {background-color: #d4ebff;}#sk-container-id-2 div.sk-parallel-item::after {content: \"\";width: 100%;border-bottom: 1px solid gray;flex-grow: 1;}#sk-container-id-2 div.sk-label:hover label.sk-toggleable__label {background-color: #d4ebff;}#sk-container-id-2 div.sk-serial::before {content: \"\";position: absolute;border-left: 1px solid gray;box-sizing: border-box;top: 0;bottom: 0;left: 50%;z-index: 0;}#sk-container-id-2 div.sk-serial {display: flex;flex-direction: column;align-items: center;background-color: white;padding-right: 0.2em;padding-left: 0.2em;position: relative;}#sk-container-id-2 div.sk-item {position: relative;z-index: 1;}#sk-container-id-2 div.sk-parallel {display: flex;align-items: stretch;justify-content: center;background-color: white;position: relative;}#sk-container-id-2 div.sk-item::before, #sk-container-id-2 div.sk-parallel-item::before {content: \"\";position: absolute;border-left: 1px solid gray;box-sizing: border-box;top: 0;bottom: 0;left: 50%;z-index: -1;}#sk-container-id-2 div.sk-parallel-item {display: flex;flex-direction: column;z-index: 1;position: relative;background-color: white;}#sk-container-id-2 div.sk-parallel-item:first-child::after {align-self: flex-end;width: 50%;}#sk-container-id-2 div.sk-parallel-item:last-child::after {align-self: flex-start;width: 50%;}#sk-container-id-2 div.sk-parallel-item:only-child::after {width: 0;}#sk-container-id-2 div.sk-dashed-wrapped {border: 1px dashed gray;margin: 0 0.4em 0.5em 0.4em;box-sizing: border-box;padding-bottom: 0.4em;background-color: white;}#sk-container-id-2 div.sk-label label {font-family: monospace;font-weight: bold;display: inline-block;line-height: 1.2em;}#sk-container-id-2 div.sk-label-container {text-align: center;}#sk-container-id-2 div.sk-container {/* jupyter's `normalize.less` sets `[hidden] { display: none; }` but bootstrap.min.css set `[hidden] { display: none !important; }` so we also need the `!important` here to be able to override the default hidden behavior on the sphinx rendered scikit-learn.org. See: https://github.com/scikit-learn/scikit-learn/issues/21755 */display: inline-block !important;position: relative;}#sk-container-id-2 div.sk-text-repr-fallback {display: none;}</style><div id=\"sk-container-id-2\" class=\"sk-top-container\"><div class=\"sk-text-repr-fallback\"><pre>MinMaxScaler()</pre><b>In a Jupyter environment, please rerun this cell to show the HTML representation or trust the notebook. <br />On GitHub, the HTML representation is unable to render, please try loading this page with nbviewer.org.</b></div><div class=\"sk-container\" hidden><div class=\"sk-item\"><div class=\"sk-estimator sk-toggleable\"><input class=\"sk-toggleable__control sk-hidden--visually\" id=\"sk-estimator-id-2\" type=\"checkbox\" checked><label for=\"sk-estimator-id-2\" class=\"sk-toggleable__label sk-toggleable__label-arrow\">MinMaxScaler</label><div class=\"sk-toggleable__content\"><pre>MinMaxScaler()</pre></div></div></div></div></div>"
      ],
      "text/plain": [
       "MinMaxScaler()"
      ]
     },
     "execution_count": 33,
     "metadata": {},
     "output_type": "execute_result"
    }
   ],
   "source": [
    "mms = MinMaxScaler()\n",
    "mms"
   ]
  },
  {
   "cell_type": "code",
   "execution_count": 34,
   "id": "eb6149a2",
   "metadata": {},
   "outputs": [
    {
     "data": {
      "text/html": [
       "<style>#sk-container-id-3 {color: black;background-color: white;}#sk-container-id-3 pre{padding: 0;}#sk-container-id-3 div.sk-toggleable {background-color: white;}#sk-container-id-3 label.sk-toggleable__label {cursor: pointer;display: block;width: 100%;margin-bottom: 0;padding: 0.3em;box-sizing: border-box;text-align: center;}#sk-container-id-3 label.sk-toggleable__label-arrow:before {content: \"▸\";float: left;margin-right: 0.25em;color: #696969;}#sk-container-id-3 label.sk-toggleable__label-arrow:hover:before {color: black;}#sk-container-id-3 div.sk-estimator:hover label.sk-toggleable__label-arrow:before {color: black;}#sk-container-id-3 div.sk-toggleable__content {max-height: 0;max-width: 0;overflow: hidden;text-align: left;background-color: #f0f8ff;}#sk-container-id-3 div.sk-toggleable__content pre {margin: 0.2em;color: black;border-radius: 0.25em;background-color: #f0f8ff;}#sk-container-id-3 input.sk-toggleable__control:checked~div.sk-toggleable__content {max-height: 200px;max-width: 100%;overflow: auto;}#sk-container-id-3 input.sk-toggleable__control:checked~label.sk-toggleable__label-arrow:before {content: \"▾\";}#sk-container-id-3 div.sk-estimator input.sk-toggleable__control:checked~label.sk-toggleable__label {background-color: #d4ebff;}#sk-container-id-3 div.sk-label input.sk-toggleable__control:checked~label.sk-toggleable__label {background-color: #d4ebff;}#sk-container-id-3 input.sk-hidden--visually {border: 0;clip: rect(1px 1px 1px 1px);clip: rect(1px, 1px, 1px, 1px);height: 1px;margin: -1px;overflow: hidden;padding: 0;position: absolute;width: 1px;}#sk-container-id-3 div.sk-estimator {font-family: monospace;background-color: #f0f8ff;border: 1px dotted black;border-radius: 0.25em;box-sizing: border-box;margin-bottom: 0.5em;}#sk-container-id-3 div.sk-estimator:hover {background-color: #d4ebff;}#sk-container-id-3 div.sk-parallel-item::after {content: \"\";width: 100%;border-bottom: 1px solid gray;flex-grow: 1;}#sk-container-id-3 div.sk-label:hover label.sk-toggleable__label {background-color: #d4ebff;}#sk-container-id-3 div.sk-serial::before {content: \"\";position: absolute;border-left: 1px solid gray;box-sizing: border-box;top: 0;bottom: 0;left: 50%;z-index: 0;}#sk-container-id-3 div.sk-serial {display: flex;flex-direction: column;align-items: center;background-color: white;padding-right: 0.2em;padding-left: 0.2em;position: relative;}#sk-container-id-3 div.sk-item {position: relative;z-index: 1;}#sk-container-id-3 div.sk-parallel {display: flex;align-items: stretch;justify-content: center;background-color: white;position: relative;}#sk-container-id-3 div.sk-item::before, #sk-container-id-3 div.sk-parallel-item::before {content: \"\";position: absolute;border-left: 1px solid gray;box-sizing: border-box;top: 0;bottom: 0;left: 50%;z-index: -1;}#sk-container-id-3 div.sk-parallel-item {display: flex;flex-direction: column;z-index: 1;position: relative;background-color: white;}#sk-container-id-3 div.sk-parallel-item:first-child::after {align-self: flex-end;width: 50%;}#sk-container-id-3 div.sk-parallel-item:last-child::after {align-self: flex-start;width: 50%;}#sk-container-id-3 div.sk-parallel-item:only-child::after {width: 0;}#sk-container-id-3 div.sk-dashed-wrapped {border: 1px dashed gray;margin: 0 0.4em 0.5em 0.4em;box-sizing: border-box;padding-bottom: 0.4em;background-color: white;}#sk-container-id-3 div.sk-label label {font-family: monospace;font-weight: bold;display: inline-block;line-height: 1.2em;}#sk-container-id-3 div.sk-label-container {text-align: center;}#sk-container-id-3 div.sk-container {/* jupyter's `normalize.less` sets `[hidden] { display: none; }` but bootstrap.min.css set `[hidden] { display: none !important; }` so we also need the `!important` here to be able to override the default hidden behavior on the sphinx rendered scikit-learn.org. See: https://github.com/scikit-learn/scikit-learn/issues/21755 */display: inline-block !important;position: relative;}#sk-container-id-3 div.sk-text-repr-fallback {display: none;}</style><div id=\"sk-container-id-3\" class=\"sk-top-container\"><div class=\"sk-text-repr-fallback\"><pre>MinMaxScaler()</pre><b>In a Jupyter environment, please rerun this cell to show the HTML representation or trust the notebook. <br />On GitHub, the HTML representation is unable to render, please try loading this page with nbviewer.org.</b></div><div class=\"sk-container\" hidden><div class=\"sk-item\"><div class=\"sk-estimator sk-toggleable\"><input class=\"sk-toggleable__control sk-hidden--visually\" id=\"sk-estimator-id-3\" type=\"checkbox\" checked><label for=\"sk-estimator-id-3\" class=\"sk-toggleable__label sk-toggleable__label-arrow\">MinMaxScaler</label><div class=\"sk-toggleable__content\"><pre>MinMaxScaler()</pre></div></div></div></div></div>"
      ],
      "text/plain": [
       "MinMaxScaler()"
      ]
     },
     "execution_count": 34,
     "metadata": {},
     "output_type": "execute_result"
    }
   ],
   "source": [
    "mms.fit(prep_kmeans)"
   ]
  },
  {
   "cell_type": "code",
   "execution_count": 35,
   "id": "ab9cbfdb",
   "metadata": {},
   "outputs": [
    {
     "data": {
      "text/plain": [
       "array([[1.00000000e+00, 1.12314225e-01, 2.43925679e-02, ...,\n",
       "        6.36942675e-03, 1.96078431e-02, 0.00000000e+00],\n",
       "       [3.33333333e-01, 3.18471338e-02, 0.00000000e+00, ...,\n",
       "        0.00000000e+00, 0.00000000e+00, 0.00000000e+00],\n",
       "       [1.00000000e+00, 4.81953291e-02, 1.12434493e-02, ...,\n",
       "        6.36942675e-03, 0.00000000e+00, 0.00000000e+00],\n",
       "       ...,\n",
       "       [3.33333333e-01, 4.24628450e-04, 0.00000000e+00, ...,\n",
       "        0.00000000e+00, 0.00000000e+00, 0.00000000e+00],\n",
       "       [3.33333333e-01, 7.45222930e-02, 5.71700810e-04, ...,\n",
       "        0.00000000e+00, 0.00000000e+00, 0.00000000e+00],\n",
       "       [3.33333333e-01, 3.60934183e-03, 0.00000000e+00, ...,\n",
       "        0.00000000e+00, 0.00000000e+00, 0.00000000e+00]])"
      ]
     },
     "execution_count": 35,
     "metadata": {},
     "output_type": "execute_result"
    }
   ],
   "source": [
    "prep_kmeans = mms.transform(prep_kmeans)\n",
    "prep_kmeans"
   ]
  },
  {
   "cell_type": "code",
   "execution_count": 36,
   "id": "707c5014",
   "metadata": {},
   "outputs": [
    {
     "data": {
      "text/html": [
       "<div>\n",
       "<style scoped>\n",
       "    .dataframe tbody tr th:only-of-type {\n",
       "        vertical-align: middle;\n",
       "    }\n",
       "\n",
       "    .dataframe tbody tr th {\n",
       "        vertical-align: top;\n",
       "    }\n",
       "\n",
       "    .dataframe thead th {\n",
       "        text-align: right;\n",
       "    }\n",
       "</style>\n",
       "<table border=\"1\" class=\"dataframe\">\n",
       "  <thead>\n",
       "    <tr style=\"text-align: right;\">\n",
       "      <th></th>\n",
       "      <th>0</th>\n",
       "      <th>1</th>\n",
       "      <th>2</th>\n",
       "      <th>3</th>\n",
       "      <th>4</th>\n",
       "      <th>5</th>\n",
       "      <th>6</th>\n",
       "      <th>7</th>\n",
       "      <th>8</th>\n",
       "      <th>9</th>\n",
       "    </tr>\n",
       "  </thead>\n",
       "  <tbody>\n",
       "    <tr>\n",
       "      <th>0</th>\n",
       "      <td>1.000000</td>\n",
       "      <td>0.112314</td>\n",
       "      <td>0.024393</td>\n",
       "      <td>0.076519</td>\n",
       "      <td>0.091720</td>\n",
       "      <td>0.140030</td>\n",
       "      <td>0.010791</td>\n",
       "      <td>0.006369</td>\n",
       "      <td>0.019608</td>\n",
       "      <td>0.0</td>\n",
       "    </tr>\n",
       "    <tr>\n",
       "      <th>1</th>\n",
       "      <td>0.333333</td>\n",
       "      <td>0.031847</td>\n",
       "      <td>0.000000</td>\n",
       "      <td>0.000000</td>\n",
       "      <td>0.031847</td>\n",
       "      <td>0.000000</td>\n",
       "      <td>0.000000</td>\n",
       "      <td>0.000000</td>\n",
       "      <td>0.000000</td>\n",
       "      <td>0.0</td>\n",
       "    </tr>\n",
       "    <tr>\n",
       "      <th>2</th>\n",
       "      <td>1.000000</td>\n",
       "      <td>0.048195</td>\n",
       "      <td>0.011243</td>\n",
       "      <td>0.016647</td>\n",
       "      <td>0.043312</td>\n",
       "      <td>0.031963</td>\n",
       "      <td>0.003597</td>\n",
       "      <td>0.006369</td>\n",
       "      <td>0.000000</td>\n",
       "      <td>0.0</td>\n",
       "    </tr>\n",
       "    <tr>\n",
       "      <th>3</th>\n",
       "      <td>0.333333</td>\n",
       "      <td>0.023567</td>\n",
       "      <td>0.000000</td>\n",
       "      <td>0.000000</td>\n",
       "      <td>0.023567</td>\n",
       "      <td>0.000000</td>\n",
       "      <td>0.000000</td>\n",
       "      <td>0.000000</td>\n",
       "      <td>0.000000</td>\n",
       "      <td>0.0</td>\n",
       "    </tr>\n",
       "    <tr>\n",
       "      <th>4</th>\n",
       "      <td>0.333333</td>\n",
       "      <td>0.045223</td>\n",
       "      <td>0.000000</td>\n",
       "      <td>0.000000</td>\n",
       "      <td>0.043312</td>\n",
       "      <td>0.013699</td>\n",
       "      <td>0.000000</td>\n",
       "      <td>0.000000</td>\n",
       "      <td>0.000000</td>\n",
       "      <td>0.0</td>\n",
       "    </tr>\n",
       "    <tr>\n",
       "      <th>...</th>\n",
       "      <td>...</td>\n",
       "      <td>...</td>\n",
       "      <td>...</td>\n",
       "      <td>...</td>\n",
       "      <td>...</td>\n",
       "      <td>...</td>\n",
       "      <td>...</td>\n",
       "      <td>...</td>\n",
       "      <td>...</td>\n",
       "      <td>...</td>\n",
       "    </tr>\n",
       "    <tr>\n",
       "      <th>7045</th>\n",
       "      <td>0.333333</td>\n",
       "      <td>0.018896</td>\n",
       "      <td>0.000000</td>\n",
       "      <td>0.000000</td>\n",
       "      <td>0.018896</td>\n",
       "      <td>0.000000</td>\n",
       "      <td>0.000000</td>\n",
       "      <td>0.000000</td>\n",
       "      <td>0.000000</td>\n",
       "      <td>0.0</td>\n",
       "    </tr>\n",
       "    <tr>\n",
       "      <th>7046</th>\n",
       "      <td>0.333333</td>\n",
       "      <td>0.003397</td>\n",
       "      <td>0.000000</td>\n",
       "      <td>0.000000</td>\n",
       "      <td>0.002972</td>\n",
       "      <td>0.001522</td>\n",
       "      <td>0.000000</td>\n",
       "      <td>0.006369</td>\n",
       "      <td>0.000000</td>\n",
       "      <td>0.0</td>\n",
       "    </tr>\n",
       "    <tr>\n",
       "      <th>7047</th>\n",
       "      <td>0.333333</td>\n",
       "      <td>0.000425</td>\n",
       "      <td>0.000000</td>\n",
       "      <td>0.000000</td>\n",
       "      <td>0.000212</td>\n",
       "      <td>0.001522</td>\n",
       "      <td>0.000000</td>\n",
       "      <td>0.000000</td>\n",
       "      <td>0.000000</td>\n",
       "      <td>0.0</td>\n",
       "    </tr>\n",
       "    <tr>\n",
       "      <th>7048</th>\n",
       "      <td>0.333333</td>\n",
       "      <td>0.074522</td>\n",
       "      <td>0.000572</td>\n",
       "      <td>0.006425</td>\n",
       "      <td>0.074098</td>\n",
       "      <td>0.003044</td>\n",
       "      <td>0.000000</td>\n",
       "      <td>0.000000</td>\n",
       "      <td>0.000000</td>\n",
       "      <td>0.0</td>\n",
       "    </tr>\n",
       "    <tr>\n",
       "      <th>7049</th>\n",
       "      <td>0.333333</td>\n",
       "      <td>0.003609</td>\n",
       "      <td>0.000000</td>\n",
       "      <td>0.000000</td>\n",
       "      <td>0.003609</td>\n",
       "      <td>0.000000</td>\n",
       "      <td>0.000000</td>\n",
       "      <td>0.000000</td>\n",
       "      <td>0.000000</td>\n",
       "      <td>0.0</td>\n",
       "    </tr>\n",
       "  </tbody>\n",
       "</table>\n",
       "<p>7050 rows × 10 columns</p>\n",
       "</div>"
      ],
      "text/plain": [
       "             0         1         2         3         4         5         6   \n",
       "0     1.000000  0.112314  0.024393  0.076519  0.091720  0.140030  0.010791  \\\n",
       "1     0.333333  0.031847  0.000000  0.000000  0.031847  0.000000  0.000000   \n",
       "2     1.000000  0.048195  0.011243  0.016647  0.043312  0.031963  0.003597   \n",
       "3     0.333333  0.023567  0.000000  0.000000  0.023567  0.000000  0.000000   \n",
       "4     0.333333  0.045223  0.000000  0.000000  0.043312  0.013699  0.000000   \n",
       "...        ...       ...       ...       ...       ...       ...       ...   \n",
       "7045  0.333333  0.018896  0.000000  0.000000  0.018896  0.000000  0.000000   \n",
       "7046  0.333333  0.003397  0.000000  0.000000  0.002972  0.001522  0.000000   \n",
       "7047  0.333333  0.000425  0.000000  0.000000  0.000212  0.001522  0.000000   \n",
       "7048  0.333333  0.074522  0.000572  0.006425  0.074098  0.003044  0.000000   \n",
       "7049  0.333333  0.003609  0.000000  0.000000  0.003609  0.000000  0.000000   \n",
       "\n",
       "             7         8    9  \n",
       "0     0.006369  0.019608  0.0  \n",
       "1     0.000000  0.000000  0.0  \n",
       "2     0.006369  0.000000  0.0  \n",
       "3     0.000000  0.000000  0.0  \n",
       "4     0.000000  0.000000  0.0  \n",
       "...        ...       ...  ...  \n",
       "7045  0.000000  0.000000  0.0  \n",
       "7046  0.006369  0.000000  0.0  \n",
       "7047  0.000000  0.000000  0.0  \n",
       "7048  0.000000  0.000000  0.0  \n",
       "7049  0.000000  0.000000  0.0  \n",
       "\n",
       "[7050 rows x 10 columns]"
      ]
     },
     "execution_count": 36,
     "metadata": {},
     "output_type": "execute_result"
    }
   ],
   "source": [
    "prep_kmeans = pd.DataFrame(prep_kmeans)\n",
    "prep_kmeans"
   ]
  },
  {
   "cell_type": "code",
   "execution_count": 37,
   "id": "00312dd1",
   "metadata": {},
   "outputs": [
    {
     "data": {
      "text/html": [
       "<div>\n",
       "<style scoped>\n",
       "    .dataframe tbody tr th:only-of-type {\n",
       "        vertical-align: middle;\n",
       "    }\n",
       "\n",
       "    .dataframe tbody tr th {\n",
       "        vertical-align: top;\n",
       "    }\n",
       "\n",
       "    .dataframe thead th {\n",
       "        text-align: right;\n",
       "    }\n",
       "</style>\n",
       "<table border=\"1\" class=\"dataframe\">\n",
       "  <thead>\n",
       "    <tr style=\"text-align: right;\">\n",
       "      <th></th>\n",
       "      <th>status_type</th>\n",
       "      <th>num_reactions</th>\n",
       "      <th>num_comments</th>\n",
       "      <th>num_shares</th>\n",
       "      <th>num_likes</th>\n",
       "      <th>num_loves</th>\n",
       "      <th>num_wows</th>\n",
       "      <th>num_hahas</th>\n",
       "      <th>num_sads</th>\n",
       "      <th>num_angrys</th>\n",
       "    </tr>\n",
       "  </thead>\n",
       "  <tbody>\n",
       "    <tr>\n",
       "      <th>0</th>\n",
       "      <td>1.000000</td>\n",
       "      <td>0.112314</td>\n",
       "      <td>0.024393</td>\n",
       "      <td>0.076519</td>\n",
       "      <td>0.091720</td>\n",
       "      <td>0.140030</td>\n",
       "      <td>0.010791</td>\n",
       "      <td>0.006369</td>\n",
       "      <td>0.019608</td>\n",
       "      <td>0.0</td>\n",
       "    </tr>\n",
       "    <tr>\n",
       "      <th>1</th>\n",
       "      <td>0.333333</td>\n",
       "      <td>0.031847</td>\n",
       "      <td>0.000000</td>\n",
       "      <td>0.000000</td>\n",
       "      <td>0.031847</td>\n",
       "      <td>0.000000</td>\n",
       "      <td>0.000000</td>\n",
       "      <td>0.000000</td>\n",
       "      <td>0.000000</td>\n",
       "      <td>0.0</td>\n",
       "    </tr>\n",
       "    <tr>\n",
       "      <th>2</th>\n",
       "      <td>1.000000</td>\n",
       "      <td>0.048195</td>\n",
       "      <td>0.011243</td>\n",
       "      <td>0.016647</td>\n",
       "      <td>0.043312</td>\n",
       "      <td>0.031963</td>\n",
       "      <td>0.003597</td>\n",
       "      <td>0.006369</td>\n",
       "      <td>0.000000</td>\n",
       "      <td>0.0</td>\n",
       "    </tr>\n",
       "    <tr>\n",
       "      <th>3</th>\n",
       "      <td>0.333333</td>\n",
       "      <td>0.023567</td>\n",
       "      <td>0.000000</td>\n",
       "      <td>0.000000</td>\n",
       "      <td>0.023567</td>\n",
       "      <td>0.000000</td>\n",
       "      <td>0.000000</td>\n",
       "      <td>0.000000</td>\n",
       "      <td>0.000000</td>\n",
       "      <td>0.0</td>\n",
       "    </tr>\n",
       "    <tr>\n",
       "      <th>4</th>\n",
       "      <td>0.333333</td>\n",
       "      <td>0.045223</td>\n",
       "      <td>0.000000</td>\n",
       "      <td>0.000000</td>\n",
       "      <td>0.043312</td>\n",
       "      <td>0.013699</td>\n",
       "      <td>0.000000</td>\n",
       "      <td>0.000000</td>\n",
       "      <td>0.000000</td>\n",
       "      <td>0.0</td>\n",
       "    </tr>\n",
       "    <tr>\n",
       "      <th>...</th>\n",
       "      <td>...</td>\n",
       "      <td>...</td>\n",
       "      <td>...</td>\n",
       "      <td>...</td>\n",
       "      <td>...</td>\n",
       "      <td>...</td>\n",
       "      <td>...</td>\n",
       "      <td>...</td>\n",
       "      <td>...</td>\n",
       "      <td>...</td>\n",
       "    </tr>\n",
       "    <tr>\n",
       "      <th>7045</th>\n",
       "      <td>0.333333</td>\n",
       "      <td>0.018896</td>\n",
       "      <td>0.000000</td>\n",
       "      <td>0.000000</td>\n",
       "      <td>0.018896</td>\n",
       "      <td>0.000000</td>\n",
       "      <td>0.000000</td>\n",
       "      <td>0.000000</td>\n",
       "      <td>0.000000</td>\n",
       "      <td>0.0</td>\n",
       "    </tr>\n",
       "    <tr>\n",
       "      <th>7046</th>\n",
       "      <td>0.333333</td>\n",
       "      <td>0.003397</td>\n",
       "      <td>0.000000</td>\n",
       "      <td>0.000000</td>\n",
       "      <td>0.002972</td>\n",
       "      <td>0.001522</td>\n",
       "      <td>0.000000</td>\n",
       "      <td>0.006369</td>\n",
       "      <td>0.000000</td>\n",
       "      <td>0.0</td>\n",
       "    </tr>\n",
       "    <tr>\n",
       "      <th>7047</th>\n",
       "      <td>0.333333</td>\n",
       "      <td>0.000425</td>\n",
       "      <td>0.000000</td>\n",
       "      <td>0.000000</td>\n",
       "      <td>0.000212</td>\n",
       "      <td>0.001522</td>\n",
       "      <td>0.000000</td>\n",
       "      <td>0.000000</td>\n",
       "      <td>0.000000</td>\n",
       "      <td>0.0</td>\n",
       "    </tr>\n",
       "    <tr>\n",
       "      <th>7048</th>\n",
       "      <td>0.333333</td>\n",
       "      <td>0.074522</td>\n",
       "      <td>0.000572</td>\n",
       "      <td>0.006425</td>\n",
       "      <td>0.074098</td>\n",
       "      <td>0.003044</td>\n",
       "      <td>0.000000</td>\n",
       "      <td>0.000000</td>\n",
       "      <td>0.000000</td>\n",
       "      <td>0.0</td>\n",
       "    </tr>\n",
       "    <tr>\n",
       "      <th>7049</th>\n",
       "      <td>0.333333</td>\n",
       "      <td>0.003609</td>\n",
       "      <td>0.000000</td>\n",
       "      <td>0.000000</td>\n",
       "      <td>0.003609</td>\n",
       "      <td>0.000000</td>\n",
       "      <td>0.000000</td>\n",
       "      <td>0.000000</td>\n",
       "      <td>0.000000</td>\n",
       "      <td>0.0</td>\n",
       "    </tr>\n",
       "  </tbody>\n",
       "</table>\n",
       "<p>7050 rows × 10 columns</p>\n",
       "</div>"
      ],
      "text/plain": [
       "      status_type  num_reactions  num_comments  num_shares  num_likes   \n",
       "0        1.000000       0.112314      0.024393    0.076519   0.091720  \\\n",
       "1        0.333333       0.031847      0.000000    0.000000   0.031847   \n",
       "2        1.000000       0.048195      0.011243    0.016647   0.043312   \n",
       "3        0.333333       0.023567      0.000000    0.000000   0.023567   \n",
       "4        0.333333       0.045223      0.000000    0.000000   0.043312   \n",
       "...           ...            ...           ...         ...        ...   \n",
       "7045     0.333333       0.018896      0.000000    0.000000   0.018896   \n",
       "7046     0.333333       0.003397      0.000000    0.000000   0.002972   \n",
       "7047     0.333333       0.000425      0.000000    0.000000   0.000212   \n",
       "7048     0.333333       0.074522      0.000572    0.006425   0.074098   \n",
       "7049     0.333333       0.003609      0.000000    0.000000   0.003609   \n",
       "\n",
       "      num_loves  num_wows  num_hahas  num_sads  num_angrys  \n",
       "0      0.140030  0.010791   0.006369  0.019608         0.0  \n",
       "1      0.000000  0.000000   0.000000  0.000000         0.0  \n",
       "2      0.031963  0.003597   0.006369  0.000000         0.0  \n",
       "3      0.000000  0.000000   0.000000  0.000000         0.0  \n",
       "4      0.013699  0.000000   0.000000  0.000000         0.0  \n",
       "...         ...       ...        ...       ...         ...  \n",
       "7045   0.000000  0.000000   0.000000  0.000000         0.0  \n",
       "7046   0.001522  0.000000   0.006369  0.000000         0.0  \n",
       "7047   0.001522  0.000000   0.000000  0.000000         0.0  \n",
       "7048   0.003044  0.000000   0.000000  0.000000         0.0  \n",
       "7049   0.000000  0.000000   0.000000  0.000000         0.0  \n",
       "\n",
       "[7050 rows x 10 columns]"
      ]
     },
     "execution_count": 37,
     "metadata": {},
     "output_type": "execute_result"
    }
   ],
   "source": [
    "prep_kmeans = prep_kmeans.rename(columns={1:'num_reactions',2:'num_comments',3:'num_shares',4:'num_likes',5:'num_loves',6:'num_wows',7:'num_hahas',8:'num_sads',9:'num_angrys',0:'status_type'})\n",
    "prep_kmeans"
   ]
  },
  {
   "cell_type": "code",
   "execution_count": 38,
   "id": "09109ce2",
   "metadata": {},
   "outputs": [
    {
     "data": {
      "text/plain": [
       "array([[1.00000000e+00, 1.12314225e-01, 2.43925679e-02, ...,\n",
       "        6.36942675e-03, 1.96078431e-02, 0.00000000e+00],\n",
       "       [3.33333333e-01, 3.18471338e-02, 0.00000000e+00, ...,\n",
       "        0.00000000e+00, 0.00000000e+00, 0.00000000e+00],\n",
       "       [1.00000000e+00, 4.81953291e-02, 1.12434493e-02, ...,\n",
       "        6.36942675e-03, 0.00000000e+00, 0.00000000e+00],\n",
       "       ...,\n",
       "       [3.33333333e-01, 4.24628450e-04, 0.00000000e+00, ...,\n",
       "        0.00000000e+00, 0.00000000e+00, 0.00000000e+00],\n",
       "       [3.33333333e-01, 7.45222930e-02, 5.71700810e-04, ...,\n",
       "        0.00000000e+00, 0.00000000e+00, 0.00000000e+00],\n",
       "       [3.33333333e-01, 3.60934183e-03, 0.00000000e+00, ...,\n",
       "        0.00000000e+00, 0.00000000e+00, 0.00000000e+00]])"
      ]
     },
     "execution_count": 38,
     "metadata": {},
     "output_type": "execute_result"
    }
   ],
   "source": [
    "prep_kmeans = prep_kmeans.values\n",
    "prep_kmeans"
   ]
  },
  {
   "cell_type": "code",
   "execution_count": 39,
   "id": "ae0ef738",
   "metadata": {},
   "outputs": [],
   "source": [
    "from sklearn.cluster import KMeans"
   ]
  },
  {
   "cell_type": "code",
   "execution_count": 40,
   "id": "ed209837",
   "metadata": {
    "scrolled": true
   },
   "outputs": [
    {
     "data": {
      "text/html": [
       "<style>#sk-container-id-4 {color: black;background-color: white;}#sk-container-id-4 pre{padding: 0;}#sk-container-id-4 div.sk-toggleable {background-color: white;}#sk-container-id-4 label.sk-toggleable__label {cursor: pointer;display: block;width: 100%;margin-bottom: 0;padding: 0.3em;box-sizing: border-box;text-align: center;}#sk-container-id-4 label.sk-toggleable__label-arrow:before {content: \"▸\";float: left;margin-right: 0.25em;color: #696969;}#sk-container-id-4 label.sk-toggleable__label-arrow:hover:before {color: black;}#sk-container-id-4 div.sk-estimator:hover label.sk-toggleable__label-arrow:before {color: black;}#sk-container-id-4 div.sk-toggleable__content {max-height: 0;max-width: 0;overflow: hidden;text-align: left;background-color: #f0f8ff;}#sk-container-id-4 div.sk-toggleable__content pre {margin: 0.2em;color: black;border-radius: 0.25em;background-color: #f0f8ff;}#sk-container-id-4 input.sk-toggleable__control:checked~div.sk-toggleable__content {max-height: 200px;max-width: 100%;overflow: auto;}#sk-container-id-4 input.sk-toggleable__control:checked~label.sk-toggleable__label-arrow:before {content: \"▾\";}#sk-container-id-4 div.sk-estimator input.sk-toggleable__control:checked~label.sk-toggleable__label {background-color: #d4ebff;}#sk-container-id-4 div.sk-label input.sk-toggleable__control:checked~label.sk-toggleable__label {background-color: #d4ebff;}#sk-container-id-4 input.sk-hidden--visually {border: 0;clip: rect(1px 1px 1px 1px);clip: rect(1px, 1px, 1px, 1px);height: 1px;margin: -1px;overflow: hidden;padding: 0;position: absolute;width: 1px;}#sk-container-id-4 div.sk-estimator {font-family: monospace;background-color: #f0f8ff;border: 1px dotted black;border-radius: 0.25em;box-sizing: border-box;margin-bottom: 0.5em;}#sk-container-id-4 div.sk-estimator:hover {background-color: #d4ebff;}#sk-container-id-4 div.sk-parallel-item::after {content: \"\";width: 100%;border-bottom: 1px solid gray;flex-grow: 1;}#sk-container-id-4 div.sk-label:hover label.sk-toggleable__label {background-color: #d4ebff;}#sk-container-id-4 div.sk-serial::before {content: \"\";position: absolute;border-left: 1px solid gray;box-sizing: border-box;top: 0;bottom: 0;left: 50%;z-index: 0;}#sk-container-id-4 div.sk-serial {display: flex;flex-direction: column;align-items: center;background-color: white;padding-right: 0.2em;padding-left: 0.2em;position: relative;}#sk-container-id-4 div.sk-item {position: relative;z-index: 1;}#sk-container-id-4 div.sk-parallel {display: flex;align-items: stretch;justify-content: center;background-color: white;position: relative;}#sk-container-id-4 div.sk-item::before, #sk-container-id-4 div.sk-parallel-item::before {content: \"\";position: absolute;border-left: 1px solid gray;box-sizing: border-box;top: 0;bottom: 0;left: 50%;z-index: -1;}#sk-container-id-4 div.sk-parallel-item {display: flex;flex-direction: column;z-index: 1;position: relative;background-color: white;}#sk-container-id-4 div.sk-parallel-item:first-child::after {align-self: flex-end;width: 50%;}#sk-container-id-4 div.sk-parallel-item:last-child::after {align-self: flex-start;width: 50%;}#sk-container-id-4 div.sk-parallel-item:only-child::after {width: 0;}#sk-container-id-4 div.sk-dashed-wrapped {border: 1px dashed gray;margin: 0 0.4em 0.5em 0.4em;box-sizing: border-box;padding-bottom: 0.4em;background-color: white;}#sk-container-id-4 div.sk-label label {font-family: monospace;font-weight: bold;display: inline-block;line-height: 1.2em;}#sk-container-id-4 div.sk-label-container {text-align: center;}#sk-container-id-4 div.sk-container {/* jupyter's `normalize.less` sets `[hidden] { display: none; }` but bootstrap.min.css set `[hidden] { display: none !important; }` so we also need the `!important` here to be able to override the default hidden behavior on the sphinx rendered scikit-learn.org. See: https://github.com/scikit-learn/scikit-learn/issues/21755 */display: inline-block !important;position: relative;}#sk-container-id-4 div.sk-text-repr-fallback {display: none;}</style><div id=\"sk-container-id-4\" class=\"sk-top-container\"><div class=\"sk-text-repr-fallback\"><pre>KMeans(n_clusters=2, n_init=&#x27;auto&#x27;)</pre><b>In a Jupyter environment, please rerun this cell to show the HTML representation or trust the notebook. <br />On GitHub, the HTML representation is unable to render, please try loading this page with nbviewer.org.</b></div><div class=\"sk-container\" hidden><div class=\"sk-item\"><div class=\"sk-estimator sk-toggleable\"><input class=\"sk-toggleable__control sk-hidden--visually\" id=\"sk-estimator-id-4\" type=\"checkbox\" checked><label for=\"sk-estimator-id-4\" class=\"sk-toggleable__label sk-toggleable__label-arrow\">KMeans</label><div class=\"sk-toggleable__content\"><pre>KMeans(n_clusters=2, n_init=&#x27;auto&#x27;)</pre></div></div></div></div></div>"
      ],
      "text/plain": [
       "KMeans(n_clusters=2, n_init='auto')"
      ]
     },
     "execution_count": 40,
     "metadata": {},
     "output_type": "execute_result"
    }
   ],
   "source": [
    "KM = KMeans(n_clusters=2,n_init='auto')\n",
    "KM"
   ]
  },
  {
   "cell_type": "code",
   "execution_count": 41,
   "id": "45d04bf3",
   "metadata": {},
   "outputs": [
    {
     "data": {
      "text/html": [
       "<style>#sk-container-id-5 {color: black;background-color: white;}#sk-container-id-5 pre{padding: 0;}#sk-container-id-5 div.sk-toggleable {background-color: white;}#sk-container-id-5 label.sk-toggleable__label {cursor: pointer;display: block;width: 100%;margin-bottom: 0;padding: 0.3em;box-sizing: border-box;text-align: center;}#sk-container-id-5 label.sk-toggleable__label-arrow:before {content: \"▸\";float: left;margin-right: 0.25em;color: #696969;}#sk-container-id-5 label.sk-toggleable__label-arrow:hover:before {color: black;}#sk-container-id-5 div.sk-estimator:hover label.sk-toggleable__label-arrow:before {color: black;}#sk-container-id-5 div.sk-toggleable__content {max-height: 0;max-width: 0;overflow: hidden;text-align: left;background-color: #f0f8ff;}#sk-container-id-5 div.sk-toggleable__content pre {margin: 0.2em;color: black;border-radius: 0.25em;background-color: #f0f8ff;}#sk-container-id-5 input.sk-toggleable__control:checked~div.sk-toggleable__content {max-height: 200px;max-width: 100%;overflow: auto;}#sk-container-id-5 input.sk-toggleable__control:checked~label.sk-toggleable__label-arrow:before {content: \"▾\";}#sk-container-id-5 div.sk-estimator input.sk-toggleable__control:checked~label.sk-toggleable__label {background-color: #d4ebff;}#sk-container-id-5 div.sk-label input.sk-toggleable__control:checked~label.sk-toggleable__label {background-color: #d4ebff;}#sk-container-id-5 input.sk-hidden--visually {border: 0;clip: rect(1px 1px 1px 1px);clip: rect(1px, 1px, 1px, 1px);height: 1px;margin: -1px;overflow: hidden;padding: 0;position: absolute;width: 1px;}#sk-container-id-5 div.sk-estimator {font-family: monospace;background-color: #f0f8ff;border: 1px dotted black;border-radius: 0.25em;box-sizing: border-box;margin-bottom: 0.5em;}#sk-container-id-5 div.sk-estimator:hover {background-color: #d4ebff;}#sk-container-id-5 div.sk-parallel-item::after {content: \"\";width: 100%;border-bottom: 1px solid gray;flex-grow: 1;}#sk-container-id-5 div.sk-label:hover label.sk-toggleable__label {background-color: #d4ebff;}#sk-container-id-5 div.sk-serial::before {content: \"\";position: absolute;border-left: 1px solid gray;box-sizing: border-box;top: 0;bottom: 0;left: 50%;z-index: 0;}#sk-container-id-5 div.sk-serial {display: flex;flex-direction: column;align-items: center;background-color: white;padding-right: 0.2em;padding-left: 0.2em;position: relative;}#sk-container-id-5 div.sk-item {position: relative;z-index: 1;}#sk-container-id-5 div.sk-parallel {display: flex;align-items: stretch;justify-content: center;background-color: white;position: relative;}#sk-container-id-5 div.sk-item::before, #sk-container-id-5 div.sk-parallel-item::before {content: \"\";position: absolute;border-left: 1px solid gray;box-sizing: border-box;top: 0;bottom: 0;left: 50%;z-index: -1;}#sk-container-id-5 div.sk-parallel-item {display: flex;flex-direction: column;z-index: 1;position: relative;background-color: white;}#sk-container-id-5 div.sk-parallel-item:first-child::after {align-self: flex-end;width: 50%;}#sk-container-id-5 div.sk-parallel-item:last-child::after {align-self: flex-start;width: 50%;}#sk-container-id-5 div.sk-parallel-item:only-child::after {width: 0;}#sk-container-id-5 div.sk-dashed-wrapped {border: 1px dashed gray;margin: 0 0.4em 0.5em 0.4em;box-sizing: border-box;padding-bottom: 0.4em;background-color: white;}#sk-container-id-5 div.sk-label label {font-family: monospace;font-weight: bold;display: inline-block;line-height: 1.2em;}#sk-container-id-5 div.sk-label-container {text-align: center;}#sk-container-id-5 div.sk-container {/* jupyter's `normalize.less` sets `[hidden] { display: none; }` but bootstrap.min.css set `[hidden] { display: none !important; }` so we also need the `!important` here to be able to override the default hidden behavior on the sphinx rendered scikit-learn.org. See: https://github.com/scikit-learn/scikit-learn/issues/21755 */display: inline-block !important;position: relative;}#sk-container-id-5 div.sk-text-repr-fallback {display: none;}</style><div id=\"sk-container-id-5\" class=\"sk-top-container\"><div class=\"sk-text-repr-fallback\"><pre>KMeans(n_clusters=2, n_init=&#x27;auto&#x27;)</pre><b>In a Jupyter environment, please rerun this cell to show the HTML representation or trust the notebook. <br />On GitHub, the HTML representation is unable to render, please try loading this page with nbviewer.org.</b></div><div class=\"sk-container\" hidden><div class=\"sk-item\"><div class=\"sk-estimator sk-toggleable\"><input class=\"sk-toggleable__control sk-hidden--visually\" id=\"sk-estimator-id-5\" type=\"checkbox\" checked><label for=\"sk-estimator-id-5\" class=\"sk-toggleable__label sk-toggleable__label-arrow\">KMeans</label><div class=\"sk-toggleable__content\"><pre>KMeans(n_clusters=2, n_init=&#x27;auto&#x27;)</pre></div></div></div></div></div>"
      ],
      "text/plain": [
       "KMeans(n_clusters=2, n_init='auto')"
      ]
     },
     "execution_count": 41,
     "metadata": {},
     "output_type": "execute_result"
    }
   ],
   "source": [
    "KM = KM.fit(prep_kmeans)\n",
    "KM"
   ]
  },
  {
   "cell_type": "code",
   "execution_count": 42,
   "id": "8c7566f3",
   "metadata": {},
   "outputs": [
    {
     "data": {
      "text/plain": [
       "array([0, 1, 0, ..., 1, 1, 1], dtype=int32)"
      ]
     },
     "execution_count": 42,
     "metadata": {},
     "output_type": "execute_result"
    }
   ],
   "source": [
    "labels = KM.labels_\n",
    "labels"
   ]
  },
  {
   "cell_type": "code",
   "execution_count": 43,
   "id": "017250c4",
   "metadata": {},
   "outputs": [
    {
     "data": {
      "text/plain": [
       "array([[9.86305122e-01, 6.92406932e-02, 2.95016448e-02, 3.24726998e-02,\n",
       "        6.09613107e-02, 5.20380355e-02, 8.94403623e-03, 1.06165835e-02,\n",
       "        7.97525255e-03, 7.88559917e-03],\n",
       "       [3.47920277e-01, 3.81089775e-02, 7.68718371e-04, 7.29570753e-04,\n",
       "        3.75866551e-02, 2.15022066e-03, 2.36743015e-03, 1.17701928e-03,\n",
       "        3.09239814e-03, 1.41862805e-03]])"
      ]
     },
     "execution_count": 43,
     "metadata": {},
     "output_type": "execute_result"
    }
   ],
   "source": [
    "centroids = KM.cluster_centers_\n",
    "centroids"
   ]
  },
  {
   "cell_type": "code",
   "execution_count": 44,
   "id": "d7d09dee",
   "metadata": {},
   "outputs": [
    {
     "data": {
      "text/plain": [
       "array([[1.00000000e+00, 1.12314225e-01, 2.43925679e-02, ...,\n",
       "        6.36942675e-03, 1.96078431e-02, 0.00000000e+00],\n",
       "       [3.33333333e-01, 3.18471338e-02, 0.00000000e+00, ...,\n",
       "        0.00000000e+00, 0.00000000e+00, 0.00000000e+00],\n",
       "       [1.00000000e+00, 4.81953291e-02, 1.12434493e-02, ...,\n",
       "        6.36942675e-03, 0.00000000e+00, 0.00000000e+00],\n",
       "       ...,\n",
       "       [3.33333333e-01, 4.24628450e-04, 0.00000000e+00, ...,\n",
       "        0.00000000e+00, 0.00000000e+00, 0.00000000e+00],\n",
       "       [3.33333333e-01, 7.45222930e-02, 5.71700810e-04, ...,\n",
       "        0.00000000e+00, 0.00000000e+00, 0.00000000e+00],\n",
       "       [3.33333333e-01, 3.60934183e-03, 0.00000000e+00, ...,\n",
       "        0.00000000e+00, 0.00000000e+00, 0.00000000e+00]])"
      ]
     },
     "execution_count": 44,
     "metadata": {},
     "output_type": "execute_result"
    }
   ],
   "source": [
    "prep_kmeans"
   ]
  },
  {
   "cell_type": "code",
   "execution_count": 45,
   "id": "45327aaf",
   "metadata": {
    "scrolled": false
   },
   "outputs": [
    {
     "data": {
      "text/plain": [
       "<matplotlib.legend.Legend at 0x13789ce50>"
      ]
     },
     "execution_count": 45,
     "metadata": {},
     "output_type": "execute_result"
    },
    {
     "data": {
      "image/png": "[encoded data removed]",
      "text/plain": [
       "<Figure size 640x480 with 1 Axes>"
      ]
     },
     "metadata": {},
     "output_type": "display_data"
    }
   ],
   "source": [
    "mplt.scatter(x=prep_kmeans[labels == 0,0],y=prep_kmeans[labels == 0,1],s=10,label='Cluster1',c='g')\n",
    "mplt.scatter(x=prep_kmeans[labels == 1,0],y=prep_kmeans[labels == 1,1],s=20,label='Cluster2',c='r')\n",
    "mplt.scatter(x=centroids[:,0],y=centroids[:,1],c='b',label='Centroid',s=50)\n",
    "mplt.legend()"
   ]
  },
  {
   "cell_type": "code",
   "execution_count": 263,
   "id": "8f8c8c6d",
   "metadata": {},
   "outputs": [],
   "source": [
    "from sklearn.datasets import make_blobs"
   ]
  },
  {
   "cell_type": "code",
   "execution_count": 294,
   "id": "3e67ac1c",
   "metadata": {
    "scrolled": false
   },
   "outputs": [
    {
     "data": {
      "text/plain": [
       "array([15,  5,  2, ...,  2, 11,  5])"
      ]
     },
     "execution_count": 294,
     "metadata": {},
     "output_type": "execute_result"
    }
   ],
   "source": [
    "data,centers = make_blobs(n_samples=1200,random_state=1,centers=20)\n",
    "centers"
   ]
  },
  {
   "cell_type": "code",
   "execution_count": 295,
   "id": "20f1383d",
   "metadata": {},
   "outputs": [
    {
     "data": {
      "text/html": [
       "<style>#sk-container-id-39 {color: black;background-color: white;}#sk-container-id-39 pre{padding: 0;}#sk-container-id-39 div.sk-toggleable {background-color: white;}#sk-container-id-39 label.sk-toggleable__label {cursor: pointer;display: block;width: 100%;margin-bottom: 0;padding: 0.3em;box-sizing: border-box;text-align: center;}#sk-container-id-39 label.sk-toggleable__label-arrow:before {content: \"▸\";float: left;margin-right: 0.25em;color: #696969;}#sk-container-id-39 label.sk-toggleable__label-arrow:hover:before {color: black;}#sk-container-id-39 div.sk-estimator:hover label.sk-toggleable__label-arrow:before {color: black;}#sk-container-id-39 div.sk-toggleable__content {max-height: 0;max-width: 0;overflow: hidden;text-align: left;background-color: #f0f8ff;}#sk-container-id-39 div.sk-toggleable__content pre {margin: 0.2em;color: black;border-radius: 0.25em;background-color: #f0f8ff;}#sk-container-id-39 input.sk-toggleable__control:checked~div.sk-toggleable__content {max-height: 200px;max-width: 100%;overflow: auto;}#sk-container-id-39 input.sk-toggleable__control:checked~label.sk-toggleable__label-arrow:before {content: \"▾\";}#sk-container-id-39 div.sk-estimator input.sk-toggleable__control:checked~label.sk-toggleable__label {background-color: #d4ebff;}#sk-container-id-39 div.sk-label input.sk-toggleable__control:checked~label.sk-toggleable__label {background-color: #d4ebff;}#sk-container-id-39 input.sk-hidden--visually {border: 0;clip: rect(1px 1px 1px 1px);clip: rect(1px, 1px, 1px, 1px);height: 1px;margin: -1px;overflow: hidden;padding: 0;position: absolute;width: 1px;}#sk-container-id-39 div.sk-estimator {font-family: monospace;background-color: #f0f8ff;border: 1px dotted black;border-radius: 0.25em;box-sizing: border-box;margin-bottom: 0.5em;}#sk-container-id-39 div.sk-estimator:hover {background-color: #d4ebff;}#sk-container-id-39 div.sk-parallel-item::after {content: \"\";width: 100%;border-bottom: 1px solid gray;flex-grow: 1;}#sk-container-id-39 div.sk-label:hover label.sk-toggleable__label {background-color: #d4ebff;}#sk-container-id-39 div.sk-serial::before {content: \"\";position: absolute;border-left: 1px solid gray;box-sizing: border-box;top: 0;bottom: 0;left: 50%;z-index: 0;}#sk-container-id-39 div.sk-serial {display: flex;flex-direction: column;align-items: center;background-color: white;padding-right: 0.2em;padding-left: 0.2em;position: relative;}#sk-container-id-39 div.sk-item {position: relative;z-index: 1;}#sk-container-id-39 div.sk-parallel {display: flex;align-items: stretch;justify-content: center;background-color: white;position: relative;}#sk-container-id-39 div.sk-item::before, #sk-container-id-39 div.sk-parallel-item::before {content: \"\";position: absolute;border-left: 1px solid gray;box-sizing: border-box;top: 0;bottom: 0;left: 50%;z-index: -1;}#sk-container-id-39 div.sk-parallel-item {display: flex;flex-direction: column;z-index: 1;position: relative;background-color: white;}#sk-container-id-39 div.sk-parallel-item:first-child::after {align-self: flex-end;width: 50%;}#sk-container-id-39 div.sk-parallel-item:last-child::after {align-self: flex-start;width: 50%;}#sk-container-id-39 div.sk-parallel-item:only-child::after {width: 0;}#sk-container-id-39 div.sk-dashed-wrapped {border: 1px dashed gray;margin: 0 0.4em 0.5em 0.4em;box-sizing: border-box;padding-bottom: 0.4em;background-color: white;}#sk-container-id-39 div.sk-label label {font-family: monospace;font-weight: bold;display: inline-block;line-height: 1.2em;}#sk-container-id-39 div.sk-label-container {text-align: center;}#sk-container-id-39 div.sk-container {/* jupyter's `normalize.less` sets `[hidden] { display: none; }` but bootstrap.min.css set `[hidden] { display: none !important; }` so we also need the `!important` here to be able to override the default hidden behavior on the sphinx rendered scikit-learn.org. See: https://github.com/scikit-learn/scikit-learn/issues/21755 */display: inline-block !important;position: relative;}#sk-container-id-39 div.sk-text-repr-fallback {display: none;}</style><div id=\"sk-container-id-39\" class=\"sk-top-container\"><div class=\"sk-text-repr-fallback\"><pre>KMeans(n_init=&#x27;auto&#x27;)</pre><b>In a Jupyter environment, please rerun this cell to show the HTML representation or trust the notebook. <br />On GitHub, the HTML representation is unable to render, please try loading this page with nbviewer.org.</b></div><div class=\"sk-container\" hidden><div class=\"sk-item\"><div class=\"sk-estimator sk-toggleable\"><input class=\"sk-toggleable__control sk-hidden--visually\" id=\"sk-estimator-id-39\" type=\"checkbox\" checked><label for=\"sk-estimator-id-39\" class=\"sk-toggleable__label sk-toggleable__label-arrow\">KMeans</label><div class=\"sk-toggleable__content\"><pre>KMeans(n_init=&#x27;auto&#x27;)</pre></div></div></div></div></div>"
      ],
      "text/plain": [
       "KMeans(n_init='auto')"
      ]
     },
     "execution_count": 295,
     "metadata": {},
     "output_type": "execute_result"
    }
   ],
   "source": [
    "km.fit(data)"
   ]
  },
  {
   "cell_type": "code",
   "execution_count": 355,
   "id": "7789a740",
   "metadata": {
    "scrolled": false
   },
   "outputs": [
    {
     "data": {
      "text/plain": [
       "array([[12.59287637,  1.48849722],\n",
       "       [ 3.17639784,  8.98349934],\n",
       "       [16.81172123,  8.16516733],\n",
       "       ...,\n",
       "       [14.13152208,  4.57549829],\n",
       "       [ 2.70176409,  9.33365056],\n",
       "       [ 2.03260115,  9.56026138]])"
      ]
     },
     "execution_count": 355,
     "metadata": {},
     "output_type": "execute_result"
    }
   ],
   "source": [
    "km = KMeans(n_init='auto',n_clusters=2)\n",
    "t_km_data = km.fit_transform(data)\n",
    "t_km_data"
   ]
  },
  {
   "cell_type": "code",
   "execution_count": 360,
   "id": "d26e6e96",
   "metadata": {
    "scrolled": false
   },
   "outputs": [
    {
     "data": {
      "text/plain": [
       "<matplotlib.collections.PathCollection at 0x2869e1090>"
      ]
     },
     "execution_count": 360,
     "metadata": {},
     "output_type": "execute_result"
    },
    {
     "data": {
      "image/png": "[encoded data removed]",
      "text/plain": [
       "<Figure size 640x480 with 1 Axes>"
      ]
     },
     "metadata": {},
     "output_type": "display_data"
    }
   ],
   "source": [
    "mplt.scatter(t_km_data[:,0],t_km_data[:,1])"
   ]
  },
  {
   "cell_type": "code",
   "execution_count": 361,
   "id": "015d3cdc",
   "metadata": {},
   "outputs": [
    {
     "data": {
      "text/plain": [
       "<matplotlib.collections.PathCollection at 0x286a93250>"
      ]
     },
     "execution_count": 361,
     "metadata": {},
     "output_type": "execute_result"
    },
    {
     "data": {
      "image/png": "[encoded data removed]",
      "text/plain": [
       "<Figure size 640x480 with 1 Axes>"
      ]
     },
     "metadata": {},
     "output_type": "display_data"
    }
   ],
   "source": [
    "mplt.scatter(data[:,0],data[:,1])"
   ]
  },
  {
   "cell_type": "code",
   "execution_count": 358,
   "id": "c2fdd75f",
   "metadata": {},
   "outputs": [
    {
     "data": {
      "text/plain": [
       "[<matplotlib.lines.Line2D at 0x28694dfd0>,\n",
       " <matplotlib.lines.Line2D at 0x28694e210>]"
      ]
     },
     "execution_count": 358,
     "metadata": {},
     "output_type": "execute_result"
    },
    {
     "data": {
      "image/png": "[encoded data removed]",
      "text/plain": [
       "<Figure size 640x480 with 1 Axes>"
      ]
     },
     "metadata": {},
     "output_type": "display_data"
    }
   ],
   "source": [
    "mplt.plot(data)"
   ]
  },
  {
   "cell_type": "code",
   "execution_count": 356,
   "id": "3a719d41",
   "metadata": {},
   "outputs": [
    {
     "data": {
      "text/plain": [
       "array([[ -9.68121624,  -2.94112406],\n",
       "       [ -2.51479291,   4.02404695],\n",
       "       [ -6.54980857, -10.93576257],\n",
       "       ...,\n",
       "       [ -7.30131914,  -7.4254146 ],\n",
       "       [ -2.04313265,   4.08377668],\n",
       "       [ -1.29795551,   3.68515837]])"
      ]
     },
     "execution_count": 356,
     "metadata": {},
     "output_type": "execute_result"
    }
   ],
   "source": [
    "data"
   ]
  },
  {
   "cell_type": "code",
   "execution_count": 349,
   "id": "bf230070",
   "metadata": {
    "scrolled": true
   },
   "outputs": [
    {
     "name": "stdout",
     "output_type": "stream",
     "text": [
      "[[-8.02395185 -2.95055125]\n",
      " [ 6.97152174  8.64902667]\n",
      " [-2.03453859  2.82394441]\n",
      " [-7.71208678  5.86984684]\n",
      " [-7.63182652 -8.04852983]\n",
      " [ 8.98510388  0.5916788 ]\n",
      " [ 3.67136245  6.59488584]\n",
      " [ 3.9482275  -3.6524337 ]]\n"
     ]
    },
    {
     "data": {
      "text/plain": [
       "array([0, 2, 4, ..., 4, 2, 2], dtype=int32)"
      ]
     },
     "execution_count": 349,
     "metadata": {},
     "output_type": "execute_result"
    }
   ],
   "source": [
    "centroids = km.cluster_centers_\n",
    "print(centroids)\n",
    "labels = km.labels_\n",
    "labels"
   ]
  },
  {
   "cell_type": "code",
   "execution_count": 296,
   "id": "3c743b2b",
   "metadata": {
    "scrolled": true
   },
   "outputs": [
    {
     "name": "stdout",
     "output_type": "stream",
     "text": [
      "[[ 8.98510388  0.5916788 ]\n",
      " [-2.00730897  2.79557438]\n",
      " [-8.01237897 -2.97127419]\n",
      " [ 5.9189868   7.9822492 ]\n",
      " [-6.01483512  7.40484649]\n",
      " [-9.46807773  4.12842077]\n",
      " [ 3.9482275  -3.6524337 ]\n",
      " [-7.63182652 -8.04852983]]\n"
     ]
    },
    {
     "data": {
      "text/plain": [
       "(8, 2)"
      ]
     },
     "execution_count": 296,
     "metadata": {},
     "output_type": "execute_result"
    }
   ],
   "source": [
    "centroids = km.cluster_centers_\n",
    "print(centroids)\n",
    "centroids.shape"
   ]
  },
  {
   "cell_type": "code",
   "execution_count": 297,
   "id": "7b407edb",
   "metadata": {
    "scrolled": true
   },
   "outputs": [
    {
     "data": {
      "text/plain": [
       "array([0, 1, 2, 3, 4, 5, 6, 7], dtype=int32)"
      ]
     },
     "execution_count": 297,
     "metadata": {},
     "output_type": "execute_result"
    }
   ],
   "source": [
    "labels = km.labels_\n",
    "np.unique(labels)"
   ]
  },
  {
   "cell_type": "code",
   "execution_count": 291,
   "id": "b9e12cd9",
   "metadata": {},
   "outputs": [
    {
     "data": {
      "text/plain": [
       "array([0, 1, 2, 3, 4, 5, 6, 7], dtype=int32)"
      ]
     },
     "execution_count": 291,
     "metadata": {},
     "output_type": "execute_result"
    }
   ],
   "source": [
    "labels1 = km.predict(data)\n",
    "np.unique(labels1)"
   ]
  },
  {
   "cell_type": "code",
   "execution_count": 301,
   "id": "36af3ec8",
   "metadata": {},
   "outputs": [
    {
     "data": {
      "text/plain": [
       "(1200, 2)"
      ]
     },
     "execution_count": 301,
     "metadata": {},
     "output_type": "execute_result"
    }
   ],
   "source": [
    "data.shape"
   ]
  },
  {
   "cell_type": "code",
   "execution_count": 275,
   "id": "57616cfc",
   "metadata": {
    "scrolled": false
   },
   "outputs": [
    {
     "data": {
      "text/plain": [
       "[<matplotlib.lines.Line2D at 0x285fa22d0>,\n",
       " <matplotlib.lines.Line2D at 0x285fa2590>]"
      ]
     },
     "execution_count": 275,
     "metadata": {},
     "output_type": "execute_result"
    },
    {
     "data": {
      "image/png": "[encoded data removed]",
      "text/plain": [
       "<Figure size 640x480 with 1 Axes>"
      ]
     },
     "metadata": {},
     "output_type": "display_data"
    }
   ],
   "source": [
    "mplt.plot(data)"
   ]
  },
  {
   "cell_type": "code",
   "execution_count": 335,
   "id": "cf12174c",
   "metadata": {
    "scrolled": true
   },
   "outputs": [
    {
     "data": {
      "text/html": [
       "<style>#sk-container-id-45 {color: black;background-color: white;}#sk-container-id-45 pre{padding: 0;}#sk-container-id-45 div.sk-toggleable {background-color: white;}#sk-container-id-45 label.sk-toggleable__label {cursor: pointer;display: block;width: 100%;margin-bottom: 0;padding: 0.3em;box-sizing: border-box;text-align: center;}#sk-container-id-45 label.sk-toggleable__label-arrow:before {content: \"▸\";float: left;margin-right: 0.25em;color: #696969;}#sk-container-id-45 label.sk-toggleable__label-arrow:hover:before {color: black;}#sk-container-id-45 div.sk-estimator:hover label.sk-toggleable__label-arrow:before {color: black;}#sk-container-id-45 div.sk-toggleable__content {max-height: 0;max-width: 0;overflow: hidden;text-align: left;background-color: #f0f8ff;}#sk-container-id-45 div.sk-toggleable__content pre {margin: 0.2em;color: black;border-radius: 0.25em;background-color: #f0f8ff;}#sk-container-id-45 input.sk-toggleable__control:checked~div.sk-toggleable__content {max-height: 200px;max-width: 100%;overflow: auto;}#sk-container-id-45 input.sk-toggleable__control:checked~label.sk-toggleable__label-arrow:before {content: \"▾\";}#sk-container-id-45 div.sk-estimator input.sk-toggleable__control:checked~label.sk-toggleable__label {background-color: #d4ebff;}#sk-container-id-45 div.sk-label input.sk-toggleable__control:checked~label.sk-toggleable__label {background-color: #d4ebff;}#sk-container-id-45 input.sk-hidden--visually {border: 0;clip: rect(1px 1px 1px 1px);clip: rect(1px, 1px, 1px, 1px);height: 1px;margin: -1px;overflow: hidden;padding: 0;position: absolute;width: 1px;}#sk-container-id-45 div.sk-estimator {font-family: monospace;background-color: #f0f8ff;border: 1px dotted black;border-radius: 0.25em;box-sizing: border-box;margin-bottom: 0.5em;}#sk-container-id-45 div.sk-estimator:hover {background-color: #d4ebff;}#sk-container-id-45 div.sk-parallel-item::after {content: \"\";width: 100%;border-bottom: 1px solid gray;flex-grow: 1;}#sk-container-id-45 div.sk-label:hover label.sk-toggleable__label {background-color: #d4ebff;}#sk-container-id-45 div.sk-serial::before {content: \"\";position: absolute;border-left: 1px solid gray;box-sizing: border-box;top: 0;bottom: 0;left: 50%;z-index: 0;}#sk-container-id-45 div.sk-serial {display: flex;flex-direction: column;align-items: center;background-color: white;padding-right: 0.2em;padding-left: 0.2em;position: relative;}#sk-container-id-45 div.sk-item {position: relative;z-index: 1;}#sk-container-id-45 div.sk-parallel {display: flex;align-items: stretch;justify-content: center;background-color: white;position: relative;}#sk-container-id-45 div.sk-item::before, #sk-container-id-45 div.sk-parallel-item::before {content: \"\";position: absolute;border-left: 1px solid gray;box-sizing: border-box;top: 0;bottom: 0;left: 50%;z-index: -1;}#sk-container-id-45 div.sk-parallel-item {display: flex;flex-direction: column;z-index: 1;position: relative;background-color: white;}#sk-container-id-45 div.sk-parallel-item:first-child::after {align-self: flex-end;width: 50%;}#sk-container-id-45 div.sk-parallel-item:last-child::after {align-self: flex-start;width: 50%;}#sk-container-id-45 div.sk-parallel-item:only-child::after {width: 0;}#sk-container-id-45 div.sk-dashed-wrapped {border: 1px dashed gray;margin: 0 0.4em 0.5em 0.4em;box-sizing: border-box;padding-bottom: 0.4em;background-color: white;}#sk-container-id-45 div.sk-label label {font-family: monospace;font-weight: bold;display: inline-block;line-height: 1.2em;}#sk-container-id-45 div.sk-label-container {text-align: center;}#sk-container-id-45 div.sk-container {/* jupyter's `normalize.less` sets `[hidden] { display: none; }` but bootstrap.min.css set `[hidden] { display: none !important; }` so we also need the `!important` here to be able to override the default hidden behavior on the sphinx rendered scikit-learn.org. See: https://github.com/scikit-learn/scikit-learn/issues/21755 */display: inline-block !important;position: relative;}#sk-container-id-45 div.sk-text-repr-fallback {display: none;}</style><div id=\"sk-container-id-45\" class=\"sk-top-container\"><div class=\"sk-text-repr-fallback\"><pre>KMeans(n_clusters=9, n_init=&#x27;auto&#x27;)</pre><b>In a Jupyter environment, please rerun this cell to show the HTML representation or trust the notebook. <br />On GitHub, the HTML representation is unable to render, please try loading this page with nbviewer.org.</b></div><div class=\"sk-container\" hidden><div class=\"sk-item\"><div class=\"sk-estimator sk-toggleable\"><input class=\"sk-toggleable__control sk-hidden--visually\" id=\"sk-estimator-id-45\" type=\"checkbox\" checked><label for=\"sk-estimator-id-45\" class=\"sk-toggleable__label sk-toggleable__label-arrow\">KMeans</label><div class=\"sk-toggleable__content\"><pre>KMeans(n_clusters=9, n_init=&#x27;auto&#x27;)</pre></div></div></div></div></div>"
      ],
      "text/plain": [
       "KMeans(n_clusters=9, n_init='auto')"
      ]
     },
     "execution_count": 335,
     "metadata": {},
     "output_type": "execute_result"
    }
   ],
   "source": [
    "km = KMeans(n_clusters=9,n_init='auto')\n",
    "km.fit(data)"
   ]
  },
  {
   "cell_type": "code",
   "execution_count": 336,
   "id": "214766ec",
   "metadata": {},
   "outputs": [
    {
     "data": {
      "text/plain": [
       "array([[-1.84748507,  1.03739803],\n",
       "       [-8.03145905, -2.98177816],\n",
       "       [-2.23086051,  4.22319697],\n",
       "       [-9.44131451,  4.12926698],\n",
       "       [ 5.9189868 ,  7.9822492 ],\n",
       "       [ 8.98510388,  0.5916788 ],\n",
       "       [-7.63182652, -8.04852983],\n",
       "       [-6.12080788,  7.55167823],\n",
       "       [ 3.9482275 , -3.6524337 ]])"
      ]
     },
     "execution_count": 336,
     "metadata": {},
     "output_type": "execute_result"
    }
   ],
   "source": [
    "centroids = km.cluster_centers_\n",
    "centroids"
   ]
  },
  {
   "cell_type": "code",
   "execution_count": 337,
   "id": "ce177186",
   "metadata": {
    "scrolled": false
   },
   "outputs": [
    {
     "data": {
      "text/plain": [
       "<matplotlib.collections.PathCollection at 0x286859950>"
      ]
     },
     "execution_count": 337,
     "metadata": {},
     "output_type": "execute_result"
    },
    {
     "data": {
      "image/png": "[encoded data removed]",
      "text/plain": [
       "<Figure size 640x480 with 1 Axes>"
      ]
     },
     "metadata": {},
     "output_type": "display_data"
    }
   ],
   "source": [
    "mplt.scatter(data[:,0],data[:,1])\n",
    "mplt.scatter(centroids[:,0],centroids[:,1])"
   ]
  },
  {
   "cell_type": "code",
   "execution_count": 321,
   "id": "50938f7f",
   "metadata": {},
   "outputs": [
    {
     "data": {
      "text/plain": [
       "<matplotlib.collections.PathCollection at 0x286534410>"
      ]
     },
     "execution_count": 321,
     "metadata": {},
     "output_type": "execute_result"
    },
    {
     "data": {
      "image/png": "[encoded data removed]",
      "text/plain": [
       "<Figure size 640x480 with 1 Axes>"
      ]
     },
     "metadata": {},
     "output_type": "display_data"
    }
   ],
   "source": [
    "mplt.scatter(data[:,0],data[:,1])"
   ]
  },
  {
   "cell_type": "code",
   "execution_count": 303,
   "id": "094ccc5f",
   "metadata": {
    "scrolled": false
   },
   "outputs": [
    {
     "data": {
      "text/plain": [
       "array([ -9.68121624,  -2.51479291,  -6.54980857,  -1.09226586,\n",
       "         3.30083686,  -1.67154127,  -7.41111398,  -1.93627353,\n",
       "       -11.23456588,  -9.20268641,  -9.34790335,   8.19437296,\n",
       "        -8.96685722,   7.89440966,  -3.63038867,  -9.63138049,\n",
       "        -7.0423783 ,  -0.0952157 ,   9.16954611,  -6.87610083,\n",
       "        -6.50704134,  -4.80871827,  -7.70153659,  -0.19249528,\n",
       "       -10.23630508, -10.3985907 ,   5.01727053,  -8.00811123,\n",
       "        -8.10570464,  -8.18122569,  -8.29999362,   6.25913158,\n",
       "         6.61792728, -10.324212  ,  -9.66503577,  -7.80701277,\n",
       "         5.03122045,   9.56656019,  -0.90321053,   5.72222329,\n",
       "        -0.0406418 , -10.93470824,  -4.63434818,   3.6153228 ,\n",
       "        -0.80211432,   8.64812186,  -6.93038575,  -4.61740538,\n",
       "       -10.49778238,   5.17884189,  -1.30387102,   1.97926097,\n",
       "        -1.88401802,  -8.51710036,   6.97891401,  -7.62294186,\n",
       "         7.01898448,  -0.75844445,  -0.86675304,   0.6658772 ,\n",
       "        -5.92840996,   7.77061008,  -5.80815251,   8.68679368,\n",
       "        -8.84569974,  -9.40193105,  -9.23016635,  -5.51652698,\n",
       "        -1.23606555,  -7.0526546 ,   4.0094199 ,  -8.17565362,\n",
       "        -3.226153  ,  -6.05475501,  -8.50646226, -12.11637408,\n",
       "         3.53692715,  -7.94653906,  -9.37435033,   8.45153901,\n",
       "         5.09667581,  -6.5112823 ,  -9.00820559,   5.35897632,\n",
       "         8.48447254,  -8.84001561,   3.81030747,  -7.45545099,\n",
       "         8.72702086,  -8.60367543,  -9.71704743,  -2.02970693,\n",
       "        -7.54767472,   3.9884677 ,  -1.05344345,  -6.89452378,\n",
       "        -8.83760491,   7.54593596,  -7.00413199,   7.20850219,\n",
       "        -1.88188805,  -7.04301935,  -9.56784175,  -7.9855287 ,\n",
       "         4.28447609,  -3.72007987,  -2.96480616,  -6.78032817,\n",
       "         7.67277037,  -8.82080782,  -6.5496092 ,  -2.34673261,\n",
       "        -1.69298022,  -6.90013777,  -9.33949494,  -6.25763105,\n",
       "        11.26653903,  -9.67944092,  -9.34091087,  -6.65056468,\n",
       "        -7.45346315, -10.74750602,  -3.01671262,   7.05492983,\n",
       "        -0.09148442,   6.22324429,  -3.51492177,   3.93428163,\n",
       "        -4.8775042 ,  10.76378412,  -9.40233212,  -8.11533919,\n",
       "        -2.09369057,   6.75014469, -11.1168279 ,  -9.43495141,\n",
       "         9.4764153 ,  -9.58472096,  -6.76845183,  -6.80589297,\n",
       "        -4.22017167,  -8.10911429,   4.91049295,  -9.38444198,\n",
       "        -4.41507024,  -7.85395206,  11.06985935,  -3.25421404,\n",
       "        -6.68964267,   8.31259517,  -8.43010693,   9.8240344 ,\n",
       "        -3.83493192,  -8.17442219,   5.66642023,  -9.27708041,\n",
       "        -6.06450988,   3.63967419,  -3.52605412,   6.35437918,\n",
       "        -9.49452769,  -6.9694571 ,  -1.32803154,  -1.4541444 ,\n",
       "        -0.46064203,   5.72383942,  -4.371748  ,  -2.35364786,\n",
       "        -7.4693868 ,  -6.38014048,  -7.65003645,  -6.41771625,\n",
       "         9.46841442,  -7.89390976,  -3.10367371,   4.50722735,\n",
       "        -7.84679387,  -5.70185833,   4.82217178,  -9.04664204,\n",
       "         3.50248822,  -3.19829973,  -2.71326407,  -6.97545629,\n",
       "         2.97898761,  -7.51969839,  -5.17744958,  -7.14939021,\n",
       "       -10.09608396,  -6.30607652,   8.32909065,  -9.69971022,\n",
       "        -8.99572589,   3.16961221,   2.18515834,   2.65768644,\n",
       "        -8.00780858,  -6.44379948,  -9.31213825,   4.51894419,\n",
       "        -7.36084264,   6.67897092,   5.52263163,   6.83049173,\n",
       "       -10.22089425,  -6.75016865,  -6.68720748,  -0.4986422 ,\n",
       "        -9.89082931,  -2.34049658,  -1.65528797,  -5.17579944,\n",
       "        -2.31632472,  -0.05943932,   1.82204427,  -3.17305127,\n",
       "        -1.61769268,  -1.84612968,  -8.37470657,  -8.29396254,\n",
       "        -9.05364975,  -9.67900833,  -9.37917337,  -0.38580398,\n",
       "        -6.98417499,  -2.87396888,  -9.76914933,   2.31065591,\n",
       "        -9.01137732,  -0.4768517 ,   7.40897242,   3.95784547,\n",
       "         7.88244353,  -5.30217135,  -0.64988885,  -4.10364835,\n",
       "        -7.43107557,  -7.96773166,   3.72332402,   3.56958335,\n",
       "        -8.39192063,  -7.52843271,  -6.73247953,  -9.35725203,\n",
       "        -0.03190915,  -6.71569069,  -4.38754827,  -1.75090284,\n",
       "        -1.25606826,  -7.29668172,   6.56162164,  -9.23079733,\n",
       "        -6.26877826,  -2.01109148,  -7.70135119,   4.81373572,\n",
       "         3.6743587 ,  -7.05171472,  -9.05299618,  -9.89894734,\n",
       "        -7.1710894 ,  -8.06190198,   3.62420528,  -7.07434326,\n",
       "         6.90393073,  -2.6603184 ,   2.85585083,  -1.72742958,\n",
       "         7.02707268,  -3.85256341,  -4.15649963,  -5.55523774,\n",
       "        -5.60039967,  -7.38250827, -11.79916202,  -9.18660573,\n",
       "        -7.58378232,  -8.25848341,   9.03708014,  -5.42039396,\n",
       "         6.86733986,   3.46755085,  10.33486082,  -4.28778441,\n",
       "        -0.31821543,  -7.83875225,  -6.83765918,  -1.34392496,\n",
       "        -0.63115804,  -7.04838661,  10.63297408,  -9.25119984,\n",
       "         4.2533915 ,  -2.93465874,  -8.52674692,  -4.96198708,\n",
       "       -10.34269971,  -5.67610279,  -7.99734557,  -7.51362022,\n",
       "        -9.18676083,   9.15351435,  -8.02040882,  -0.91900345,\n",
       "         2.95008043,  -5.73081262,  -8.3807629 ,  -5.81238133,\n",
       "         5.8141414 ,  -4.80233825,   4.90307328,  -8.47132727,\n",
       "        -1.85659786,   4.41662949,  -7.21385485,  -1.14591962,\n",
       "        -4.62084735,  -1.61770649,  -6.46728714, -10.72753836,\n",
       "        -1.56357937, -10.62185517,  -6.11417241,  -0.81339926,\n",
       "         6.16680327,  -8.87987138,  -8.6165949 ,  -9.66015055,\n",
       "        -7.89505408,  -9.52270457,  -9.36913268,   7.82760825,\n",
       "         7.32778679,  -9.9746046 ,  -1.28462338,  -5.6731934 ,\n",
       "        -3.16498056,  -1.88361177,  -6.5035616 , -10.66927262,\n",
       "        -5.18540449,  -7.05649656,  -7.09186951,  -2.83773233,\n",
       "         7.51129668,  -5.29656102,  -4.89195963,  -7.88353018,\n",
       "        -2.40690967,  -5.65681024,  -5.23833526,  -9.70718585,\n",
       "        -3.59263756,  -9.36204453,  -1.30003353,   4.99109206,\n",
       "        -2.12508199,  -7.80900765,  -4.31447145,  -3.59782571,\n",
       "         6.54284193,  -9.42456852,   6.16426133,  -5.75938197,\n",
       "        -5.94777266,  -9.84693782,  -8.49136536,   3.53151823,\n",
       "         7.11028522,  -9.8731892 ,  -9.95404351,  -7.02310948,\n",
       "        -9.38865078,   3.12956801,  -2.41179052, -10.32532219,\n",
       "        -3.54544192,   5.047879  ,  -9.1092558 ,   2.64278488,\n",
       "         3.91118764,   6.04620391,  10.51535708,  -3.41241546,\n",
       "        -9.64923519,   4.41595282,  10.1209837 ,  -3.13761479,\n",
       "        -1.78245013,  -3.75083244,   1.84440573,  -7.05152951,\n",
       "        -5.36830971,  -8.69685611,   4.07353226,   2.68175063,\n",
       "         7.01059531,   9.27113886,   5.90813735,  -8.61858507,\n",
       "         8.73991999,  -2.18402375,  -2.4067182 , -10.49592607,\n",
       "        -2.33080604,  -6.48023557,  -6.64758018,  -9.91196582,\n",
       "        -5.33799228,  -8.14795675,  -1.30901393,  -1.92744799,\n",
       "       -11.08298673,  -9.46807712,  -6.60371808,  -7.73129381,\n",
       "         6.57395712,  -3.51137666,  -7.80787389,  -1.79572201,\n",
       "         6.20110307,  -1.71353362,   6.34800592,  -7.20399544,\n",
       "        -2.4225841 ,  -5.48503483,  -6.62335714,   7.27593085,\n",
       "        -5.38620451,  -9.97979025,  -7.17487367,  -3.69291173,\n",
       "         2.86215373,   5.37673989,  -1.46126019,  -8.18717759,\n",
       "        -9.766812  ,  -6.03310902,  -3.21070424,   4.62260695,\n",
       "        -1.24860683,  -1.89460445,  -7.37500858,  -7.92388032,\n",
       "        -6.23701631,  -1.09510096,  -7.99572075,  -6.55653204,\n",
       "        -9.31764266,  -9.44801071,   7.25655433,  -5.23314743,\n",
       "        -6.94864476,   7.30588475,  -6.21160096,  -1.26616929,\n",
       "        -6.69373367,   3.70090418,  -5.95682169,  -7.38408972,\n",
       "         9.80516572,  -2.09255483,  -9.48852942,  -2.85882794,\n",
       "         9.57615252,   2.85751611,  -9.14243138,  -7.04835462,\n",
       "        -8.07248994,  -1.78739262,  -7.20871043,  -2.28830866,\n",
       "        -2.208571  ,  -2.93333011,  -8.52269066,  -2.6968204 ,\n",
       "        -9.28758307,   7.3401567 ,  -6.89489055,   2.85277169,\n",
       "        -2.7666283 ,  -8.85902833,   5.49488959,   3.79155253,\n",
       "        -2.827807  ,  -5.07696493,  -6.90147328,   8.33369635,\n",
       "        -1.13898357,  -2.68470198,  -1.37823988,   3.68249246,\n",
       "        -9.0675263 ,  -2.88961804,  -4.95753949,   2.75358214,\n",
       "         6.49706712,  -8.0629992 ,  -5.30455106,   9.24487178,\n",
       "        -6.43818102,  -2.10668847,  -8.69983908,  -9.50314225,\n",
       "        10.17478629,   9.64730722,  -8.19330144,  -3.03267723,\n",
       "         8.69311849,  -3.51754177,  -5.06721189,   7.89944069,\n",
       "        -7.902917  ,  -7.13714184,  -6.45685954,   7.34189087,\n",
       "        -6.26847646,   3.1632429 ,  -2.41395785,  -3.45768935,\n",
       "        -2.03484486,  -9.21174258,  -6.64187407,  -7.30282412,\n",
       "        -2.12008366,   8.26365363,   6.68277093,   4.09836956,\n",
       "        -8.87171759,  -7.88587249, -12.50601252,  -9.56818636,\n",
       "        -3.0793368 ,   9.65906545,   6.00174786,   8.27368506,\n",
       "        -9.0584604 ,   7.70952408,  -8.38326216,  -3.54231768,\n",
       "        -0.08721775,  -1.2794236 ,  -0.44373823,  -0.62177359,\n",
       "         8.1729357 ,   7.9925726 ,  -3.65095607,  -7.28268851,\n",
       "         7.36176318,   7.37084798,  -7.40624901,   4.91680823,\n",
       "        -1.18012352,   5.31468059,  -1.64792688,  -5.96988274,\n",
       "        -2.95698191,  -6.78220647,  -6.48693868,   7.82803672,\n",
       "         8.89600891,  -6.12560885,   8.68491504,   3.48776062,\n",
       "        -6.65962802,  -9.33866271,  -6.62575098, -10.69811101,\n",
       "        -4.90526833,  -4.31370887,  -7.15507185,  -8.93558648,\n",
       "        -1.92239914,  -8.57610572,  -0.0219681 ,   8.97322835,\n",
       "        -8.75143539,  -8.43548828,   1.72607679, -11.01791305,\n",
       "         4.37430712,  -7.02846258,  -0.89757535, -10.13415725,\n",
       "        -9.74891334,  -8.1813522 ,   7.75256306,  -6.86186426,\n",
       "       -10.55400842, -10.51480696,  -6.22887746,   7.71633636,\n",
       "         3.9125157 ,   8.39595591,  -6.33424978,  -2.53190156,\n",
       "        -8.52099246,  -3.70210441,  -1.06728543,  -5.72971739])"
      ]
     },
     "execution_count": 303,
     "metadata": {},
     "output_type": "execute_result"
    }
   ],
   "source": [
    "data[:600,0]"
   ]
  },
  {
   "cell_type": "code",
   "execution_count": 306,
   "id": "73d9933a",
   "metadata": {},
   "outputs": [
    {
     "data": {
      "text/plain": [
       "array([-9.75504306e+00, -6.76925802e+00, -7.54977544e+00, -9.87725818e+00,\n",
       "       -1.77310338e+00, -1.42946517e+00, -1.06446292e+01, -7.81351300e+00,\n",
       "       -1.92577841e+00, -4.95645934e+00, -4.08061013e+00, -9.31796517e+00,\n",
       "        7.88719464e+00, -4.03244715e+00,  5.26015501e-01, -8.41614088e+00,\n",
       "        6.67342825e+00,  3.92576447e+00, -8.94166665e+00, -8.99671991e+00,\n",
       "       -8.87191802e+00, -5.22980136e+00, -6.90861833e+00, -8.95081855e+00,\n",
       "        3.60222991e+00, -8.65224080e+00, -6.44307868e+00,  7.27947721e+00,\n",
       "       -6.06145933e+00,  4.89058466e+00, -1.12174569e+01,  4.64327741e+00,\n",
       "       -9.73863305e+00, -4.92705412e+00, -1.58116263e+00,  2.85261377e+00,\n",
       "        8.80368172e+00, -8.39494666e-01, -6.60607894e+00, -8.30964195e+00,\n",
       "       -4.00969747e+00,  5.75671104e+00, -1.60875215e+00,  4.43181383e+00,\n",
       "       -8.65951987e+00, -9.06971919e+00, -7.64865915e+00,  3.75780204e+00,\n",
       "        9.24582670e+00, -5.94147002e+00, -7.12680191e+00,  1.00731667e+01,\n",
       "       -6.39437933e+00, -5.82351176e+00, -2.24228271e+00, -1.49333896e+00,\n",
       "       -6.97883158e+00,  7.53849547e+00,  4.48228841e+00,  9.16389817e+00,\n",
       "       -3.17808662e+00, -1.67547761e+00, -1.11991632e+01, -7.70862191e+00,\n",
       "       -2.77687025e+00, -5.12789540e+00, -2.65529203e+00, -1.50807889e+00,\n",
       "       -8.44428166e+00, -9.58824581e+00, -9.66657237e+00, -1.16589197e+00,\n",
       "        2.95377096e+00,  4.68808707e+00, -8.82037687e+00, -7.62237691e+00,\n",
       "       -2.74293835e+00, -1.42806711e+00, -6.71713322e+00, -7.34903566e+00,\n",
       "        4.74603241e+00, -4.69301410e+00, -1.47299851e+00,  6.48438344e+00,\n",
       "        7.99931731e+00,  7.11357987e+00,  1.06342046e+01,  4.59580171e+00,\n",
       "       -5.23016456e+00, -8.51387265e+00, -1.02321213e+01,  8.53597866e+00,\n",
       "       -8.57698874e-01, -1.21822929e+00, -6.93975669e+00, -6.46920953e+00,\n",
       "        6.84478575e+00, -8.13477244e+00,  3.74833582e+00, -5.46595141e+00,\n",
       "       -2.33089855e+00, -2.35818398e+00,  8.08750231e+00, -1.72256983e+00,\n",
       "        2.18993948e+00, -5.27288549e+00, -4.33202078e+00, -6.33182836e+00,\n",
       "       -3.46346333e+00, -8.72753168e-01, -5.06633944e+00, -1.82534514e+00,\n",
       "       -8.68829877e+00, -9.64279643e+00,  4.76715725e+00, -2.24805071e+00,\n",
       "        3.04926582e+00, -7.79512350e+00, -2.48914331e+00,  1.04375908e+01,\n",
       "       -8.02825251e+00, -7.56475541e+00, -8.59017250e+00, -9.46824718e+00,\n",
       "       -4.57308577e+00, -1.02880590e+01, -8.83737393e+00, -1.46609343e+00,\n",
       "       -5.58968909e+00, -6.39078096e+00, -6.64960046e+00, -1.09531313e+01,\n",
       "       -6.22972915e+00, -2.54298165e+00, -8.95790649e+00, -8.20576492e-01,\n",
       "       -8.76245374e+00,  8.71031733e+00, -7.22863987e+00, -5.90756396e+00,\n",
       "       -5.97557237e-01, -7.09943370e+00,  7.12784553e+00, -4.03402507e+00,\n",
       "        7.60400799e+00, -6.69765273e+00, -6.22481603e+00, -9.00386749e+00,\n",
       "       -1.26830166e+00, -2.32363337e+00,  4.88202512e+00, -1.05434867e+01,\n",
       "        3.55448941e+00, -1.91708587e+00,  8.71679380e+00, -9.14656831e+00,\n",
       "        4.81434553e+00,  4.36900451e+00, -7.26576970e+00, -9.40208532e+00,\n",
       "       -6.54116596e+00, -4.88123922e+00, -2.33022219e+00, -1.02200519e+01,\n",
       "       -7.20085951e+00, -6.05030681e+00, -9.75809773e+00,  4.32014023e+00,\n",
       "       -5.23470662e+00, -7.30196227e+00, -4.99909886e+00, -8.44913887e+00,\n",
       "       -4.57542792e+00, -1.08477936e+00,  6.32420918e+00, -1.36528724e+00,\n",
       "       -5.32091554e+00, -2.80207810e+00,  1.70496904e+00, -5.27930518e-01,\n",
       "       -8.46823590e+00, -7.82055662e+00, -4.44293588e+00, -1.55778981e+00,\n",
       "       -1.53940095e+00, -5.92877255e+00, -4.37441868e+00, -6.31606137e+00,\n",
       "        4.63151202e+00,  2.19531849e+00, -1.27907975e+01, -8.49889522e+00,\n",
       "       -6.16456421e+00, -8.05539905e+00,  9.22250798e+00, -1.00318273e+01,\n",
       "        7.82135513e+00, -5.61345292e+00, -6.66583956e+00, -1.49952284e+00,\n",
       "       -1.16753886e+01, -5.25416393e+00, -5.82317982e+00, -9.76521794e+00,\n",
       "        3.01337453e+00, -5.90222750e+00, -9.33669222e+00,  6.88490945e+00,\n",
       "       -4.35812388e+00,  3.87147108e+00, -5.26854530e+00, -7.62164720e+00,\n",
       "       -6.15067799e+00, -8.50575821e+00, -1.89478126e+00, -1.90875690e+00,\n",
       "       -7.46276293e+00, -1.37474850e+00,  6.43448661e+00, -7.79047930e+00,\n",
       "       -1.07764308e+01, -2.66580732e+00, -1.24303101e+00, -7.58938691e+00,\n",
       "       -2.07222727e+00, -5.31174177e+00,  6.04895724e+00, -5.38142198e-01,\n",
       "       -7.34512354e+00, -2.53080537e+00, -3.01083050e+00,  5.61242375e+00,\n",
       "       -8.44328014e+00,  4.78342865e+00, -1.37128429e+00, -6.12684526e+00,\n",
       "       -7.94216370e+00, -2.79721288e+00, -7.50711146e+00, -3.31209968e-01,\n",
       "        6.32222244e+00, -6.80702979e+00, -9.68866601e+00, -1.08590289e+01,\n",
       "       -5.82464026e+00, -7.01820676e+00, -6.34915527e+00, -9.41143006e+00,\n",
       "       -3.42792668e+00,  6.65382069e+00,  9.05703091e+00,  3.60493939e+00,\n",
       "        8.67348849e+00, -3.22426485e+00, -5.40382597e+00, -7.76622661e+00,\n",
       "       -9.39483565e+00, -6.47379396e+00,  6.53144384e+00,  8.82900788e+00,\n",
       "       -5.77870723e+00, -1.21136833e+00, -5.99339106e+00,  4.25829748e+00,\n",
       "       -1.84034522e+00, -6.82891331e+00, -6.89170518e+00,  9.71870866e+00,\n",
       "       -9.50029974e+00, -6.78013407e+00, -7.58357899e+00,  5.23357978e+00,\n",
       "       -6.52851551e+00, -4.78658960e-01, -8.22955040e+00, -6.74096599e+00,\n",
       "       -1.10049469e+01,  8.70967880e+00, -8.92032311e+00,  5.70228836e+00,\n",
       "       -1.69825542e+00, -8.23237376e+00,  3.69292296e+00, -3.70841402e-01,\n",
       "       -5.91471063e+00,  4.04744571e+00, -2.27956075e+00, -1.69219366e+00,\n",
       "       -6.81954676e+00, -2.65930143e-01, -8.41275228e+00, -8.04009707e+00,\n",
       "       -4.29176315e+00, -6.57254563e+00,  7.60647510e+00, -7.23308102e+00,\n",
       "       -3.62715050e-01, -2.66517746e+00, -1.46864442e+00, -7.31906205e+00,\n",
       "       -7.00862765e+00, -1.37397258e+00, -1.01094897e+01, -7.98027465e+00,\n",
       "        8.78477041e+00, -9.55634806e+00, -1.03448948e+01, -1.16719083e+01,\n",
       "       -7.81662906e+00, -1.85139546e+00, -1.40296944e+00, -3.93120195e+00,\n",
       "       -5.43393421e+00, -7.20146277e+00, -1.14663009e+00, -8.08788211e+00,\n",
       "       -5.41368591e+00, -7.47652135e+00,  3.35654210e+00, -1.63945554e+00,\n",
       "        8.53835676e+00,  7.16472960e+00, -5.61488097e+00, -1.03078293e+01,\n",
       "       -1.97872180e+00, -7.34397991e+00,  8.00057605e+00,  8.62495864e+00,\n",
       "       -7.64514221e+00, -3.06311323e+00, -7.90673749e-01, -8.62249299e+00,\n",
       "       -9.74602808e-01, -6.34412447e+00, -1.08390712e+01, -1.01185120e+01,\n",
       "       -9.50250118e+00, -1.05470445e+01, -7.14216089e+00, -8.68510387e+00,\n",
       "       -6.88872801e+00, -3.64173348e+00, -9.98030310e+00,  4.63147269e+00,\n",
       "        7.12188817e+00,  5.90599291e+00, -5.97858856e+00, -1.41600687e+00,\n",
       "       -9.76792833e+00, -1.20584397e+00,  2.58194174e+00, -9.39539322e+00,\n",
       "       -7.58703957e-01,  6.04750686e+00, -4.29339278e+00, -1.13296642e+01,\n",
       "       -7.09726296e+00, -7.91136295e+00, -3.62963409e+00, -8.88332953e+00,\n",
       "       -1.83696594e+00,  6.73310776e+00, -9.57132284e+00,  3.79741147e+00,\n",
       "       -9.10208341e+00, -6.66661777e+00, -1.00930094e+01, -7.74158313e+00,\n",
       "        6.77221950e+00, -1.14536833e+01, -1.16484338e+01, -1.17104176e+00,\n",
       "       -1.10394921e+01, -1.68417686e+00, -7.30283913e-01, -8.18045917e-01,\n",
       "       -9.90971554e+00,  3.35393277e+00, -1.02922371e+01,  7.51941324e+00,\n",
       "       -6.21217812e+00, -2.62843925e+00, -7.59970297e+00, -7.99419025e+00,\n",
       "        7.96602444e+00, -2.35122066e+00, -4.81390339e+00, -9.01724981e+00,\n",
       "       -3.52080904e+00,  8.69465354e+00, -8.66815074e+00, -4.45683957e+00,\n",
       "       -5.74591603e+00, -5.04217100e+00, -6.65052170e+00,  8.04282310e+00,\n",
       "       -1.04135117e+01,  2.17142436e+00, -1.05600179e+01,  7.63835348e+00,\n",
       "       -9.99960399e+00, -7.25993952e+00, -6.62671584e+00, -8.02030745e+00,\n",
       "       -5.09661188e+00, -8.92239577e+00,  7.09598437e+00,  2.42271161e-04,\n",
       "       -8.99901853e+00, -9.14732410e+00, -4.50741126e+00,  2.95341494e+00,\n",
       "       -1.96576392e+00, -6.88545665e+00, -3.38982784e+00,  6.34438134e+00,\n",
       "        9.45784186e+00, -1.00597914e+00, -1.09811127e+00, -1.86845414e+00,\n",
       "       -5.83935019e+00, -7.12625143e+00, -2.81197122e+00, -4.97276182e+00,\n",
       "       -9.23535364e-01, -1.12702713e+01, -6.48010366e+00, -3.70210011e+00,\n",
       "       -2.31579579e+00, -7.31315054e+00,  9.11548828e-01, -7.43496588e+00,\n",
       "       -9.00715143e+00, -5.89214444e+00, -5.03363610e+00, -1.11800306e+01,\n",
       "       -5.05395941e+00, -8.49014494e+00, -8.51600664e+00,  2.81707313e+00,\n",
       "       -9.89148978e+00, -8.66891002e+00, -2.80322622e+00, -4.51454655e+00,\n",
       "       -1.17305784e+00,  5.68814682e+00,  9.42494373e+00,  3.96478983e+00,\n",
       "        1.06547859e+01, -5.37979121e+00, -6.27017910e+00, -2.28706454e+00,\n",
       "       -7.86998487e+00, -8.22690106e+00,  3.50454822e+00, -6.61869648e+00,\n",
       "       -1.04006878e+01, -8.70641460e+00,  6.09375232e+00, -1.35938959e+00,\n",
       "        6.01198592e+00, -6.93083399e+00, -9.91989138e+00, -7.25146118e+00,\n",
       "        3.02593227e+00, -2.00341358e+00, -9.91743370e+00, -2.10723485e+00,\n",
       "        7.61306603e+00,  4.24590527e+00, -1.80714011e+00, -5.49737657e+00,\n",
       "       -6.67784967e+00, -2.51873389e+00,  6.06481386e+00, -8.66625539e+00,\n",
       "        5.18371797e+00, -5.82367283e+00, -8.21803257e+00,  3.78907794e+00,\n",
       "       -6.41276936e+00, -4.76752206e+00, -1.84048021e+00,  6.14220601e+00,\n",
       "       -6.11320417e+00,  8.08526530e+00, -7.17675234e+00,  6.44181570e+00,\n",
       "        7.83598718e+00,  8.02428808e+00,  9.06516285e+00, -4.99906767e+00,\n",
       "       -6.87328940e+00, -8.29096244e+00, -1.54385781e+00,  7.62736987e+00,\n",
       "       -1.55371274e+00, -4.75835587e+00, -6.31016370e+00, -4.52714305e+00,\n",
       "       -8.41726250e+00, -5.59430135e+00, -8.09305380e+00, -5.76418974e+00,\n",
       "       -3.73426383e+00, -1.94516126e+00,  4.37090974e+00, -5.96452348e+00,\n",
       "       -8.13444410e+00, -7.04210560e+00,  4.90246774e+00, -8.90755449e+00,\n",
       "       -1.38064919e+00, -6.91615847e+00, -8.74846162e+00, -1.02672692e+00,\n",
       "        4.79341893e+00, -2.87349771e+00,  4.09362172e+00, -9.65180885e+00,\n",
       "       -9.93758557e+00,  7.89136093e+00,  4.75698946e+00,  5.47643121e+00,\n",
       "       -7.78445451e+00,  6.98566789e+00, -6.00338732e+00, -7.29941928e+00,\n",
       "       -2.52459335e+00,  3.67893551e+00, -1.03324372e+01,  6.33274925e+00,\n",
       "       -2.93227557e+00, -8.43890696e+00, -1.01081595e+01, -1.88448102e+00,\n",
       "        5.01714549e+00, -8.64772477e-01, -2.75447175e+00, -7.77072269e+00,\n",
       "       -2.20784626e+00, -6.41030203e+00, -9.15894280e+00,  6.89519290e+00,\n",
       "       -6.18482996e+00, -7.54944610e-01, -1.85384335e+00, -9.24603829e+00,\n",
       "       -2.20945347e+00, -7.02649244e+00,  5.78763886e+00, -9.65118559e+00,\n",
       "       -6.78838288e+00,  4.93401213e+00, -8.97999894e+00,  8.85863733e+00,\n",
       "       -1.01181771e+01,  4.60465538e+00, -7.58132985e+00, -4.61124624e+00,\n",
       "        9.02608504e+00, -8.10346040e+00,  5.03359401e+00, -1.01956656e+00,\n",
       "       -1.89897326e+00, -8.99692567e+00, -8.35421130e+00,  7.32857097e+00,\n",
       "       -5.08152584e+00, -8.95888790e+00, -6.78336251e-01,  2.68640836e+00,\n",
       "       -5.29622873e+00,  2.50399595e+00, -9.34819475e+00,  8.21113930e+00,\n",
       "       -1.99562723e+00, -5.47138090e-01, -7.02549634e+00,  4.52245932e+00,\n",
       "       -5.76385739e+00, -6.75395287e+00, -9.67194365e+00, -6.59862378e+00,\n",
       "       -8.70518667e+00, -5.94694519e+00,  3.03682574e-01, -8.08103727e+00,\n",
       "       -9.43642018e+00, -1.53773863e+00, -8.06172755e+00,  3.02662350e+00,\n",
       "       -2.88657049e+00, -9.13423384e+00, -7.00129334e+00, -7.57138084e+00,\n",
       "       -1.92300998e+00, -7.30131914e+00, -2.04313265e+00, -1.29795551e+00])"
      ]
     },
     "execution_count": 306,
     "metadata": {},
     "output_type": "execute_result"
    }
   ],
   "source": [
    "data[600:1200,0]"
   ]
  },
  {
   "cell_type": "code",
   "execution_count": 270,
   "id": "e39e98cb",
   "metadata": {},
   "outputs": [
    {
     "name": "stdout",
     "output_type": "stream",
     "text": [
      "[ 4.63675191e-01 -2.17509754e+00 -7.44016713e+00 -6.04230121e+00\n",
      " -9.81115111e+00 -1.34052081e+00 -7.58703957e-01 -5.74533045e+00\n",
      " -9.68207756e+00 -5.94346448e+00 -6.46136554e+00 -7.33193403e-01\n",
      " -2.71156720e+00 -5.23597117e+00 -9.80679702e+00 -1.25369884e+00\n",
      " -6.58491255e+00 -7.40873586e+00 -2.02098152e+00 -7.33110069e+00\n",
      " -2.77687025e+00 -7.81213710e+00 -7.08949914e+00 -6.02599661e+00\n",
      " -8.92286405e+00 -1.59991807e-01 -2.46552871e+00 -1.98197711e+00\n",
      " -6.21872154e+00 -6.79189023e+00 -6.25738636e+00 -6.64138783e+00\n",
      " -1.02066067e+01 -5.25790464e-01 -5.77958445e+00 -2.34673261e+00\n",
      " -9.15872909e+00 -7.10357769e+00 -1.60875215e+00 -5.48198891e+00\n",
      " -5.83343133e+00 -7.51201075e+00 -4.64714502e+00 -5.47293474e+00\n",
      " -1.07831533e+00 -2.62695595e+00 -6.45571607e+00 -6.71433620e+00\n",
      " -1.83198811e+00 -5.40590962e+00 -6.94306091e+00 -1.46233124e+00\n",
      " -1.78245013e+00 -9.83767543e+00 -1.85139546e+00 -2.35122066e+00\n",
      " -9.79941278e+00  1.26049214e-01 -1.38458068e+00 -1.97451969e-01\n",
      " -1.11402307e+01 -5.75421944e+00 -6.66139054e+00 -7.73554447e+00\n",
      " -7.57969185e-01 -8.86608312e+00 -1.56146570e+00 -7.47406380e+00\n",
      " -1.78398544e+00 -9.50919436e+00 -1.40560072e+00 -2.76017908e+00\n",
      " -7.68488303e+00 -6.32432573e+00 -8.43799950e+00 -9.48478268e+00\n",
      " -1.07521104e+01 -2.40671820e+00 -9.76761777e+00 -6.19697464e+00\n",
      " -1.50188942e+00  8.52518583e-02 -8.15979403e+00 -1.14418263e+01\n",
      " -7.50485391e+00 -1.03039165e+01 -6.41124052e+00 -3.33720927e+00\n",
      " -2.33080604e+00 -1.61734616e+00 -9.69754218e+00 -1.92744799e+00\n",
      " -1.02200406e+01 -9.04311945e-01  2.42271161e-04 -3.39660218e+00\n",
      " -9.87755355e+00 -9.71212518e+00 -5.86596430e+00 -5.79112625e+00]\n"
     ]
    },
    {
     "data": {
      "text/plain": [
       "array([[ 4.63675191e-01,  5.27699902e-01],\n",
       "       [-2.17509754e+00,  1.58972616e-01],\n",
       "       [-7.44016713e+00, -8.79195851e+00],\n",
       "       [-6.04230121e+00, -2.40623405e+00],\n",
       "       [-9.81115111e+00, -3.54329690e+00],\n",
       "       [-1.34052081e+00,  4.15711949e+00],\n",
       "       [-7.58703957e-01,  3.72276201e+00],\n",
       "       [-5.74533045e+00, -2.95108425e+00],\n",
       "       [-9.68207756e+00, -5.97554976e+00],\n",
       "       [-5.94346448e+00, -7.74432757e+00],\n",
       "       [-6.46136554e+00, -3.19053133e+00],\n",
       "       [-7.33193403e-01,  4.89026817e-01],\n",
       "       [-2.71156720e+00,  1.67782157e+00],\n",
       "       [-5.23597117e+00, -9.01805812e-01],\n",
       "       [-9.80679702e+00, -1.85309341e+00],\n",
       "       [-1.25369884e+00,  1.82077677e+00],\n",
       "       [-6.58491255e+00, -5.52362322e+00],\n",
       "       [-7.40873586e+00, -8.10963125e+00],\n",
       "       [-2.02098152e+00,  5.50020438e-01],\n",
       "       [-7.33110069e+00, -8.12061356e+00],\n",
       "       [-2.77687025e+00,  4.64090557e+00],\n",
       "       [-7.81213710e+00, -5.34984488e+00],\n",
       "       [-7.08949914e+00, -8.92838972e+00],\n",
       "       [-6.02599661e+00, -3.38542661e+00],\n",
       "       [-8.92286405e+00, -6.91706407e+00],\n",
       "       [-1.59991807e-01,  1.88739138e+00],\n",
       "       [-2.46552871e+00,  1.60034030e+00],\n",
       "       [-1.98197711e+00,  4.02243551e+00],\n",
       "       [-6.21872154e+00, -9.01274405e+00],\n",
       "       [-6.79189023e+00, -4.08581229e+00],\n",
       "       [-6.25738636e+00, -4.21080419e+00],\n",
       "       [-6.64138783e+00, -8.07588804e+00],\n",
       "       [-1.02066067e+01, -3.36672536e+00],\n",
       "       [-5.25790464e-01,  3.30659860e+00],\n",
       "       [-5.77958445e+00, -3.26348862e+00],\n",
       "       [-2.34673261e+00,  3.56128423e+00],\n",
       "       [-9.15872909e+00, -3.02224647e+00],\n",
       "       [-7.10357769e+00, -9.76900046e+00],\n",
       "       [-1.60875215e+00,  3.76949422e+00],\n",
       "       [-5.48198891e+00, -3.71231619e+00],\n",
       "       [-5.83343133e+00, -3.18894069e+00],\n",
       "       [-7.51201075e+00, -6.92872040e+00],\n",
       "       [-4.64714502e+00, -2.75077376e+00],\n",
       "       [-5.47293474e+00, -3.04221816e+00],\n",
       "       [-1.07831533e+00,  9.89868581e-01],\n",
       "       [-2.62695595e+00,  2.73121276e+00],\n",
       "       [-6.45571607e+00, -3.69270609e+00],\n",
       "       [-6.71433620e+00, -9.46551152e+00],\n",
       "       [-1.83198811e+00,  3.52863145e+00],\n",
       "       [-5.40590962e+00, -2.33837382e+00],\n",
       "       [-6.94306091e+00, -7.02374420e+00],\n",
       "       [-1.46233124e+00,  1.19661688e+00],\n",
       "       [-1.78245013e+00,  3.47072043e+00],\n",
       "       [-9.83767543e+00, -3.07717963e+00],\n",
       "       [-1.85139546e+00,  3.51886090e+00],\n",
       "       [-2.35122066e+00,  4.00973634e+00],\n",
       "       [-9.79941278e+00, -3.83433990e+00],\n",
       "       [ 1.26049214e-01, -1.12002624e+00],\n",
       "       [-1.38458068e+00,  4.56533081e-01],\n",
       "       [-1.97451969e-01,  2.34634916e+00],\n",
       "       [-1.11402307e+01, -4.30269127e+00],\n",
       "       [-5.75421944e+00, -4.23312685e+00],\n",
       "       [-6.66139054e+00, -7.55964958e+00],\n",
       "       [-7.73554447e+00, -7.77566432e+00],\n",
       "       [-7.57969185e-01,  4.90898421e+00],\n",
       "       [-8.86608312e+00, -2.43353173e+00],\n",
       "       [-1.56146570e+00,  2.06956056e+00],\n",
       "       [-7.47406380e+00, -2.22544014e+00],\n",
       "       [-1.78398544e+00,  7.03221976e-01],\n",
       "       [-9.50919436e+00, -4.02892026e+00],\n",
       "       [-1.40560072e+00, -8.51103661e-01],\n",
       "       [-2.76017908e+00,  5.55121358e+00],\n",
       "       [-7.68488303e+00, -7.45519607e+00],\n",
       "       [-6.32432573e+00, -9.10692871e+00],\n",
       "       [-8.43799950e+00, -7.83806871e+00],\n",
       "       [-9.48478268e+00, -4.25144138e+00],\n",
       "       [-1.07521104e+01, -2.70048039e+00],\n",
       "       [-2.40671820e+00,  6.09894447e+00],\n",
       "       [-9.76761777e+00, -3.19133737e+00],\n",
       "       [-6.19697464e+00, -2.47040520e+00],\n",
       "       [-1.50188942e+00,  1.01707177e+00],\n",
       "       [ 8.52518583e-02,  3.64528297e+00],\n",
       "       [-8.15979403e+00, -7.98384567e+00],\n",
       "       [-1.14418263e+01, -4.45781441e+00],\n",
       "       [-7.50485391e+00, -2.53824796e+00],\n",
       "       [-1.03039165e+01, -3.12537390e+00],\n",
       "       [-6.41124052e+00, -3.20783965e+00],\n",
       "       [-3.33720927e+00,  1.08988240e+00],\n",
       "       [-2.33080604e+00,  4.39382527e+00],\n",
       "       [-1.61734616e+00,  4.98930508e+00],\n",
       "       [-9.69754218e+00, -4.30559839e+00],\n",
       "       [-1.92744799e+00,  4.93684534e+00],\n",
       "       [-1.02200406e+01, -4.15410662e+00],\n",
       "       [-9.04311945e-01,  1.14582740e+00],\n",
       "       [ 2.42271161e-04,  5.14853403e+00],\n",
       "       [-3.39660218e+00, -9.84353880e-01],\n",
       "       [-9.87755355e+00, -3.33614544e+00],\n",
       "       [-9.71212518e+00, -3.06820738e+00],\n",
       "       [-5.86596430e+00, -7.96807169e+00],\n",
       "       [-5.79112625e+00, -6.18612636e+00]])"
      ]
     },
     "execution_count": 270,
     "metadata": {},
     "output_type": "execute_result"
    }
   ],
   "source": [
    "print(data[:,0])\n",
    "data"
   ]
  },
  {
   "cell_type": "code",
   "execution_count": 2,
   "id": "6ae4c71d",
   "metadata": {},
   "outputs": [],
   "source": [
    "from sklearn.datasets import make_blobs\n",
    "from sklearn.cluster import KMeans"
   ]
  },
  {
   "cell_type": "code",
   "execution_count": 3,
   "id": "0f3532b8",
   "metadata": {},
   "outputs": [
    {
     "data": {
      "text/plain": [
       "array([[-7.94152277e-01,  2.10495117e+00],\n",
       "       [-9.15155186e+00, -4.81286449e+00],\n",
       "       [-1.14418263e+01, -4.45781441e+00],\n",
       "       [-9.76761777e+00, -3.19133737e+00],\n",
       "       [-4.53655648e+00, -8.40186288e+00],\n",
       "       [-6.26302115e+00, -8.10666081e+00],\n",
       "       [-6.38481234e+00, -8.47302970e+00],\n",
       "       [-9.20490564e+00, -4.57687928e+00],\n",
       "       [-2.76017908e+00,  5.55121358e+00],\n",
       "       [-1.17104176e+00,  4.33091816e+00],\n",
       "       [-1.00364080e+01, -5.56912090e+00],\n",
       "       [-9.87589123e+00, -2.82386464e+00],\n",
       "       [-7.17532921e+00, -8.77059017e+00],\n",
       "       [-2.40671820e+00,  6.09894447e+00],\n",
       "       [-4.87418245e+00, -1.00495890e+01],\n",
       "       [-6.07854700e+00, -7.93969420e+00],\n",
       "       [-6.83238762e+00, -7.47067670e+00],\n",
       "       [-2.34673261e+00,  3.56128423e+00],\n",
       "       [-1.03415662e+01, -3.90975169e+00],\n",
       "       [-1.10926243e+01, -3.78396611e+00],\n",
       "       [-6.50212109e+00, -7.91249101e+00],\n",
       "       [-1.02639310e+01, -3.92073400e+00],\n",
       "       [-6.81608302e+00, -8.44986926e+00],\n",
       "       [-1.34052081e+00,  4.15711949e+00],\n",
       "       [-1.03729975e+01, -4.59207895e+00],\n",
       "       [-7.37499896e+00, -1.05880659e+01],\n",
       "       [-6.62351774e+00, -8.25338334e+00],\n",
       "       [-1.35938959e+00,  4.05424002e+00],\n",
       "       [-1.97451969e-01,  2.34634916e+00],\n",
       "       [-6.54430585e+00, -9.29756949e+00],\n",
       "       [-1.92744799e+00,  4.93684534e+00],\n",
       "       [-2.80207810e+00,  4.05714715e+00],\n",
       "       [-7.58197664e+00, -9.15025493e+00],\n",
       "       [-1.85139546e+00,  3.51886090e+00],\n",
       "       [-8.37006175e+00, -3.61533685e+00],\n",
       "       [-7.25145196e+00, -8.25497398e+00],\n",
       "       [-8.79879462e+00, -3.76819213e+00],\n",
       "       [-1.13708298e+01, -3.63818916e+00],\n",
       "       [-1.01786328e+01, -4.55726918e+00],\n",
       "       [-7.20132693e+00, -8.27228229e+00],\n",
       "       [-6.78421711e+00, -8.22634081e+00],\n",
       "       [-9.64716652e+00, -5.26563196e+00],\n",
       "       [-1.98197711e+00,  4.02243551e+00],\n",
       "       [-1.12277706e+01, -3.40281105e+00],\n",
       "       [-9.79941278e+00, -3.83433990e+00],\n",
       "       [-6.53541686e+00, -8.01552689e+00],\n",
       "       [-7.57969185e-01,  4.90898421e+00],\n",
       "       [ 5.26015501e-01,  3.00999353e+00],\n",
       "       [-2.77687025e+00,  4.64090557e+00],\n",
       "       [-1.78245013e+00,  3.47072043e+00],\n",
       "       [-1.02200406e+01, -4.15410662e+00],\n",
       "       [-6.40583239e+00, -9.78066645e+00],\n",
       "       [-6.98706106e+00, -7.53484784e+00],\n",
       "       [-7.46576038e+00, -7.32922249e+00],\n",
       "       [-1.53940095e+00,  5.02369298e+00],\n",
       "       [-6.56967086e+00, -8.32793126e+00],\n",
       "       [-1.06177133e+01, -3.25531651e+00],\n",
       "       [-8.72395657e+00, -1.98624680e+00],\n",
       "       [-1.61734616e+00,  4.98930508e+00],\n",
       "       [-1.14663009e+00,  4.10839703e+00],\n",
       "       [-9.81115111e+00, -3.54329690e+00],\n",
       "       [-7.71179887e+00, -7.25174121e+00],\n",
       "       [-6.56169737e+00, -6.86000222e+00],\n",
       "       [-1.00223295e+01, -4.72851017e+00],\n",
       "       [-1.18556944e+01, -2.71718452e+00],\n",
       "       [-5.73342507e+00, -8.44053597e+00],\n",
       "       [-2.41395785e+00,  5.65935802e+00],\n",
       "       [-8.33744094e+00, -7.83968038e+00],\n",
       "       [-1.83198811e+00,  3.52863145e+00],\n",
       "       [-9.57421815e+00, -3.87600848e+00],\n",
       "       [-9.59422086e+00, -3.35977002e+00],\n",
       "       [-9.25715605e+00, -4.90704915e+00],\n",
       "       [-6.46256290e+00, -7.73294590e+00],\n",
       "       [-8.20576492e-01,  5.33759195e+00],\n",
       "       [ 2.42271161e-04,  5.14853403e+00],\n",
       "       [-9.68207756e+00, -5.97554976e+00],\n",
       "       [-6.19599603e+00, -7.40281646e+00],\n",
       "       [-7.02121319e+00, -8.37954235e+00],\n",
       "       [-2.18773166e+00,  3.33352125e+00],\n",
       "       [-1.04448411e+01, -2.72884084e+00],\n",
       "       [-5.27930518e-01,  5.92630669e+00],\n",
       "       [-1.11969805e+01, -3.09000323e+00],\n",
       "       [-9.83767543e+00, -3.07717963e+00],\n",
       "       [-5.16022348e+00, -7.04217141e+00],\n",
       "       [-2.35122066e+00,  4.00973634e+00],\n",
       "       [-5.25790464e-01,  3.30659860e+00],\n",
       "       [-1.46864442e+00,  6.50674501e+00],\n",
       "       [-7.58703957e-01,  3.72276201e+00],\n",
       "       [-1.03039165e+01, -3.12537390e+00],\n",
       "       [-2.33080604e+00,  4.39382527e+00],\n",
       "       [-5.90454361e+00, -7.78373539e+00],\n",
       "       [-1.60875215e+00,  3.76949422e+00],\n",
       "       [-1.86845414e+00,  4.99311306e+00],\n",
       "       [-1.06683748e+01, -3.57578476e+00],\n",
       "       [-8.87629480e+00, -3.54444801e+00],\n",
       "       [-6.02605758e+00, -5.96624846e+00],\n",
       "       [-7.04747278e+00, -9.27524683e+00],\n",
       "       [-1.37397258e+00,  5.29163103e+00],\n",
       "       [-6.25393051e+00, -7.10878601e+00],\n",
       "       [ 8.52518583e-02,  3.64528297e+00]])"
      ]
     },
     "execution_count": 3,
     "metadata": {},
     "output_type": "execute_result"
    }
   ],
   "source": [
    "data,centers = make_blobs(n_samples=100,random_state=1)\n",
    "data"
   ]
  },
  {
   "cell_type": "code",
   "execution_count": 4,
   "id": "26d53035",
   "metadata": {
    "scrolled": true
   },
   "outputs": [
    {
     "data": {
      "text/plain": [
       "array([0, 1, 1, 1, 2, 2, 2, 1, 0, 0, 1, 1, 2, 0, 2, 2, 2, 0, 1, 1, 2, 1,\n",
       "       2, 0, 1, 2, 2, 0, 0, 2, 0, 0, 2, 0, 1, 2, 1, 1, 1, 2, 2, 1, 0, 1,\n",
       "       1, 2, 0, 0, 0, 0, 1, 2, 2, 2, 0, 2, 1, 1, 0, 0, 1, 2, 2, 1, 1, 2,\n",
       "       0, 2, 0, 1, 1, 1, 2, 0, 0, 1, 2, 2, 0, 1, 0, 1, 1, 2, 0, 0, 0, 0,\n",
       "       1, 0, 2, 0, 0, 1, 1, 2, 2, 0, 2, 0])"
      ]
     },
     "execution_count": 4,
     "metadata": {},
     "output_type": "execute_result"
    }
   ],
   "source": [
    "centers"
   ]
  },
  {
   "cell_type": "code",
   "execution_count": 6,
   "id": "3e3d0433",
   "metadata": {},
   "outputs": [],
   "source": [
    "import matplotlib.pyplot as mplt"
   ]
  },
  {
   "cell_type": "code",
   "execution_count": 8,
   "id": "59fc49ef",
   "metadata": {},
   "outputs": [
    {
     "data": {
      "image/png": "[encoded data removed]",
      "text/plain": [
       "<Figure size 640x480 with 1 Axes>"
      ]
     },
     "metadata": {},
     "output_type": "display_data"
    }
   ],
   "source": [
    "mplt.scatter(data[:,1],data[:,0]);"
   ]
  },
  {
   "cell_type": "code",
   "execution_count": 18,
   "id": "e7e4d19e",
   "metadata": {},
   "outputs": [
    {
     "data": {
      "text/plain": [
       "array([0, 1, 1, 1, 2, 2, 2, 1, 0, 0, 1, 1, 2, 0, 2, 2, 2, 0, 1, 1, 2, 1,\n",
       "       2, 0, 1, 2, 2, 0, 0, 2, 0, 0, 2, 0, 1, 2, 1, 1, 1, 2, 2, 1, 0, 1,\n",
       "       1, 2, 0, 0, 0, 0, 1, 2, 2, 2, 0, 2, 1, 1, 0, 0, 1, 2, 2, 1, 1, 2,\n",
       "       0, 2, 0, 1, 1, 1, 2, 0, 0, 1, 2, 2, 0, 1, 0, 1, 1, 2, 0, 0, 0, 0,\n",
       "       1, 0, 2, 0, 0, 1, 1, 2, 2, 0, 2, 0], dtype=int32)"
      ]
     },
     "execution_count": 18,
     "metadata": {},
     "output_type": "execute_result"
    }
   ],
   "source": [
    "km = KMeans(n_clusters=3,n_init='auto')\n",
    "km.fit(data)\n",
    "centroids = km.cluster_centers_\n",
    "centroids\n",
    "labels = km.fit_predict(data)\n",
    "labels"
   ]
  },
  {
   "cell_type": "code",
   "execution_count": 19,
   "id": "f3a3deda",
   "metadata": {},
   "outputs": [
    {
     "data": {
      "text/plain": [
       "<matplotlib.collections.PathCollection at 0x16a26bb50>"
      ]
     },
     "execution_count": 19,
     "metadata": {},
     "output_type": "execute_result"
    },
    {
     "data": {
      "image/png": "[encoded data removed]",
      "text/plain": [
       "<Figure size 640x480 with 1 Axes>"
      ]
     },
     "metadata": {},
     "output_type": "display_data"
    }
   ],
   "source": [
    "mplt.scatter(data[:,0],data[:,1])\n",
    "mplt.scatter(centroids[:,0],centroids[:,1])"
   ]
  },
  {
   "cell_type": "code",
   "execution_count": 59,
   "id": "85f6c44a",
   "metadata": {},
   "outputs": [
    {
     "data": {
      "text/plain": [
       "<matplotlib.collections.PathCollection at 0x286314990>"
      ]
     },
     "execution_count": 59,
     "metadata": {},
     "output_type": "execute_result"
    },
    {
     "data": {
      "image/png": "[encoded data removed]",
      "text/plain": [
       "<Figure size 640x480 with 1 Axes>"
      ]
     },
     "metadata": {},
     "output_type": "display_data"
    }
   ],
   "source": [
    "mplt.scatter(data[:,0],data[:,1],c=labels,cmap='Accent',marker='o',s=100)"
   ]
  },
  {
   "cell_type": "code",
   "execution_count": 64,
   "id": "53f6c4fe",
   "metadata": {},
   "outputs": [
    {
     "data": {
      "text/html": [
       "<div>\n",
       "<style scoped>\n",
       "    .dataframe tbody tr th:only-of-type {\n",
       "        vertical-align: middle;\n",
       "    }\n",
       "\n",
       "    .dataframe tbody tr th {\n",
       "        vertical-align: top;\n",
       "    }\n",
       "\n",
       "    .dataframe thead th {\n",
       "        text-align: right;\n",
       "    }\n",
       "</style>\n",
       "<table border=\"1\" class=\"dataframe\">\n",
       "  <thead>\n",
       "    <tr style=\"text-align: right;\">\n",
       "      <th></th>\n",
       "      <th>0</th>\n",
       "      <th>1</th>\n",
       "      <th>2</th>\n",
       "      <th>3</th>\n",
       "      <th>4</th>\n",
       "      <th>5</th>\n",
       "      <th>6</th>\n",
       "      <th>7</th>\n",
       "      <th>8</th>\n",
       "      <th>9</th>\n",
       "      <th>labels</th>\n",
       "    </tr>\n",
       "  </thead>\n",
       "  <tbody>\n",
       "    <tr>\n",
       "      <th>0</th>\n",
       "      <td>1.000000</td>\n",
       "      <td>0.112314</td>\n",
       "      <td>0.024393</td>\n",
       "      <td>0.076519</td>\n",
       "      <td>0.091720</td>\n",
       "      <td>0.140030</td>\n",
       "      <td>0.010791</td>\n",
       "      <td>0.006369</td>\n",
       "      <td>0.019608</td>\n",
       "      <td>0.0</td>\n",
       "      <td>1</td>\n",
       "    </tr>\n",
       "    <tr>\n",
       "      <th>1</th>\n",
       "      <td>0.333333</td>\n",
       "      <td>0.031847</td>\n",
       "      <td>0.000000</td>\n",
       "      <td>0.000000</td>\n",
       "      <td>0.031847</td>\n",
       "      <td>0.000000</td>\n",
       "      <td>0.000000</td>\n",
       "      <td>0.000000</td>\n",
       "      <td>0.000000</td>\n",
       "      <td>0.0</td>\n",
       "      <td>0</td>\n",
       "    </tr>\n",
       "    <tr>\n",
       "      <th>2</th>\n",
       "      <td>1.000000</td>\n",
       "      <td>0.048195</td>\n",
       "      <td>0.011243</td>\n",
       "      <td>0.016647</td>\n",
       "      <td>0.043312</td>\n",
       "      <td>0.031963</td>\n",
       "      <td>0.003597</td>\n",
       "      <td>0.006369</td>\n",
       "      <td>0.000000</td>\n",
       "      <td>0.0</td>\n",
       "      <td>1</td>\n",
       "    </tr>\n",
       "    <tr>\n",
       "      <th>3</th>\n",
       "      <td>0.333333</td>\n",
       "      <td>0.023567</td>\n",
       "      <td>0.000000</td>\n",
       "      <td>0.000000</td>\n",
       "      <td>0.023567</td>\n",
       "      <td>0.000000</td>\n",
       "      <td>0.000000</td>\n",
       "      <td>0.000000</td>\n",
       "      <td>0.000000</td>\n",
       "      <td>0.0</td>\n",
       "      <td>0</td>\n",
       "    </tr>\n",
       "    <tr>\n",
       "      <th>4</th>\n",
       "      <td>0.333333</td>\n",
       "      <td>0.045223</td>\n",
       "      <td>0.000000</td>\n",
       "      <td>0.000000</td>\n",
       "      <td>0.043312</td>\n",
       "      <td>0.013699</td>\n",
       "      <td>0.000000</td>\n",
       "      <td>0.000000</td>\n",
       "      <td>0.000000</td>\n",
       "      <td>0.0</td>\n",
       "      <td>0</td>\n",
       "    </tr>\n",
       "    <tr>\n",
       "      <th>...</th>\n",
       "      <td>...</td>\n",
       "      <td>...</td>\n",
       "      <td>...</td>\n",
       "      <td>...</td>\n",
       "      <td>...</td>\n",
       "      <td>...</td>\n",
       "      <td>...</td>\n",
       "      <td>...</td>\n",
       "      <td>...</td>\n",
       "      <td>...</td>\n",
       "      <td>...</td>\n",
       "    </tr>\n",
       "    <tr>\n",
       "      <th>7045</th>\n",
       "      <td>0.333333</td>\n",
       "      <td>0.018896</td>\n",
       "      <td>0.000000</td>\n",
       "      <td>0.000000</td>\n",
       "      <td>0.018896</td>\n",
       "      <td>0.000000</td>\n",
       "      <td>0.000000</td>\n",
       "      <td>0.000000</td>\n",
       "      <td>0.000000</td>\n",
       "      <td>0.0</td>\n",
       "      <td>0</td>\n",
       "    </tr>\n",
       "    <tr>\n",
       "      <th>7046</th>\n",
       "      <td>0.333333</td>\n",
       "      <td>0.003397</td>\n",
       "      <td>0.000000</td>\n",
       "      <td>0.000000</td>\n",
       "      <td>0.002972</td>\n",
       "      <td>0.001522</td>\n",
       "      <td>0.000000</td>\n",
       "      <td>0.006369</td>\n",
       "      <td>0.000000</td>\n",
       "      <td>0.0</td>\n",
       "      <td>0</td>\n",
       "    </tr>\n",
       "    <tr>\n",
       "      <th>7047</th>\n",
       "      <td>0.333333</td>\n",
       "      <td>0.000425</td>\n",
       "      <td>0.000000</td>\n",
       "      <td>0.000000</td>\n",
       "      <td>0.000212</td>\n",
       "      <td>0.001522</td>\n",
       "      <td>0.000000</td>\n",
       "      <td>0.000000</td>\n",
       "      <td>0.000000</td>\n",
       "      <td>0.0</td>\n",
       "      <td>0</td>\n",
       "    </tr>\n",
       "    <tr>\n",
       "      <th>7048</th>\n",
       "      <td>0.333333</td>\n",
       "      <td>0.074522</td>\n",
       "      <td>0.000572</td>\n",
       "      <td>0.006425</td>\n",
       "      <td>0.074098</td>\n",
       "      <td>0.003044</td>\n",
       "      <td>0.000000</td>\n",
       "      <td>0.000000</td>\n",
       "      <td>0.000000</td>\n",
       "      <td>0.0</td>\n",
       "      <td>0</td>\n",
       "    </tr>\n",
       "    <tr>\n",
       "      <th>7049</th>\n",
       "      <td>0.333333</td>\n",
       "      <td>0.003609</td>\n",
       "      <td>0.000000</td>\n",
       "      <td>0.000000</td>\n",
       "      <td>0.003609</td>\n",
       "      <td>0.000000</td>\n",
       "      <td>0.000000</td>\n",
       "      <td>0.000000</td>\n",
       "      <td>0.000000</td>\n",
       "      <td>0.0</td>\n",
       "      <td>0</td>\n",
       "    </tr>\n",
       "  </tbody>\n",
       "</table>\n",
       "<p>7050 rows × 11 columns</p>\n",
       "</div>"
      ],
      "text/plain": [
       "             0         1         2         3         4         5         6   \n",
       "0     1.000000  0.112314  0.024393  0.076519  0.091720  0.140030  0.010791  \\\n",
       "1     0.333333  0.031847  0.000000  0.000000  0.031847  0.000000  0.000000   \n",
       "2     1.000000  0.048195  0.011243  0.016647  0.043312  0.031963  0.003597   \n",
       "3     0.333333  0.023567  0.000000  0.000000  0.023567  0.000000  0.000000   \n",
       "4     0.333333  0.045223  0.000000  0.000000  0.043312  0.013699  0.000000   \n",
       "...        ...       ...       ...       ...       ...       ...       ...   \n",
       "7045  0.333333  0.018896  0.000000  0.000000  0.018896  0.000000  0.000000   \n",
       "7046  0.333333  0.003397  0.000000  0.000000  0.002972  0.001522  0.000000   \n",
       "7047  0.333333  0.000425  0.000000  0.000000  0.000212  0.001522  0.000000   \n",
       "7048  0.333333  0.074522  0.000572  0.006425  0.074098  0.003044  0.000000   \n",
       "7049  0.333333  0.003609  0.000000  0.000000  0.003609  0.000000  0.000000   \n",
       "\n",
       "             7         8    9  labels  \n",
       "0     0.006369  0.019608  0.0       1  \n",
       "1     0.000000  0.000000  0.0       0  \n",
       "2     0.006369  0.000000  0.0       1  \n",
       "3     0.000000  0.000000  0.0       0  \n",
       "4     0.000000  0.000000  0.0       0  \n",
       "...        ...       ...  ...     ...  \n",
       "7045  0.000000  0.000000  0.0       0  \n",
       "7046  0.006369  0.000000  0.0       0  \n",
       "7047  0.000000  0.000000  0.0       0  \n",
       "7048  0.000000  0.000000  0.0       0  \n",
       "7049  0.000000  0.000000  0.0       0  \n",
       "\n",
       "[7050 rows x 11 columns]"
      ]
     },
     "execution_count": 64,
     "metadata": {},
     "output_type": "execute_result"
    }
   ],
   "source": [
    "live_sell['labels'] = labels\n",
    "live_sell"
   ]
  },
  {
   "cell_type": "code",
   "execution_count": 87,
   "id": "78276e12",
   "metadata": {},
   "outputs": [
    {
     "data": {
      "text/plain": [
       "(7050,)"
      ]
     },
     "execution_count": 87,
     "metadata": {},
     "output_type": "execute_result"
    }
   ],
   "source": [
    "labels.shape"
   ]
  },
  {
   "cell_type": "code",
   "execution_count": 85,
   "id": "83a14c9e",
   "metadata": {},
   "outputs": [
    {
     "data": {
      "text/plain": [
       "(2, 10)"
      ]
     },
     "execution_count": 85,
     "metadata": {},
     "output_type": "execute_result"
    }
   ],
   "source": [
    "centroids.shape"
   ]
  },
  {
   "cell_type": "code",
   "execution_count": 17,
   "id": "e91f78f4",
   "metadata": {},
   "outputs": [
    {
     "ename": "TypeError",
     "evalue": "KMeans.fit() missing 1 required positional argument: 'X'",
     "output_type": "error",
     "traceback": [
      "\u001b[0;31m---------------------------------------------------------------------------\u001b[0m",
      "\u001b[0;31mTypeError\u001b[0m                                 Traceback (most recent call last)",
      "Cell \u001b[0;32mIn[17], line 1\u001b[0m\n\u001b[0;32m----> 1\u001b[0m \u001b[43mkm\u001b[49m\u001b[38;5;241;43m.\u001b[39;49m\u001b[43mfit\u001b[49m\u001b[43m(\u001b[49m\u001b[43m)\u001b[49m\n",
      "\u001b[0;31mTypeError\u001b[0m: KMeans.fit() missing 1 required positional argument: 'X'"
     ]
    }
   ],
   "source": [
    "km.fit()"
   ]
  },
  {
   "cell_type": "code",
   "execution_count": 19,
   "id": "1eb99aac",
   "metadata": {
    "scrolled": true
   },
   "outputs": [
    {
     "data": {
      "text/html": [
       "<div>\n",
       "<style scoped>\n",
       "    .dataframe tbody tr th:only-of-type {\n",
       "        vertical-align: middle;\n",
       "    }\n",
       "\n",
       "    .dataframe tbody tr th {\n",
       "        vertical-align: top;\n",
       "    }\n",
       "\n",
       "    .dataframe thead th {\n",
       "        text-align: right;\n",
       "    }\n",
       "</style>\n",
       "<table border=\"1\" class=\"dataframe\">\n",
       "  <thead>\n",
       "    <tr style=\"text-align: right;\">\n",
       "      <th></th>\n",
       "      <th>0</th>\n",
       "      <th>1</th>\n",
       "      <th>2</th>\n",
       "      <th>3</th>\n",
       "      <th>4</th>\n",
       "      <th>5</th>\n",
       "      <th>6</th>\n",
       "      <th>7</th>\n",
       "      <th>8</th>\n",
       "      <th>9</th>\n",
       "    </tr>\n",
       "  </thead>\n",
       "  <tbody>\n",
       "    <tr>\n",
       "      <th>0</th>\n",
       "      <td>1.000000</td>\n",
       "      <td>0.112314</td>\n",
       "      <td>0.024393</td>\n",
       "      <td>0.076519</td>\n",
       "      <td>0.091720</td>\n",
       "      <td>0.140030</td>\n",
       "      <td>0.010791</td>\n",
       "      <td>0.006369</td>\n",
       "      <td>0.019608</td>\n",
       "      <td>0.0</td>\n",
       "    </tr>\n",
       "    <tr>\n",
       "      <th>1</th>\n",
       "      <td>0.333333</td>\n",
       "      <td>0.031847</td>\n",
       "      <td>0.000000</td>\n",
       "      <td>0.000000</td>\n",
       "      <td>0.031847</td>\n",
       "      <td>0.000000</td>\n",
       "      <td>0.000000</td>\n",
       "      <td>0.000000</td>\n",
       "      <td>0.000000</td>\n",
       "      <td>0.0</td>\n",
       "    </tr>\n",
       "    <tr>\n",
       "      <th>2</th>\n",
       "      <td>1.000000</td>\n",
       "      <td>0.048195</td>\n",
       "      <td>0.011243</td>\n",
       "      <td>0.016647</td>\n",
       "      <td>0.043312</td>\n",
       "      <td>0.031963</td>\n",
       "      <td>0.003597</td>\n",
       "      <td>0.006369</td>\n",
       "      <td>0.000000</td>\n",
       "      <td>0.0</td>\n",
       "    </tr>\n",
       "    <tr>\n",
       "      <th>3</th>\n",
       "      <td>0.333333</td>\n",
       "      <td>0.023567</td>\n",
       "      <td>0.000000</td>\n",
       "      <td>0.000000</td>\n",
       "      <td>0.023567</td>\n",
       "      <td>0.000000</td>\n",
       "      <td>0.000000</td>\n",
       "      <td>0.000000</td>\n",
       "      <td>0.000000</td>\n",
       "      <td>0.0</td>\n",
       "    </tr>\n",
       "    <tr>\n",
       "      <th>4</th>\n",
       "      <td>0.333333</td>\n",
       "      <td>0.045223</td>\n",
       "      <td>0.000000</td>\n",
       "      <td>0.000000</td>\n",
       "      <td>0.043312</td>\n",
       "      <td>0.013699</td>\n",
       "      <td>0.000000</td>\n",
       "      <td>0.000000</td>\n",
       "      <td>0.000000</td>\n",
       "      <td>0.0</td>\n",
       "    </tr>\n",
       "    <tr>\n",
       "      <th>...</th>\n",
       "      <td>...</td>\n",
       "      <td>...</td>\n",
       "      <td>...</td>\n",
       "      <td>...</td>\n",
       "      <td>...</td>\n",
       "      <td>...</td>\n",
       "      <td>...</td>\n",
       "      <td>...</td>\n",
       "      <td>...</td>\n",
       "      <td>...</td>\n",
       "    </tr>\n",
       "    <tr>\n",
       "      <th>7045</th>\n",
       "      <td>0.333333</td>\n",
       "      <td>0.018896</td>\n",
       "      <td>0.000000</td>\n",
       "      <td>0.000000</td>\n",
       "      <td>0.018896</td>\n",
       "      <td>0.000000</td>\n",
       "      <td>0.000000</td>\n",
       "      <td>0.000000</td>\n",
       "      <td>0.000000</td>\n",
       "      <td>0.0</td>\n",
       "    </tr>\n",
       "    <tr>\n",
       "      <th>7046</th>\n",
       "      <td>0.333333</td>\n",
       "      <td>0.003397</td>\n",
       "      <td>0.000000</td>\n",
       "      <td>0.000000</td>\n",
       "      <td>0.002972</td>\n",
       "      <td>0.001522</td>\n",
       "      <td>0.000000</td>\n",
       "      <td>0.006369</td>\n",
       "      <td>0.000000</td>\n",
       "      <td>0.0</td>\n",
       "    </tr>\n",
       "    <tr>\n",
       "      <th>7047</th>\n",
       "      <td>0.333333</td>\n",
       "      <td>0.000425</td>\n",
       "      <td>0.000000</td>\n",
       "      <td>0.000000</td>\n",
       "      <td>0.000212</td>\n",
       "      <td>0.001522</td>\n",
       "      <td>0.000000</td>\n",
       "      <td>0.000000</td>\n",
       "      <td>0.000000</td>\n",
       "      <td>0.0</td>\n",
       "    </tr>\n",
       "    <tr>\n",
       "      <th>7048</th>\n",
       "      <td>0.333333</td>\n",
       "      <td>0.074522</td>\n",
       "      <td>0.000572</td>\n",
       "      <td>0.006425</td>\n",
       "      <td>0.074098</td>\n",
       "      <td>0.003044</td>\n",
       "      <td>0.000000</td>\n",
       "      <td>0.000000</td>\n",
       "      <td>0.000000</td>\n",
       "      <td>0.0</td>\n",
       "    </tr>\n",
       "    <tr>\n",
       "      <th>7049</th>\n",
       "      <td>0.333333</td>\n",
       "      <td>0.003609</td>\n",
       "      <td>0.000000</td>\n",
       "      <td>0.000000</td>\n",
       "      <td>0.003609</td>\n",
       "      <td>0.000000</td>\n",
       "      <td>0.000000</td>\n",
       "      <td>0.000000</td>\n",
       "      <td>0.000000</td>\n",
       "      <td>0.0</td>\n",
       "    </tr>\n",
       "  </tbody>\n",
       "</table>\n",
       "<p>7050 rows × 10 columns</p>\n",
       "</div>"
      ],
      "text/plain": [
       "             0         1         2         3         4         5         6   \n",
       "0     1.000000  0.112314  0.024393  0.076519  0.091720  0.140030  0.010791  \\\n",
       "1     0.333333  0.031847  0.000000  0.000000  0.031847  0.000000  0.000000   \n",
       "2     1.000000  0.048195  0.011243  0.016647  0.043312  0.031963  0.003597   \n",
       "3     0.333333  0.023567  0.000000  0.000000  0.023567  0.000000  0.000000   \n",
       "4     0.333333  0.045223  0.000000  0.000000  0.043312  0.013699  0.000000   \n",
       "...        ...       ...       ...       ...       ...       ...       ...   \n",
       "7045  0.333333  0.018896  0.000000  0.000000  0.018896  0.000000  0.000000   \n",
       "7046  0.333333  0.003397  0.000000  0.000000  0.002972  0.001522  0.000000   \n",
       "7047  0.333333  0.000425  0.000000  0.000000  0.000212  0.001522  0.000000   \n",
       "7048  0.333333  0.074522  0.000572  0.006425  0.074098  0.003044  0.000000   \n",
       "7049  0.333333  0.003609  0.000000  0.000000  0.003609  0.000000  0.000000   \n",
       "\n",
       "             7         8    9  \n",
       "0     0.006369  0.019608  0.0  \n",
       "1     0.000000  0.000000  0.0  \n",
       "2     0.006369  0.000000  0.0  \n",
       "3     0.000000  0.000000  0.0  \n",
       "4     0.000000  0.000000  0.0  \n",
       "...        ...       ...  ...  \n",
       "7045  0.000000  0.000000  0.0  \n",
       "7046  0.006369  0.000000  0.0  \n",
       "7047  0.000000  0.000000  0.0  \n",
       "7048  0.000000  0.000000  0.0  \n",
       "7049  0.000000  0.000000  0.0  \n",
       "\n",
       "[7050 rows x 10 columns]"
      ]
     },
     "execution_count": 19,
     "metadata": {},
     "output_type": "execute_result"
    }
   ],
   "source": [
    "live_sell = live_sell.iloc[:,:10]\n",
    "live_sell"
   ]
  },
  {
   "cell_type": "code",
   "execution_count": 22,
   "id": "7e7006c3",
   "metadata": {},
   "outputs": [],
   "source": [
    "from sklearn.cluster import KMeans as km"
   ]
  },
  {
   "cell_type": "code",
   "execution_count": 23,
   "id": "69a05e10",
   "metadata": {},
   "outputs": [
    {
     "data": {
      "text/html": [
       "<style>#sk-container-id-3 {color: black;background-color: white;}#sk-container-id-3 pre{padding: 0;}#sk-container-id-3 div.sk-toggleable {background-color: white;}#sk-container-id-3 label.sk-toggleable__label {cursor: pointer;display: block;width: 100%;margin-bottom: 0;padding: 0.3em;box-sizing: border-box;text-align: center;}#sk-container-id-3 label.sk-toggleable__label-arrow:before {content: \"▸\";float: left;margin-right: 0.25em;color: #696969;}#sk-container-id-3 label.sk-toggleable__label-arrow:hover:before {color: black;}#sk-container-id-3 div.sk-estimator:hover label.sk-toggleable__label-arrow:before {color: black;}#sk-container-id-3 div.sk-toggleable__content {max-height: 0;max-width: 0;overflow: hidden;text-align: left;background-color: #f0f8ff;}#sk-container-id-3 div.sk-toggleable__content pre {margin: 0.2em;color: black;border-radius: 0.25em;background-color: #f0f8ff;}#sk-container-id-3 input.sk-toggleable__control:checked~div.sk-toggleable__content {max-height: 200px;max-width: 100%;overflow: auto;}#sk-container-id-3 input.sk-toggleable__control:checked~label.sk-toggleable__label-arrow:before {content: \"▾\";}#sk-container-id-3 div.sk-estimator input.sk-toggleable__control:checked~label.sk-toggleable__label {background-color: #d4ebff;}#sk-container-id-3 div.sk-label input.sk-toggleable__control:checked~label.sk-toggleable__label {background-color: #d4ebff;}#sk-container-id-3 input.sk-hidden--visually {border: 0;clip: rect(1px 1px 1px 1px);clip: rect(1px, 1px, 1px, 1px);height: 1px;margin: -1px;overflow: hidden;padding: 0;position: absolute;width: 1px;}#sk-container-id-3 div.sk-estimator {font-family: monospace;background-color: #f0f8ff;border: 1px dotted black;border-radius: 0.25em;box-sizing: border-box;margin-bottom: 0.5em;}#sk-container-id-3 div.sk-estimator:hover {background-color: #d4ebff;}#sk-container-id-3 div.sk-parallel-item::after {content: \"\";width: 100%;border-bottom: 1px solid gray;flex-grow: 1;}#sk-container-id-3 div.sk-label:hover label.sk-toggleable__label {background-color: #d4ebff;}#sk-container-id-3 div.sk-serial::before {content: \"\";position: absolute;border-left: 1px solid gray;box-sizing: border-box;top: 0;bottom: 0;left: 50%;z-index: 0;}#sk-container-id-3 div.sk-serial {display: flex;flex-direction: column;align-items: center;background-color: white;padding-right: 0.2em;padding-left: 0.2em;position: relative;}#sk-container-id-3 div.sk-item {position: relative;z-index: 1;}#sk-container-id-3 div.sk-parallel {display: flex;align-items: stretch;justify-content: center;background-color: white;position: relative;}#sk-container-id-3 div.sk-item::before, #sk-container-id-3 div.sk-parallel-item::before {content: \"\";position: absolute;border-left: 1px solid gray;box-sizing: border-box;top: 0;bottom: 0;left: 50%;z-index: -1;}#sk-container-id-3 div.sk-parallel-item {display: flex;flex-direction: column;z-index: 1;position: relative;background-color: white;}#sk-container-id-3 div.sk-parallel-item:first-child::after {align-self: flex-end;width: 50%;}#sk-container-id-3 div.sk-parallel-item:last-child::after {align-self: flex-start;width: 50%;}#sk-container-id-3 div.sk-parallel-item:only-child::after {width: 0;}#sk-container-id-3 div.sk-dashed-wrapped {border: 1px dashed gray;margin: 0 0.4em 0.5em 0.4em;box-sizing: border-box;padding-bottom: 0.4em;background-color: white;}#sk-container-id-3 div.sk-label label {font-family: monospace;font-weight: bold;display: inline-block;line-height: 1.2em;}#sk-container-id-3 div.sk-label-container {text-align: center;}#sk-container-id-3 div.sk-container {/* jupyter's `normalize.less` sets `[hidden] { display: none; }` but bootstrap.min.css set `[hidden] { display: none !important; }` so we also need the `!important` here to be able to override the default hidden behavior on the sphinx rendered scikit-learn.org. See: https://github.com/scikit-learn/scikit-learn/issues/21755 */display: inline-block !important;position: relative;}#sk-container-id-3 div.sk-text-repr-fallback {display: none;}</style><div id=\"sk-container-id-3\" class=\"sk-top-container\"><div class=\"sk-text-repr-fallback\"><pre>KMeans(n_clusters=2, n_init=&#x27;auto&#x27;)</pre><b>In a Jupyter environment, please rerun this cell to show the HTML representation or trust the notebook. <br />On GitHub, the HTML representation is unable to render, please try loading this page with nbviewer.org.</b></div><div class=\"sk-container\" hidden><div class=\"sk-item\"><div class=\"sk-estimator sk-toggleable\"><input class=\"sk-toggleable__control sk-hidden--visually\" id=\"sk-estimator-id-3\" type=\"checkbox\" checked><label for=\"sk-estimator-id-3\" class=\"sk-toggleable__label sk-toggleable__label-arrow\">KMeans</label><div class=\"sk-toggleable__content\"><pre>KMeans(n_clusters=2, n_init=&#x27;auto&#x27;)</pre></div></div></div></div></div>"
      ],
      "text/plain": [
       "KMeans(n_clusters=2, n_init='auto')"
      ]
     },
     "execution_count": 23,
     "metadata": {},
     "output_type": "execute_result"
    }
   ],
   "source": [
    "km = km(n_clusters=2,n_init='auto')\n",
    "km"
   ]
  },
  {
   "cell_type": "code",
   "execution_count": 24,
   "id": "69bb8a1c",
   "metadata": {},
   "outputs": [
    {
     "data": {
      "text/html": [
       "<style>#sk-container-id-4 {color: black;background-color: white;}#sk-container-id-4 pre{padding: 0;}#sk-container-id-4 div.sk-toggleable {background-color: white;}#sk-container-id-4 label.sk-toggleable__label {cursor: pointer;display: block;width: 100%;margin-bottom: 0;padding: 0.3em;box-sizing: border-box;text-align: center;}#sk-container-id-4 label.sk-toggleable__label-arrow:before {content: \"▸\";float: left;margin-right: 0.25em;color: #696969;}#sk-container-id-4 label.sk-toggleable__label-arrow:hover:before {color: black;}#sk-container-id-4 div.sk-estimator:hover label.sk-toggleable__label-arrow:before {color: black;}#sk-container-id-4 div.sk-toggleable__content {max-height: 0;max-width: 0;overflow: hidden;text-align: left;background-color: #f0f8ff;}#sk-container-id-4 div.sk-toggleable__content pre {margin: 0.2em;color: black;border-radius: 0.25em;background-color: #f0f8ff;}#sk-container-id-4 input.sk-toggleable__control:checked~div.sk-toggleable__content {max-height: 200px;max-width: 100%;overflow: auto;}#sk-container-id-4 input.sk-toggleable__control:checked~label.sk-toggleable__label-arrow:before {content: \"▾\";}#sk-container-id-4 div.sk-estimator input.sk-toggleable__control:checked~label.sk-toggleable__label {background-color: #d4ebff;}#sk-container-id-4 div.sk-label input.sk-toggleable__control:checked~label.sk-toggleable__label {background-color: #d4ebff;}#sk-container-id-4 input.sk-hidden--visually {border: 0;clip: rect(1px 1px 1px 1px);clip: rect(1px, 1px, 1px, 1px);height: 1px;margin: -1px;overflow: hidden;padding: 0;position: absolute;width: 1px;}#sk-container-id-4 div.sk-estimator {font-family: monospace;background-color: #f0f8ff;border: 1px dotted black;border-radius: 0.25em;box-sizing: border-box;margin-bottom: 0.5em;}#sk-container-id-4 div.sk-estimator:hover {background-color: #d4ebff;}#sk-container-id-4 div.sk-parallel-item::after {content: \"\";width: 100%;border-bottom: 1px solid gray;flex-grow: 1;}#sk-container-id-4 div.sk-label:hover label.sk-toggleable__label {background-color: #d4ebff;}#sk-container-id-4 div.sk-serial::before {content: \"\";position: absolute;border-left: 1px solid gray;box-sizing: border-box;top: 0;bottom: 0;left: 50%;z-index: 0;}#sk-container-id-4 div.sk-serial {display: flex;flex-direction: column;align-items: center;background-color: white;padding-right: 0.2em;padding-left: 0.2em;position: relative;}#sk-container-id-4 div.sk-item {position: relative;z-index: 1;}#sk-container-id-4 div.sk-parallel {display: flex;align-items: stretch;justify-content: center;background-color: white;position: relative;}#sk-container-id-4 div.sk-item::before, #sk-container-id-4 div.sk-parallel-item::before {content: \"\";position: absolute;border-left: 1px solid gray;box-sizing: border-box;top: 0;bottom: 0;left: 50%;z-index: -1;}#sk-container-id-4 div.sk-parallel-item {display: flex;flex-direction: column;z-index: 1;position: relative;background-color: white;}#sk-container-id-4 div.sk-parallel-item:first-child::after {align-self: flex-end;width: 50%;}#sk-container-id-4 div.sk-parallel-item:last-child::after {align-self: flex-start;width: 50%;}#sk-container-id-4 div.sk-parallel-item:only-child::after {width: 0;}#sk-container-id-4 div.sk-dashed-wrapped {border: 1px dashed gray;margin: 0 0.4em 0.5em 0.4em;box-sizing: border-box;padding-bottom: 0.4em;background-color: white;}#sk-container-id-4 div.sk-label label {font-family: monospace;font-weight: bold;display: inline-block;line-height: 1.2em;}#sk-container-id-4 div.sk-label-container {text-align: center;}#sk-container-id-4 div.sk-container {/* jupyter's `normalize.less` sets `[hidden] { display: none; }` but bootstrap.min.css set `[hidden] { display: none !important; }` so we also need the `!important` here to be able to override the default hidden behavior on the sphinx rendered scikit-learn.org. See: https://github.com/scikit-learn/scikit-learn/issues/21755 */display: inline-block !important;position: relative;}#sk-container-id-4 div.sk-text-repr-fallback {display: none;}</style><div id=\"sk-container-id-4\" class=\"sk-top-container\"><div class=\"sk-text-repr-fallback\"><pre>KMeans(n_clusters=2, n_init=&#x27;auto&#x27;)</pre><b>In a Jupyter environment, please rerun this cell to show the HTML representation or trust the notebook. <br />On GitHub, the HTML representation is unable to render, please try loading this page with nbviewer.org.</b></div><div class=\"sk-container\" hidden><div class=\"sk-item\"><div class=\"sk-estimator sk-toggleable\"><input class=\"sk-toggleable__control sk-hidden--visually\" id=\"sk-estimator-id-4\" type=\"checkbox\" checked><label for=\"sk-estimator-id-4\" class=\"sk-toggleable__label sk-toggleable__label-arrow\">KMeans</label><div class=\"sk-toggleable__content\"><pre>KMeans(n_clusters=2, n_init=&#x27;auto&#x27;)</pre></div></div></div></div></div>"
      ],
      "text/plain": [
       "KMeans(n_clusters=2, n_init='auto')"
      ]
     },
     "execution_count": 24,
     "metadata": {},
     "output_type": "execute_result"
    }
   ],
   "source": [
    "km.fit(live_sell)"
   ]
  },
  {
   "cell_type": "code",
   "execution_count": 25,
   "id": "011abfb3",
   "metadata": {
    "scrolled": false
   },
   "outputs": [
    {
     "data": {
      "text/plain": [
       "array([[3.47920277e-01, 3.81089775e-02, 7.68718371e-04, 7.29570753e-04,\n",
       "        3.75866551e-02, 2.15022066e-03, 2.36743015e-03, 1.17701928e-03,\n",
       "        3.09239814e-03, 1.41862805e-03],\n",
       "       [9.86305122e-01, 6.92406932e-02, 2.95016448e-02, 3.24726998e-02,\n",
       "        6.09613107e-02, 5.20380355e-02, 8.94403623e-03, 1.06165835e-02,\n",
       "        7.97525255e-03, 7.88559917e-03]])"
      ]
     },
     "execution_count": 25,
     "metadata": {},
     "output_type": "execute_result"
    }
   ],
   "source": [
    "centr = km.cluster_centers_\n",
    "centr"
   ]
  },
  {
   "cell_type": "code",
   "execution_count": null,
   "id": "2f8273af",
   "metadata": {},
   "outputs": [],
   "source": []
  },
  {
   "cell_type": "code",
   "execution_count": 29,
   "id": "ee42a1c6",
   "metadata": {},
   "outputs": [
    {
     "data": {
      "text/html": [
       "<div>\n",
       "<style scoped>\n",
       "    .dataframe tbody tr th:only-of-type {\n",
       "        vertical-align: middle;\n",
       "    }\n",
       "\n",
       "    .dataframe tbody tr th {\n",
       "        vertical-align: top;\n",
       "    }\n",
       "\n",
       "    .dataframe thead th {\n",
       "        text-align: right;\n",
       "    }\n",
       "</style>\n",
       "<table border=\"1\" class=\"dataframe\">\n",
       "  <thead>\n",
       "    <tr style=\"text-align: right;\">\n",
       "      <th></th>\n",
       "      <th>0</th>\n",
       "      <th>1</th>\n",
       "      <th>2</th>\n",
       "      <th>3</th>\n",
       "      <th>4</th>\n",
       "      <th>5</th>\n",
       "      <th>6</th>\n",
       "      <th>7</th>\n",
       "      <th>8</th>\n",
       "      <th>9</th>\n",
       "    </tr>\n",
       "  </thead>\n",
       "  <tbody>\n",
       "    <tr>\n",
       "      <th>0</th>\n",
       "      <td>1.000000</td>\n",
       "      <td>0.112314</td>\n",
       "      <td>0.024393</td>\n",
       "      <td>0.076519</td>\n",
       "      <td>0.091720</td>\n",
       "      <td>0.140030</td>\n",
       "      <td>0.010791</td>\n",
       "      <td>0.006369</td>\n",
       "      <td>0.019608</td>\n",
       "      <td>0.0</td>\n",
       "    </tr>\n",
       "    <tr>\n",
       "      <th>1</th>\n",
       "      <td>0.333333</td>\n",
       "      <td>0.031847</td>\n",
       "      <td>0.000000</td>\n",
       "      <td>0.000000</td>\n",
       "      <td>0.031847</td>\n",
       "      <td>0.000000</td>\n",
       "      <td>0.000000</td>\n",
       "      <td>0.000000</td>\n",
       "      <td>0.000000</td>\n",
       "      <td>0.0</td>\n",
       "    </tr>\n",
       "    <tr>\n",
       "      <th>2</th>\n",
       "      <td>1.000000</td>\n",
       "      <td>0.048195</td>\n",
       "      <td>0.011243</td>\n",
       "      <td>0.016647</td>\n",
       "      <td>0.043312</td>\n",
       "      <td>0.031963</td>\n",
       "      <td>0.003597</td>\n",
       "      <td>0.006369</td>\n",
       "      <td>0.000000</td>\n",
       "      <td>0.0</td>\n",
       "    </tr>\n",
       "    <tr>\n",
       "      <th>3</th>\n",
       "      <td>0.333333</td>\n",
       "      <td>0.023567</td>\n",
       "      <td>0.000000</td>\n",
       "      <td>0.000000</td>\n",
       "      <td>0.023567</td>\n",
       "      <td>0.000000</td>\n",
       "      <td>0.000000</td>\n",
       "      <td>0.000000</td>\n",
       "      <td>0.000000</td>\n",
       "      <td>0.0</td>\n",
       "    </tr>\n",
       "    <tr>\n",
       "      <th>4</th>\n",
       "      <td>0.333333</td>\n",
       "      <td>0.045223</td>\n",
       "      <td>0.000000</td>\n",
       "      <td>0.000000</td>\n",
       "      <td>0.043312</td>\n",
       "      <td>0.013699</td>\n",
       "      <td>0.000000</td>\n",
       "      <td>0.000000</td>\n",
       "      <td>0.000000</td>\n",
       "      <td>0.0</td>\n",
       "    </tr>\n",
       "    <tr>\n",
       "      <th>...</th>\n",
       "      <td>...</td>\n",
       "      <td>...</td>\n",
       "      <td>...</td>\n",
       "      <td>...</td>\n",
       "      <td>...</td>\n",
       "      <td>...</td>\n",
       "      <td>...</td>\n",
       "      <td>...</td>\n",
       "      <td>...</td>\n",
       "      <td>...</td>\n",
       "    </tr>\n",
       "    <tr>\n",
       "      <th>7045</th>\n",
       "      <td>0.333333</td>\n",
       "      <td>0.018896</td>\n",
       "      <td>0.000000</td>\n",
       "      <td>0.000000</td>\n",
       "      <td>0.018896</td>\n",
       "      <td>0.000000</td>\n",
       "      <td>0.000000</td>\n",
       "      <td>0.000000</td>\n",
       "      <td>0.000000</td>\n",
       "      <td>0.0</td>\n",
       "    </tr>\n",
       "    <tr>\n",
       "      <th>7046</th>\n",
       "      <td>0.333333</td>\n",
       "      <td>0.003397</td>\n",
       "      <td>0.000000</td>\n",
       "      <td>0.000000</td>\n",
       "      <td>0.002972</td>\n",
       "      <td>0.001522</td>\n",
       "      <td>0.000000</td>\n",
       "      <td>0.006369</td>\n",
       "      <td>0.000000</td>\n",
       "      <td>0.0</td>\n",
       "    </tr>\n",
       "    <tr>\n",
       "      <th>7047</th>\n",
       "      <td>0.333333</td>\n",
       "      <td>0.000425</td>\n",
       "      <td>0.000000</td>\n",
       "      <td>0.000000</td>\n",
       "      <td>0.000212</td>\n",
       "      <td>0.001522</td>\n",
       "      <td>0.000000</td>\n",
       "      <td>0.000000</td>\n",
       "      <td>0.000000</td>\n",
       "      <td>0.0</td>\n",
       "    </tr>\n",
       "    <tr>\n",
       "      <th>7048</th>\n",
       "      <td>0.333333</td>\n",
       "      <td>0.074522</td>\n",
       "      <td>0.000572</td>\n",
       "      <td>0.006425</td>\n",
       "      <td>0.074098</td>\n",
       "      <td>0.003044</td>\n",
       "      <td>0.000000</td>\n",
       "      <td>0.000000</td>\n",
       "      <td>0.000000</td>\n",
       "      <td>0.0</td>\n",
       "    </tr>\n",
       "    <tr>\n",
       "      <th>7049</th>\n",
       "      <td>0.333333</td>\n",
       "      <td>0.003609</td>\n",
       "      <td>0.000000</td>\n",
       "      <td>0.000000</td>\n",
       "      <td>0.003609</td>\n",
       "      <td>0.000000</td>\n",
       "      <td>0.000000</td>\n",
       "      <td>0.000000</td>\n",
       "      <td>0.000000</td>\n",
       "      <td>0.0</td>\n",
       "    </tr>\n",
       "  </tbody>\n",
       "</table>\n",
       "<p>7050 rows × 10 columns</p>\n",
       "</div>"
      ],
      "text/plain": [
       "             0         1         2         3         4         5         6   \n",
       "0     1.000000  0.112314  0.024393  0.076519  0.091720  0.140030  0.010791  \\\n",
       "1     0.333333  0.031847  0.000000  0.000000  0.031847  0.000000  0.000000   \n",
       "2     1.000000  0.048195  0.011243  0.016647  0.043312  0.031963  0.003597   \n",
       "3     0.333333  0.023567  0.000000  0.000000  0.023567  0.000000  0.000000   \n",
       "4     0.333333  0.045223  0.000000  0.000000  0.043312  0.013699  0.000000   \n",
       "...        ...       ...       ...       ...       ...       ...       ...   \n",
       "7045  0.333333  0.018896  0.000000  0.000000  0.018896  0.000000  0.000000   \n",
       "7046  0.333333  0.003397  0.000000  0.000000  0.002972  0.001522  0.000000   \n",
       "7047  0.333333  0.000425  0.000000  0.000000  0.000212  0.001522  0.000000   \n",
       "7048  0.333333  0.074522  0.000572  0.006425  0.074098  0.003044  0.000000   \n",
       "7049  0.333333  0.003609  0.000000  0.000000  0.003609  0.000000  0.000000   \n",
       "\n",
       "             7         8    9  \n",
       "0     0.006369  0.019608  0.0  \n",
       "1     0.000000  0.000000  0.0  \n",
       "2     0.006369  0.000000  0.0  \n",
       "3     0.000000  0.000000  0.0  \n",
       "4     0.000000  0.000000  0.0  \n",
       "...        ...       ...  ...  \n",
       "7045  0.000000  0.000000  0.0  \n",
       "7046  0.006369  0.000000  0.0  \n",
       "7047  0.000000  0.000000  0.0  \n",
       "7048  0.000000  0.000000  0.0  \n",
       "7049  0.000000  0.000000  0.0  \n",
       "\n",
       "[7050 rows x 10 columns]"
      ]
     },
     "execution_count": 29,
     "metadata": {},
     "output_type": "execute_result"
    }
   ],
   "source": [
    "live_sell"
   ]
  },
  {
   "cell_type": "code",
   "execution_count": 28,
   "id": "2adf85ce",
   "metadata": {
    "scrolled": false
   },
   "outputs": [
    {
     "data": {
      "text/plain": [
       "0    0.568322\n",
       "1    0.048857\n",
       "2    0.010689\n",
       "3    0.011689\n",
       "4    0.045657\n",
       "5    0.019374\n",
       "6    0.004638\n",
       "7    0.004436\n",
       "8    0.004778\n",
       "9    0.003651\n",
       "dtype: float64"
      ]
     },
     "execution_count": 28,
     "metadata": {},
     "output_type": "execute_result"
    }
   ],
   "source": [
    "total_mean = np.mean(live_sell,axis=0)\n",
    "total_mean"
   ]
  },
  {
   "cell_type": "code",
   "execution_count": 41,
   "id": "6bc55211",
   "metadata": {},
   "outputs": [],
   "source": [
    "inter_cluster_var = 0.0\n",
    "for i in range(2):\n",
    "    cluster_label = live_sell[km.labels_ == i]\n",
    "    distance = np.linalg.norm(centr[i] - total_mean)\n",
    "    inter_cluster_var += len(cluster_label)*distance**2"
   ]
  },
  {
   "cell_type": "code",
   "execution_count": 42,
   "id": "78c50c83",
   "metadata": {},
   "outputs": [
    {
     "name": "stdout",
     "output_type": "stream",
     "text": [
      "659.2216327989073\n"
     ]
    }
   ],
   "source": [
    "print(inter_cluster_var)"
   ]
  },
  {
   "cell_type": "code",
   "execution_count": 26,
   "id": "beb917ab",
   "metadata": {},
   "outputs": [
    {
     "name": "stdout",
     "output_type": "stream",
     "text": [
      "Inter cluster variance : 0.4135707905131698\n"
     ]
    }
   ],
   "source": [
    "inter_cluster_variance = 0.0\n",
    "for i in range(2):\n",
    "    for j in range(i+1,2):\n",
    "        distance = np.linalg.norm(centr[i] - centr[j])\n",
    "        inter_cluster_variance += distance**2\n",
    "        print(f'Inter cluster variance : {inter_cluster_variance}')"
   ]
  },
  {
   "cell_type": "code",
   "execution_count": 107,
   "id": "c853b9db",
   "metadata": {},
   "outputs": [
    {
     "name": "stdout",
     "output_type": "stream",
     "text": [
      "Inter cluster variance : 0.41197132800473807\n"
     ]
    }
   ],
   "source": [
    "print(f'Inter cluster variance : {inter_cluster_variance}')"
   ]
  },
  {
   "cell_type": "code",
   "execution_count": 132,
   "id": "59f764cd",
   "metadata": {},
   "outputs": [
    {
     "name": "stdout",
     "output_type": "stream",
     "text": [
      "0\n",
      "144\n"
     ]
    }
   ],
   "source": [
    "a = 0\n",
    "b += 6\n",
    "print(a)\n",
    "a = b\n",
    "print(a)"
   ]
  },
  {
   "cell_type": "code",
   "execution_count": null,
   "id": "dd0e5e20",
   "metadata": {},
   "outputs": [],
   "source": []
  },
  {
   "cell_type": "code",
   "execution_count": null,
   "id": "fb9bf2f8",
   "metadata": {},
   "outputs": [],
   "source": []
  },
  {
   "cell_type": "code",
   "execution_count": null,
   "id": "33cc33f6",
   "metadata": {},
   "outputs": [],
   "source": []
  },
  {
   "cell_type": "code",
   "execution_count": null,
   "id": "1a659aae",
   "metadata": {},
   "outputs": [],
   "source": []
  },
  {
   "cell_type": "code",
   "execution_count": null,
   "id": "7eed54ef",
   "metadata": {},
   "outputs": [],
   "source": []
  },
  {
   "cell_type": "code",
   "execution_count": null,
   "id": "24d2cf84",
   "metadata": {},
   "outputs": [],
   "source": []
  },
  {
   "cell_type": "code",
   "execution_count": null,
   "id": "5e33f797",
   "metadata": {},
   "outputs": [],
   "source": []
  },
  {
   "cell_type": "code",
   "execution_count": null,
   "id": "05addd09",
   "metadata": {},
   "outputs": [],
   "source": []
  },
  {
   "cell_type": "code",
   "execution_count": null,
   "id": "142e5174",
   "metadata": {},
   "outputs": [],
   "source": []
  },
  {
   "cell_type": "code",
   "execution_count": null,
   "id": "a5ce1eb3",
   "metadata": {},
   "outputs": [],
   "source": []
  },
  {
   "cell_type": "code",
   "execution_count": null,
   "id": "8dea1aeb",
   "metadata": {},
   "outputs": [],
   "source": []
  },
  {
   "cell_type": "code",
   "execution_count": null,
   "id": "31d5be21",
   "metadata": {},
   "outputs": [],
   "source": []
  },
  {
   "cell_type": "code",
   "execution_count": null,
   "id": "8c32eafa",
   "metadata": {},
   "outputs": [],
   "source": []
  },
  {
   "cell_type": "code",
   "execution_count": null,
   "id": "c4d40296",
   "metadata": {},
   "outputs": [],
   "source": []
  },
  {
   "cell_type": "code",
   "execution_count": null,
   "id": "f2403542",
   "metadata": {},
   "outputs": [],
   "source": []
  },
  {
   "cell_type": "code",
   "execution_count": null,
   "id": "2750df9e",
   "metadata": {},
   "outputs": [],
   "source": []
  },
  {
   "cell_type": "code",
   "execution_count": null,
   "id": "e3650b5b",
   "metadata": {},
   "outputs": [],
   "source": []
  },
  {
   "cell_type": "code",
   "execution_count": null,
   "id": "4eb12d23",
   "metadata": {},
   "outputs": [],
   "source": []
  },
  {
   "cell_type": "code",
   "execution_count": null,
   "id": "38afeb16",
   "metadata": {},
   "outputs": [],
   "source": []
  },
  {
   "cell_type": "code",
   "execution_count": null,
   "id": "4800ed6f",
   "metadata": {},
   "outputs": [],
   "source": []
  },
  {
   "cell_type": "code",
   "execution_count": null,
   "id": "70de1f93",
   "metadata": {},
   "outputs": [],
   "source": []
  },
  {
   "cell_type": "code",
   "execution_count": null,
   "id": "58b06bc2",
   "metadata": {},
   "outputs": [],
   "source": []
  },
  {
   "cell_type": "code",
   "execution_count": null,
   "id": "c65ad507",
   "metadata": {},
   "outputs": [],
   "source": []
  }
 ],
 "metadata": {
  "kernelspec": {
   "display_name": "Python 3 (ipykernel)",
   "language": "python",
   "name": "python3"
  },
  "language_info": {
   "codemirror_mode": {
    "name": "ipython",
    "version": 3
   },
   "file_extension": ".py",
   "mimetype": "text/x-python",
   "name": "python",
   "nbconvert_exporter": "python",
   "pygments_lexer": "ipython3",
   "version": "3.11.3"
  }
 },
 "nbformat": 4,
 "nbformat_minor": 5
}
